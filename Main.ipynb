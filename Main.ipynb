{
 "cells": [
  {
   "cell_type": "markdown",
   "metadata": {},
   "source": [
    "# The Code"
   ]
  },
  {
   "cell_type": "markdown",
   "metadata": {},
   "source": [
    "## Import Libraries"
   ]
  },
  {
   "cell_type": "code",
   "execution_count": 62,
   "metadata": {
    "pycharm": {
     "is_executing": false
    }
   },
   "outputs": [],
   "source": [
    "#1\n",
    "from gtts import gTTS \n",
    "import os\n",
    "import wikipedia\n",
    "from google.cloud import translate\n",
    "#from ClassText2Speech import speak_chinese\n",
    "from xpinyin import Pinyin\n",
    "import jieba\n",
    "import jieba.posseg as pos\n",
    "import jieba.analyse as ana\n",
    "import sys\n",
    "from importlib import *\n",
    "from collections import Counter\n",
    "import re\n",
    "import pandas as pd\n",
    "from sklearn.feature_extraction.text import CountVectorizer\n",
    "\n",
    "import time\n",
    "#import matplotlib.pyplot as plt\n",
    "#%matplotlib inline\n",
    "\n",
    "# for displaying wikipedia image as output from code cell \n",
    "from PIL import Image\n",
    "import requests\n",
    "from io import BytesIO\n",
    "\n",
    "from IPython.core.display import Image, display\n"
   ]
  },
  {
   "cell_type": "markdown",
   "metadata": {},
   "source": [
    "###### Link to API Credentials\n",
    "###### Google Translate API  [Setting up API Keys](https://support.google.com/googleapi/answer/6158862?hl=en )"
   ]
  },
  {
   "cell_type": "code",
   "execution_count": 63,
   "metadata": {
    "pycharm": {
     "is_executing": false
    }
   },
   "outputs": [],
   "source": [
    "#api key for google api\n",
    "## you'll need to get your own API key using google cloud console and replace the path name\n",
    "os.environ[\"GOOGLE_APPLICATION_CREDENTIALS\"] = \"/Users/db/Desktop/APIKeys/LearnChinese.json\""
   ]
  },
  {
   "cell_type": "markdown",
   "metadata": {},
   "source": [
    "##### Instantiate Pinyin Generator"
   ]
  },
  {
   "cell_type": "code",
   "execution_count": 64,
   "metadata": {},
   "outputs": [],
   "source": [
    "#Instantiate Frequently Used \n",
    "p = Pinyin()"
   ]
  },
  {
   "cell_type": "markdown",
   "metadata": {},
   "source": [
    "### Stop Word List \n",
    "#### (add words unnecessary words here as they occur)"
   ]
  },
  {
   "cell_type": "markdown",
   "metadata": {},
   "source": [
    "Its probably also a useful idea to put vocabulary words that you have already mastered into this list."
   ]
  },
  {
   "cell_type": "code",
   "execution_count": 65,
   "metadata": {},
   "outputs": [],
   "source": [
    "# List of common words that should be excluded from analysis\n",
    "jieba_stop_words = [\"、\",\"。\",\"〈\",\"〉\",\"《\",\"》\",\"一\",\"一些\",\"一何\",\"一切\",\"一则\",\n",
    "                    \"一方面\",\"一旦\",\"一来\",\"一样\",\"一般\",\"一转眼\",\"七\",\"万一\",\"三\",\n",
    "                    \"上\",\"上下\",\"下\",\"不\",\"不仅\",\"不但\",\"不光\",\"不单\",\"不只\",\"不外乎\",\n",
    "                    \"不如\",\"不妨\",\"不尽\",\"不尽然\",\"不得\",\"不怕\",\"不惟\",\"不成\",\"不拘\",\n",
    "                    \"不料\",\"不是\",\"不比\",\"不然\",\"不特\",\"不独\",\"不管\",\"不至于\",\"不若\",\n",
    "                    \"不论\",\"不过\",\"不问\",\"与\",\"与其\",\"与其说\",\"与否\",\"与此同时\",\"且\",\n",
    "                    \"且不说\",\"且说\",\"两者\",\"个\",\"个别\",\"中\",\"临\",\"为\",\"为了\",\"为什么\",\n",
    "                    \"为何\",\"为止\",\"为此\",\"为着\",\"乃\",\"乃至\",\"乃至于\",\"么\",\"之\",\"之一\",\n",
    "                    \"之所以\",\"之类\",\"乌乎\",\"乎\",\"乘\",\"九\",\"也\",\"也好\",\"也罢\",\"了\",\"二\",\n",
    "                    \"二来\",\"于\",\"于是\",\"于是乎\",\"云云\",\"云尔\",\"五\",\"些\",\"亦\",\"人\",\"人们\",\n",
    "                    \"人家\",\"什\",\"什么\",\"什么样\",\"今\",\"介于\",\"仍\",\"仍旧\",\"从\",\"从此\",\"从而\",\n",
    "                    \"他\",\"他人\",\"他们\",\"他们们\",\"以\",\"以上\",\"以为\",\"以便\",\"以免\",\"以及\",\n",
    "                    \"以故\",\"以期\",\"以来\",\"以至\",\"以至于\",\"以致\",\"们\",\"任\",\"任何\",\"任凭\",\n",
    "                    \"会\",\"似的\",\"但\",\"但凡\",\"但是\",\"何\",\"何以\",\"何况\",\"何处\",\"何时\",\"余外\",\n",
    "                    \"作为\",\"你\",\"你们\",\"使\",\"使得\",\"例如\",\"依\",\"依据\",\"依照\",\"便于\",\"俺\",\n",
    "                    \"俺们\",\"倘\",\"倘使\",\"倘或\",\"倘然\",\"倘若\",\"借\",\"借傥然\",\"假使\",\"假如\",\n",
    "                    \"假若\",\"做\",\"像\",\"儿\",\"先不先\",\"光是\",\"全体\",\"全部\",\"八\",\"六\",\"兮\",\n",
    "                    \"共\",\"关于\",\"关于具体地说\",\"其\",\"其一\",\"其中\",\"其二\",\"其他\",\"其余\",\n",
    "                    \"其它\",\"其次\",\"具体地说\",\"具体说来\",\"兼之\",\"内\",\"再\",\"再其次\",\"再则\",\n",
    "                    \"再有\",\"再者\",\"再者说\",\"再说\",\"冒\",\"冲\",\"况且\",\"几\",\"几时\",\"凡\",\"凡是\",\n",
    "                    \"凭\",\"凭借\",\"出于\",\"出来\",\"分\",\"分别\",\"则\",\"则甚\",\"别\",\"别人\",\"别处\",\"别是\",\n",
    "                    \"别的\",\"别管\",\"别说\",\"到\",\"前后\",\"前此\",\"前者\",\"加之\",\"加以\",\"即\",\"即令\",\"即使\",\n",
    "                    \"即便\",\"即如\",\"即或\",\"即若\",\"却\",\"去\",\"又\",\"又及\",\"及\",\"及其\",\"及至\",\"反之\",\n",
    "                    \"反而\",\"反过来\",\"反过来说\",\"受到\",\"另\",\"另一方面\",\"另外\",\"另悉\",\"只\",\"只当\",\n",
    "                    \"只怕\",\"只是\",\"只有\",\"只消\",\"只要\",\"只限\",\"叫\",\"叮咚\",\"可\",\"可以\",\"可是\",\n",
    "                    \"可见\",\"各\",\"各个\",\"各位\",\"各种\",\"各自\",\"同\",\"同时\",\"后\",\"后者\",\"向\",\"向使\",\n",
    "                    \"向着\",\"吓\",\"吗\",\"否则\",\"吧\",\"吧哒\",\"含\",\"吱\",\"呀\",\"呃\",\"呕\",\"呗\",\"呜\",\"呜呼\",\n",
    "                    \"呢\",\"呵\",\"呵呵\",\"呸\",\"呼哧\",\"咋\",\"和\",\"咚\",\"咦\",\"咧\",\"咱\",\"咱们\",\"咳\",\"哇\",\n",
    "                    \"哈\",\"哈哈\",\"哉\",\"哎\",\"哎呀\",\"哎哟\",\"哗\",\"哟\",\"哦\",\"哩\",\"哪\",\"哪个\",\"哪些\",\n",
    "                    \"哪儿\",\"哪天\",\"哪年\",\"哪怕\",\"哪样\",\"哪边\",\"哪里\",\"哼\",\"哼唷\",\"唉\",\"唯有\",\"啊\",\n",
    "                    \"啐\",\"啥\",\"啦\",\"啪达\",\"啷当\",\"喂\",\"喏\",\"喔唷\",\"喽\",\"嗡\",\"嗡嗡\",\"嗬\",\"嗯\",\"嗳\",\n",
    "                    \"嘎\",\"嘎登\",\"嘘\",\"嘛\",\"嘻\",\"嘿\",\"嘿嘿\",\"四\",\"因\",\"因为\",\"因了\",\"因此\",\"因着\",\n",
    "                    \"因而\",\"固然\",\"在\",\"在下\",\"在于\",\"地\",\"基于\",\"处在\",\"多\",\"多么\",\"多少\",\"大\",\n",
    "                    \"大家\",\"她\",\"她们\",\"好\",\"如\",\"如上\",\"如上所述\",\"如下\",\"如何\",\"如其\",\"如同\",\"如是\",\n",
    "                    \"如果\",\"如此\",\"如若\",\"始而\",\"孰料\",\"孰知\",\"宁\",\"宁可\",\"宁愿\",\"宁肯\",\"它\",\"它们\",\n",
    "                    \"对\",\"对于\",\"对待\",\"对方\",\"对比\",\"将\",\"小\",\"尔\",\"尔后\",\"尔尔\",\"尚且\",\"就\",\"就是\",\n",
    "                    \"就是了\",\"就是说\",\"就算\",\"就要\",\"尽\",\"尽管\",\"尽管如此\",\"岂但\",\"己\",\"已\",\"已矣\",\"巴\",\n",
    "                    \"巴巴\",\"年\",\"并\",\"并且\",\"庶乎\",\"庶几\",\"开外\",\"开始\",\"归\",\"归齐\",\"当\",\"当地\",\"当然\",\n",
    "                    \"当着\",\"彼\",\"彼时\",\"彼此\",\"往\",\"待\",\"很\",\"得\",\"得了\",\"怎\",\"怎么\",\"怎么办\",\"怎么样\",\n",
    "                    \"怎奈\",\"怎样\",\"总之\",\"总的来看\",\"总的来说\",\"总的说来\",\"总而言之\",\"恰恰相反\",\"您\",\"惟其\",\n",
    "                    \"慢说\",\"我\",\"我们\",\"或\",\"或则\",\"或是\",\"或曰\",\"或者\",\"截至\",\"所\",\"所以\",\"所在\",\"所幸\",\n",
    "                    \"所有\",\"才\",\"才能\",\"打\",\"打从\",\"把\",\"抑或\",\"拿\",\"按\",\"按照\",\"换句话说\",\"换言之\",\"据\",\n",
    "                    \"据此\",\"接着\",\"故\",\"故此\",\"故而\",\"旁人\",\"无\",\"无宁\",\"无论\",\"既\",\"既往\",\"既是\",\"既然\",\n",
    "                    \"日\",\"时\",\"时候\",\"是\",\"是以\",\"是的\",\"更\",\"曾\",\"替\",\"替代\",\"最\",\"月\",\"有\",\"有些\",\"有关\",\n",
    "                    \"有及\",\"有时\",\"有的\",\"望\",\"朝\",\"朝着\",\"本\",\"本人\",\"本地\",\"本着\",\"本身\",\"来\",\"来着\",\"来自\",\n",
    "                    \"来说\",\"极了\",\"果然\",\"果真\",\"某\",\"某个\",\"某些\",\"某某\",\"根据\",\"欤\",\"正值\",\"正如\",\"正巧\",\n",
    "                    \"正是\",\"此\",\"此地\",\"此处\",\"此外\",\"此时\",\"此次\",\"此间\",\"毋宁\",\"每\",\"每当\",\"比\",\"比及\",\n",
    "                    \"比如\",\"比方\",\"没奈何\",\"沿\",\"沿着\",\"漫说\",\"焉\",\"然则\",\"然后\",\"然而\",\"照\",\"照着\",\"犹且\",\n",
    "                    \"犹自\",\"甚且\",\"甚么\",\"甚或\",\"甚而\",\"甚至\",\"甚至于\",\"用\",\"用来\",\"由\",\"由于\",\"由是\",\n",
    "                    \"由此\",\"由此可见\",\"的\",\"的确\",\"的话\",\"直到\",\"相对而言\",\"省得\",\"看\",\"眨眼\",\"着\",\"着呢\",\n",
    "                    \"矣\",\"矣乎\",\"矣哉\",\"离\",\"秒\",\"竟而\",\"第\",\"等\",\"等到\",\"等等\",\"简言之\",\"管\",\"类如\",\n",
    "                    \"紧接着\",\"纵\",\"纵令\",\"纵使\",\"纵然\",\"经\",\"经过\",\"结果\",\"给\",\"继之\",\"继后\",\"继而\",\n",
    "                    \"综上所述\",\"罢了\",\"者\",\"而\",\"而且\",\"而况\",\"而后\",\"而外\",\"而已\",\"而是\",\"而言\",\"能\",\n",
    "                    \"能否\",\"腾\",\"自\",\"自个儿\",\"自从\",\"自各儿\",\"自后\",\"自家\",\"自己\",\"自打\",\"自身\",\"至\",\n",
    "                    \"至于\",\"至今\",\"至若\",\"致\",\"般的\",\"若\",\"若夫\",\"若是\",\"若果\",\"若非\",\"莫不然\",\"莫如\",\n",
    "                    \"莫若\",\"虽\",\"虽则\",\"虽然\",\"虽说\",\"被\",\"要\",\"要不\",\"要不是\",\"要不然\",\"要么\",\"要是\",\n",
    "                    \"譬喻\",\"譬如\",\"让\",\"许多\",\"论\",\"设使\",\"设或\",\"设若\",\"诚如\",\"诚然\",\"该\",\"说\",\"说来\",\n",
    "                    \"请\",\"诸\",\"诸位\",\"诸如\",\"谁\",\"谁人\",\"谁料\",\"谁知\",\"贼死\",\"赖以\",\"赶\",\"起\",\"起见\",\n",
    "                    \"趁\",\"趁着\",\"越是\",\"距\",\"跟\",\"较\",\"较之\",\"边\",\"过\",\"还\",\"还是\",\"还有\",\"还要\",\"这\",\n",
    "                    \"这一来\",\"这个\",\"这么\",\"这么些\",\"这么样\",\"这么点儿\",\"这些\",\"这会儿\",\"这儿\",\"这就是说\",\n",
    "                    \"这时\",\"这样\",\"这次\",\"这般\",\"这边\",\"这里\",\"进而\",\"连\",\"连同\",\"逐步\",\"通过\",\"遵循\",\n",
    "                    \"遵照\",\"那\",\"那个\",\"那么\",\"那么些\",\"那么样\",\"那些\",\"那会儿\",\"那儿\",\"那时\",\"那样\",\n",
    "                    \"那般\",\"那边\",\"那里\",\"都\",\"鄙人\",\"鉴于\",\"针对\",\"阿\",\"除\",\"除了\",\"除外\",\"除开\",\n",
    "                    \"除此之外\",\"除非\",\"随\",\"随后\",\"随时\",\"随着\",\"难道说\",\"零\",\"非\",\"非但\",\"非徒\",\"非特\",\n",
    "                    \"非独\",\"靠\",\"顺\",\"顺着\",\"首先\",\"︿\",\"！\",\"＃\",\"＄\",\"％\",\"＆\",\"（\",\"）\",\"＊\",\"＋\",\n",
    "                    \"，\",\"０\",\"１\",\"２\",\"３\",\"４\",\"５\",\"６\",\"７\",\"８\",\"９\",\"：\",\n",
    "                    \"；\",\"＜\",\"＞\",\"？\",\"＠\",\"［\",\"］\",\"｛\",\"｜\",\"｝\",\"～\",\"￥\",\"\\n\", \" \",'借傥', '兼',\n",
    "                    '前', '唷', '啪', '啷', '喔', '天', '始', '漫', '然', '特', '竟', '莫', '见', '设', '达',\n",
    "                   \"!\" ,\"#\", \"$\", \"%\",\"&\", \"(\",\")\",\"+\", \"-\",\"/\",\"=\",\"'\", \",\", \"?\",\"他們\",\"並且\",\n",
    "                   \"擁有\",\"擁有\",\"一個\",\"我們\"]"
   ]
  },
  {
   "cell_type": "markdown",
   "metadata": {},
   "source": [
    "##### english2chinese\n",
    "##### Simple English to Chinese Translation Function"
   ]
  },
  {
   "cell_type": "code",
   "execution_count": 66,
   "metadata": {
    "pycharm": {
     "is_executing": false,
     "name": "#%%\n"
    }
   },
   "outputs": [],
   "source": [
    "#translates English to Chinese for the initial search of wikipedia in language being learned\n",
    "def english2chinese(topic, display=False):\n",
    "    \"\"\" Translates a word or words from English into Traditional Mandarin\"\"\"\n",
    "    # Instantiates a client\n",
    "    translate_client = translate.Client()\n",
    "    text = topic\n",
    "    # Defines the target language\n",
    "    target = 'zh-TW'\n",
    "    # Translates some text into traditional Chinese\n",
    "    translation = translate_client.translate(text, target_language=target)\n",
    "    text_ = translation['translatedText']\n",
    "    if display == True:\n",
    "        print(text_)\n",
    "        return text_\n",
    "    else:\n",
    "        return text_"
   ]
  },
  {
   "cell_type": "markdown",
   "metadata": {},
   "source": [
    "##### chinese2english()\n",
    "##### Simple Chinese to English Translation Function"
   ]
  },
  {
   "cell_type": "code",
   "execution_count": 68,
   "metadata": {
    "pycharm": {
     "is_executing": false
    }
   },
   "outputs": [],
   "source": [
    "# translates Chinese to English\n",
    "def chinese2english(topic):\n",
    "    # Instantiates a client\n",
    "    translate_client = translate.Client()\n",
    "    text = topic\n",
    "    # Defines the target language\n",
    "    target = 'en'\n",
    "    # Translates some text into traditional Chinese\n",
    "    translation = translate_client.translate(text, target_language=target)\n",
    "    text_ = translation['translatedText']\n",
    "    if display == True:\n",
    "        print(text_)\n",
    "        return text_\n",
    "    else:\n",
    "        return text_"
   ]
  },
  {
   "cell_type": "markdown",
   "metadata": {},
   "source": [
    "##### e2c_say_anything()\n",
    "##### English to Chinese With TTS"
   ]
  },
  {
   "cell_type": "code",
   "execution_count": 69,
   "metadata": {
    "pycharm": {
     "is_executing": false,
     "name": "#%%\n"
    }
   },
   "outputs": [],
   "source": [
    "def e2c_say_anything():\n",
    "    translate_client = translate.Client()\n",
    "    text = input('What word would you like to say in Chinese(Mandarin)：')\n",
    "    # Defines the target language\n",
    "    target = 'zh-TW'\n",
    "    # Translates some text into traditional Chinese\n",
    "    translation = translate_client.translate(text, target_language=target)\n",
    "    text_ = translation['translatedText']\n",
    "    # Build the voice request, select the language code (\"en-US\") and the ssml\n",
    "    # voice gender (\"neutral\")\n",
    "    \n",
    "    #add pinyin\n",
    "    pinyin_with_numbers = p.get_pinyin(text_, tone_marks='numbers')\n",
    "    tts = gTTS(text=text_, lang='zh-TW')\n",
    "    tts.save(\"good.mp3\")\n",
    "    \n",
    "    print(\"Input: {}\".format(text))\n",
    "    print(\"Traditional Chinese Translation: {}\".format(text_))\n",
    "    print(\"Pinyin Translation with tone numbers: {}\".format(pinyin_with_numbers))\n",
    "    return os.system(\"mpg321 good.mp3\")"
   ]
  },
  {
   "cell_type": "markdown",
   "metadata": {},
   "source": [
    "##### c2e_say_anything\n",
    "##### Chinese To English"
   ]
  },
  {
   "cell_type": "code",
   "execution_count": 70,
   "metadata": {
    "pycharm": {
     "is_executing": false
    }
   },
   "outputs": [],
   "source": [
    "def c2e_say_anything(text):\n",
    "    translate_client = translate.Client()\n",
    "    text = text\n",
    "    # Defines the target language\n",
    "    target = 'en'\n",
    "    # Translates some text into traditional Chinese\n",
    "    translation = translate_client.translate(text, target_language=target)\n",
    "    text_ = translation['translatedText']\n",
    "    # Build the voice request, select the language code (\"en-US\") and the ssml\n",
    "    # voice gender (\"neutral\")\n",
    "    \n",
    "    \n",
    "    tts = gTTS(text=text_, lang='en')\n",
    "    tts.save(\"good.mp3\")\n",
    "    \n",
    "    print(\"Input: {}\".format(text))\n",
    "    print(\"Output: {}\".format(text_))\n",
    "    return os.system(\"mpg321 good.mp3\")\n",
    "    "
   ]
  },
  {
   "cell_type": "markdown",
   "metadata": {},
   "source": [
    "##### search_wikipedia()"
   ]
  },
  {
   "cell_type": "code",
   "execution_count": 71,
   "metadata": {
    "pycharm": {
     "is_executing": false
    }
   },
   "outputs": [],
   "source": [
    "def search_wikipedia(topic, display=False,results=3):\n",
    "    wikipedia.set_lang('zh-TW')\n",
    "    search_phrase = english2chinese(topic)\n",
    "    pages = wikipedia.search(search_phrase, results=3)\n",
    "    if display == True:\n",
    "        print('the pages in native language', pages)\n",
    "        return pages\n",
    "    else:\n",
    "        return pages"
   ]
  },
  {
   "cell_type": "markdown",
   "metadata": {},
   "source": [
    "##### get_content()"
   ]
  },
  {
   "cell_type": "code",
   "execution_count": 72,
   "metadata": {
    "pycharm": {
     "is_executing": false
    }
   },
   "outputs": [],
   "source": [
    "def get_content(topic):\n",
    "    \"\"\"Takes a topic Parameter and returns the wikipedia page that best matches that topic in Chinese\"\"\"\n",
    "    wikipedia.set_lang('zh-TW')\n",
    "    search_phrase = english2chinese(topic)\n",
    "    wiki_page = wikipedia.page(search_phrase,preload=True)\n",
    "    return wiki_page.content"
   ]
  },
  {
   "cell_type": "markdown",
   "metadata": {},
   "source": [
    "##### wikipedia_page_choices()"
   ]
  },
  {
   "cell_type": "code",
   "execution_count": 73,
   "metadata": {
    "pycharm": {
     "is_executing": false
    }
   },
   "outputs": [],
   "source": [
    "def wikipedia_page_choices(topic, language='en'):\n",
    "    pages = search_wikipedia(topic)\n",
    "    translate_client = translate.Client()\n",
    "    target_en = language\n",
    "    print('Titles of wikipedia page')\n",
    "    for page in pages:\n",
    "            english_translation = translate_client.translate(page, target_language=target_en)\n",
    "            english_text = english_translation['translatedText']\n",
    "            print(english_text)\n",
    "        "
   ]
  },
  {
   "cell_type": "markdown",
   "metadata": {},
   "source": [
    "##### getChinese()\n",
    "##### prep data for jieba text analysis"
   ]
  },
  {
   "cell_type": "code",
   "execution_count": 74,
   "metadata": {
    "pycharm": {
     "is_executing": false
    }
   },
   "outputs": [],
   "source": [
    "def getChinese(content):\n",
    "    content = content.decode(\"utf-8\") # convert content from str to unicode\n",
    "    filtrate = re.compile(u'[^\\u4E00-\\u9FA5]') # non-Chinese unicode range\n",
    "    content = filtrate.sub(r'', content) # remove all non-Chinese characters\n",
    "    content = content.encode(\"utf-8\") # convert unicode back to str\n",
    "    return content"
   ]
  },
  {
   "cell_type": "markdown",
   "metadata": {},
   "source": [
    "##### combine_wikipedia_pages"
   ]
  },
  {
   "cell_type": "code",
   "execution_count": 75,
   "metadata": {
    "pycharm": {
     "is_executing": false
    }
   },
   "outputs": [],
   "source": [
    "corpus = []\n",
    "def combine_wikipedia_pages(query, suggestion=True, results=2):\n",
    "    translated_query = english2chinese(query)\n",
    "    titles = wikipedia.search(translated_query, results=results)\n",
    "    filter('', titles)\n",
    "    for title in titles:\n",
    "        webpage = wikipedia.page(title)\n",
    "        content = webpage.content\n",
    "        image = webpage.images[::-1]\n",
    "#         content = getChinese(content)\n",
    "        #remove links\n",
    "        #content = re.sub(\"http://[a-zA-z./\\d]*\",\" \",content)\n",
    "        # remove emojis\n",
    "        #content = re.sub(\"\\[.{0,12}\\]\",\" \",content)\n",
    "        #remove digits\n",
    "        #content = re.sub(\"\\d\",\"\",content)\n",
    "        # remove elipses\n",
    "        #content = re.sub(\"\\.*\",\" \",content)\n",
    "        #extract and remove all english characters\n",
    "        english = re.findall(\"[a-z]+\",content)\n",
    "        content = re.sub(\"[a-z]+\",\"\",content)\n",
    "        print(\"page added to content\")\n",
    "        f = open(\"myfile.txt\", \"a\")\n",
    "        f.write(str(content))\n",
    "        f.close()\n",
    "        picture =Image(url= str(image[0]))\n",
    "        corpus.append(content)\n",
    "        \n",
    "    print(\"process finished, all content stored in myfile.txt\")\n",
    "    display(picture)"
   ]
  },
  {
   "cell_type": "code",
   "execution_count": 76,
   "metadata": {},
   "outputs": [
    {
     "name": "stdout",
     "output_type": "stream",
     "text": [
      "page added to content\n",
      "page added to content\n",
      "process finished, all content stored in myfile.txt\n"
     ]
    },
    {
     "data": {
      "text/html": [
       "<img src=\"https://upload.wikimedia.org/wikipedia/zh/2/29/Batman_was_spreading_the_cloak.jpg\"/>"
      ],
      "text/plain": [
       "<IPython.core.display.Image object>"
      ]
     },
     "metadata": {},
     "output_type": "display_data"
    }
   ],
   "source": [
    "combine_wikipedia_pages('Batman')"
   ]
  },
  {
   "cell_type": "code",
   "execution_count": 77,
   "metadata": {},
   "outputs": [],
   "source": [
    "#read in the text file\n",
    "with open('myfile.txt','r')as myfile:\n",
    "    data=myfile.read()"
   ]
  },
  {
   "cell_type": "code",
   "execution_count": 78,
   "metadata": {},
   "outputs": [],
   "source": [
    "#segement and save \n",
    "seg_list = jieba.cut(data, cut_all=False)"
   ]
  },
  {
   "cell_type": "code",
   "execution_count": 79,
   "metadata": {},
   "outputs": [],
   "source": [
    "seg_list = [str(word) for word in seg_list if not str(word) in jieba_stop_words]"
   ]
  },
  {
   "cell_type": "code",
   "execution_count": 80,
   "metadata": {
    "scrolled": true
   },
   "outputs": [],
   "source": [
    "new_text = (\"\".join(seg_list))"
   ]
  },
  {
   "cell_type": "code",
   "execution_count": 81,
   "metadata": {},
   "outputs": [],
   "source": [
    "\n",
    "f=open('myfile.txt','w')\n",
    "f.write(new_text)\n",
    "f.close()"
   ]
  },
  {
   "cell_type": "code",
   "execution_count": 82,
   "metadata": {},
   "outputs": [],
   "source": [
    "top20 = jieba.analyse.extract_tags(new_text, topK=20, withWeight=True)"
   ]
  },
  {
   "cell_type": "code",
   "execution_count": 83,
   "metadata": {},
   "outputs": [],
   "source": [
    "vocab = pd.DataFrame(top20, columns=['Chinese','Weight'])"
   ]
  },
  {
   "cell_type": "code",
   "execution_count": 84,
   "metadata": {},
   "outputs": [],
   "source": [
    "def get_pinyin(word, tone_marks='numbers'):\n",
    "    return p.get_pinyin(word, tone_marks='numbers')"
   ]
  },
  {
   "cell_type": "code",
   "execution_count": 85,
   "metadata": {},
   "outputs": [],
   "source": [
    "vocab['Pinyin']= vocab['Chinese'].apply(get_pinyin)\n",
    "    "
   ]
  },
  {
   "cell_type": "code",
   "execution_count": 86,
   "metadata": {},
   "outputs": [],
   "source": [
    "vocab['English'] = vocab['Chinese'].apply(chinese2english)"
   ]
  },
  {
   "cell_type": "code",
   "execution_count": 87,
   "metadata": {
    "scrolled": true
   },
   "outputs": [
    {
     "data": {
      "text/html": [
       "<div>\n",
       "<style scoped>\n",
       "    .dataframe tbody tr th:only-of-type {\n",
       "        vertical-align: middle;\n",
       "    }\n",
       "\n",
       "    .dataframe tbody tr th {\n",
       "        vertical-align: top;\n",
       "    }\n",
       "\n",
       "    .dataframe thead th {\n",
       "        text-align: right;\n",
       "    }\n",
       "</style>\n",
       "<table border=\"1\" class=\"dataframe\">\n",
       "  <thead>\n",
       "    <tr style=\"text-align: right;\">\n",
       "      <th></th>\n",
       "      <th>Chinese</th>\n",
       "      <th>Weight</th>\n",
       "      <th>Pinyin</th>\n",
       "      <th>English</th>\n",
       "    </tr>\n",
       "  </thead>\n",
       "  <tbody>\n",
       "    <tr>\n",
       "      <td>0</td>\n",
       "      <td>蝙蝠侠</td>\n",
       "      <td>0.426200</td>\n",
       "      <td>bian1-fu2-xia2</td>\n",
       "      <td>Batman</td>\n",
       "    </tr>\n",
       "    <tr>\n",
       "      <td>1</td>\n",
       "      <td>蝙蝠</td>\n",
       "      <td>0.241834</td>\n",
       "      <td>bian1-fu2</td>\n",
       "      <td>bat</td>\n",
       "    </tr>\n",
       "    <tr>\n",
       "      <td>2</td>\n",
       "      <td>漫画</td>\n",
       "      <td>0.099122</td>\n",
       "      <td>man4-hua4</td>\n",
       "      <td>Comic</td>\n",
       "    </tr>\n",
       "    <tr>\n",
       "      <td>3</td>\n",
       "      <td>DC</td>\n",
       "      <td>0.075523</td>\n",
       "      <td>DC</td>\n",
       "      <td>DC</td>\n",
       "    </tr>\n",
       "    <tr>\n",
       "      <td>4</td>\n",
       "      <td>罗宾</td>\n",
       "      <td>0.064301</td>\n",
       "      <td>luo1-bin1</td>\n",
       "      <td>Robin</td>\n",
       "    </tr>\n",
       "    <tr>\n",
       "      <td>5</td>\n",
       "      <td>布鲁斯</td>\n",
       "      <td>0.056487</td>\n",
       "      <td>bu4-lu3-si1</td>\n",
       "      <td>Bruce</td>\n",
       "    </tr>\n",
       "    <tr>\n",
       "      <td>6</td>\n",
       "      <td>故事</td>\n",
       "      <td>0.045367</td>\n",
       "      <td>gu4-shi4</td>\n",
       "      <td>story</td>\n",
       "    </tr>\n",
       "    <tr>\n",
       "      <td>7</td>\n",
       "      <td>凯恩</td>\n",
       "      <td>0.042068</td>\n",
       "      <td>kai3-en1</td>\n",
       "      <td>Kane</td>\n",
       "    </tr>\n",
       "    <tr>\n",
       "      <td>8</td>\n",
       "      <td>漫畫</td>\n",
       "      <td>0.041286</td>\n",
       "      <td>man4-hua4</td>\n",
       "      <td>Comic</td>\n",
       "    </tr>\n",
       "    <tr>\n",
       "      <td>9</td>\n",
       "      <td>连载</td>\n",
       "      <td>0.039444</td>\n",
       "      <td>lian2-zai4</td>\n",
       "      <td>Serial</td>\n",
       "    </tr>\n",
       "    <tr>\n",
       "      <td>10</td>\n",
       "      <td>芬格</td>\n",
       "      <td>0.039272</td>\n",
       "      <td>fen1-ge2</td>\n",
       "      <td>Finger</td>\n",
       "    </tr>\n",
       "    <tr>\n",
       "      <td>11</td>\n",
       "      <td>超人</td>\n",
       "      <td>0.037996</td>\n",
       "      <td>chao1-ren2</td>\n",
       "      <td>Superman</td>\n",
       "    </tr>\n",
       "    <tr>\n",
       "      <td>12</td>\n",
       "      <td>小丑</td>\n",
       "      <td>0.035630</td>\n",
       "      <td>xiao3-chou3</td>\n",
       "      <td>clown</td>\n",
       "    </tr>\n",
       "    <tr>\n",
       "      <td>13</td>\n",
       "      <td>迪克</td>\n",
       "      <td>0.034493</td>\n",
       "      <td>di2-ke4</td>\n",
       "      <td>Dick</td>\n",
       "    </tr>\n",
       "    <tr>\n",
       "      <td>14</td>\n",
       "      <td>角色</td>\n",
       "      <td>0.033716</td>\n",
       "      <td>jiao3-se4</td>\n",
       "      <td>Character</td>\n",
       "    </tr>\n",
       "    <tr>\n",
       "      <td>15</td>\n",
       "      <td>52</td>\n",
       "      <td>0.032223</td>\n",
       "      <td>52</td>\n",
       "      <td>52</td>\n",
       "    </tr>\n",
       "    <tr>\n",
       "      <td>16</td>\n",
       "      <td>英雄</td>\n",
       "      <td>0.031490</td>\n",
       "      <td>ying1-xiong2</td>\n",
       "      <td>hero</td>\n",
       "    </tr>\n",
       "    <tr>\n",
       "      <td>17</td>\n",
       "      <td>黑暗</td>\n",
       "      <td>0.028402</td>\n",
       "      <td>hei1-an4</td>\n",
       "      <td>dark</td>\n",
       "    </tr>\n",
       "    <tr>\n",
       "      <td>18</td>\n",
       "      <td>侦探</td>\n",
       "      <td>0.027963</td>\n",
       "      <td>zhen1-tan4</td>\n",
       "      <td>detective</td>\n",
       "    </tr>\n",
       "    <tr>\n",
       "      <td>19</td>\n",
       "      <td>布魯斯</td>\n",
       "      <td>0.027524</td>\n",
       "      <td>bu4-lu3-si1</td>\n",
       "      <td>Bruce</td>\n",
       "    </tr>\n",
       "  </tbody>\n",
       "</table>\n",
       "</div>"
      ],
      "text/plain": [
       "   Chinese    Weight          Pinyin    English\n",
       "0      蝙蝠侠  0.426200  bian1-fu2-xia2     Batman\n",
       "1       蝙蝠  0.241834       bian1-fu2        bat\n",
       "2       漫画  0.099122       man4-hua4      Comic\n",
       "3       DC  0.075523              DC         DC\n",
       "4       罗宾  0.064301       luo1-bin1      Robin\n",
       "5      布鲁斯  0.056487     bu4-lu3-si1      Bruce\n",
       "6       故事  0.045367        gu4-shi4      story\n",
       "7       凯恩  0.042068        kai3-en1       Kane\n",
       "8       漫畫  0.041286       man4-hua4      Comic\n",
       "9       连载  0.039444      lian2-zai4     Serial\n",
       "10      芬格  0.039272        fen1-ge2     Finger\n",
       "11      超人  0.037996      chao1-ren2   Superman\n",
       "12      小丑  0.035630     xiao3-chou3      clown\n",
       "13      迪克  0.034493         di2-ke4       Dick\n",
       "14      角色  0.033716       jiao3-se4  Character\n",
       "15      52  0.032223              52         52\n",
       "16      英雄  0.031490    ying1-xiong2       hero\n",
       "17      黑暗  0.028402        hei1-an4       dark\n",
       "18      侦探  0.027963      zhen1-tan4  detective\n",
       "19     布魯斯  0.027524     bu4-lu3-si1      Bruce"
      ]
     },
     "execution_count": 87,
     "metadata": {},
     "output_type": "execute_result"
    }
   ],
   "source": [
    "vocab"
   ]
  },
  {
   "cell_type": "markdown",
   "metadata": {},
   "source": [
    "##### pronounce_chinese()"
   ]
  },
  {
   "cell_type": "code",
   "execution_count": 88,
   "metadata": {},
   "outputs": [],
   "source": [
    "def pronounce_chinese(text_):\n",
    "    tts = gTTS(text=text_, lang='zh-TW')\n",
    "    tts.save(\"good.mp3\")\n",
    "    return os.system(\"mpg321 good.mp3\")"
   ]
  },
  {
   "cell_type": "markdown",
   "metadata": {},
   "source": [
    "# Run the Below Cell Every Time"
   ]
  },
  {
   "cell_type": "markdown",
   "metadata": {},
   "source": [
    "The Wikipedia (text only) content from how ever many pages you choose to pull from will be written to a text file.  The rerun function clears the file."
   ]
  },
  {
   "cell_type": "markdown",
   "metadata": {},
   "source": [
    "##### rerun()"
   ]
  },
  {
   "cell_type": "code",
   "execution_count": 89,
   "metadata": {},
   "outputs": [],
   "source": [
    "def rerun():\n",
    "    with open('myfile.txt', 'w') as f:\n",
    "        f.write('')\n",
    "        f.close()"
   ]
  },
  {
   "cell_type": "code",
   "execution_count": 90,
   "metadata": {},
   "outputs": [],
   "source": [
    "rerun()"
   ]
  },
  {
   "cell_type": "markdown",
   "metadata": {},
   "source": [
    "# Working MVP"
   ]
  },
  {
   "cell_type": "markdown",
   "metadata": {},
   "source": [
    "# play around with the search phrase a bit"
   ]
  },
  {
   "cell_type": "markdown",
   "metadata": {},
   "source": [
    "##### get_search_suggestions()"
   ]
  },
  {
   "cell_type": "code",
   "execution_count": 91,
   "metadata": {},
   "outputs": [],
   "source": [
    "def get_search_suggestions():\n",
    "    # user defined input\n",
    "    topic = input('What would you like to search for?: ')\n",
    "    # set the target language you would like to use\n",
    "    # Chinese Tradtional ='zh-TW' https://ctrlq.org/code/19899-google-translate-languages\n",
    "    target = 'zh-TW'\n",
    "    native_language ='en'\n",
    "    # Instantiates Google Translate API\n",
    "    translate_client = translate.Client()\n",
    "    translation = translate_client.translate(topic, target_language=target)\n",
    "\n",
    "    # search wikipedia China\n",
    "    wikipedia.set_lang(target)\n",
    "    suggestions = wikipedia.search( translation['translatedText'])\n",
    "    print(suggestions)\n",
    "    print('try one of the following search phrases')\n",
    "    #translate Chinese results into English\n",
    "    for suggestion in suggestions:\n",
    "        native = translate_client.translate(str(suggestion), target_language=native_language)\n",
    "        print(native['translatedText'])\n",
    "#     native_translation = translate_client.translate(suggestions, target_language=native_language)\n",
    "#     print(native_language['translatedText'])"
   ]
  },
  {
   "cell_type": "code",
   "execution_count": 95,
   "metadata": {
    "scrolled": false
   },
   "outputs": [
    {
     "name": "stdout",
     "output_type": "stream",
     "text": [
      "What would you like to search for?: tennis\n",
      "['网球', '國際網球總會', '职业网球联合会', '法国网球公开赛', '澳大利亚网球公开赛', '大滿貫 (網球)', '美国网球公开赛', '夏季奧林匹克運動會網球比賽', '网球王子', '温布尔登网球锦标赛']\n",
      "try one of the following search phrases\n",
      "tennis\n",
      "International Tennis Association\n",
      "Professional tennis federation\n",
      "French Open\n",
      "Australian Open Tennis Championships\n",
      "Grand Slam (tennis)\n",
      "US Open Tennis Tournament\n",
      "Summer Olympic Games Tennis Competition\n",
      "tennis Prince\n",
      "Wimbledon Tennis Championships\n"
     ]
    }
   ],
   "source": [
    "get_search_suggestions()"
   ]
  },
  {
   "cell_type": "markdown",
   "metadata": {},
   "source": [
    "#### functions"
   ]
  },
  {
   "cell_type": "code",
   "execution_count": 96,
   "metadata": {},
   "outputs": [],
   "source": [
    "# translates Chinese to English\n",
    "def english2chinese(topic):\n",
    "    # Instantiates a client\n",
    "    translate_client = translate.Client()\n",
    "    text = topic\n",
    "    # Defines the target language\n",
    "    target = 'zh-TW'\n",
    "    # Translates some text into traditional Chinese\n",
    "    translation = translate_client.translate(text, target_language=target)\n",
    "    text_ = translation['translatedText']\n",
    "    if display == True:\n",
    "        print(text_)\n",
    "        return text_\n",
    "    else:\n",
    "        return text_"
   ]
  },
  {
   "cell_type": "markdown",
   "metadata": {},
   "source": [
    "##### application()"
   ]
  },
  {
   "cell_type": "code",
   "execution_count": 97,
   "metadata": {},
   "outputs": [],
   "source": [
    "def application(results=2):\n",
    "    topic=input('Type one of the above search suggestions here: ')\n",
    "    combine_wikipedia_pages(topic, results=results)\n",
    "    #read in the text file\n",
    "    with open('myfile.txt','r')as myfile:\n",
    "        data=myfile.read()\n",
    "    \n",
    "    #segement and save \n",
    "    seg_list = jieba.cut(data, cut_all=False)\n",
    "    seg_list = [str(word) for word in seg_list if not str(word) in jieba_stop_words]\n",
    "    new_text = (\"\".join(seg_list))\n",
    "    #overwrite myfile.txt without stopwords\n",
    "    f=open('myfile.txt','w')\n",
    "    f.write(new_text)\n",
    "    f.close()\n",
    "    #20 most important vocabulary words to know\n",
    "    top20 = jieba.analyse.extract_tags(new_text, topK=20, withWeight=True)\n",
    "    #store to dataframe\n",
    "    vocab = pd.DataFrame(top20, columns=['Chinese','Weight'])\n",
    "    #add pinyin to dataframe\n",
    "    vocab['Pinyin']= vocab['Chinese'].apply(get_pinyin)\n",
    "    #add english translation to dataframe\n",
    "    vocab['English'] = vocab['Chinese'].apply(chinese2english)\n",
    "    return vocab"
   ]
  },
  {
   "cell_type": "markdown",
   "metadata": {},
   "source": [
    "#### Sanity Check"
   ]
  },
  {
   "cell_type": "code",
   "execution_count": 98,
   "metadata": {
    "scrolled": false
   },
   "outputs": [
    {
     "name": "stdout",
     "output_type": "stream",
     "text": [
      "Type one of the above search suggestions here: tennis\n",
      "page added to content\n",
      "page added to content\n",
      "process finished, all content stored in myfile.txt\n"
     ]
    },
    {
     "data": {
      "text/html": [
       "<img src=\"https://upload.wikimedia.org/wikipedia/zh/7/7c/%E5%9C%8B%E9%9A%9B%E7%B6%B2%E7%90%83%E7%B8%BD%E6%9C%83logo.jpg\"/>"
      ],
      "text/plain": [
       "<IPython.core.display.Image object>"
      ]
     },
     "metadata": {},
     "output_type": "display_data"
    }
   ],
   "source": [
    "df = application()"
   ]
  },
  {
   "cell_type": "code",
   "execution_count": 99,
   "metadata": {},
   "outputs": [
    {
     "data": {
      "text/html": [
       "<div>\n",
       "<style scoped>\n",
       "    .dataframe tbody tr th:only-of-type {\n",
       "        vertical-align: middle;\n",
       "    }\n",
       "\n",
       "    .dataframe tbody tr th {\n",
       "        vertical-align: top;\n",
       "    }\n",
       "\n",
       "    .dataframe thead th {\n",
       "        text-align: right;\n",
       "    }\n",
       "</style>\n",
       "<table border=\"1\" class=\"dataframe\">\n",
       "  <thead>\n",
       "    <tr style=\"text-align: right;\">\n",
       "      <th></th>\n",
       "      <th>Chinese</th>\n",
       "      <th>Weight</th>\n",
       "      <th>Pinyin</th>\n",
       "      <th>English</th>\n",
       "    </tr>\n",
       "  </thead>\n",
       "  <tbody>\n",
       "    <tr>\n",
       "      <td>0</td>\n",
       "      <td>发球</td>\n",
       "      <td>0.242717</td>\n",
       "      <td>fa1-qiu2</td>\n",
       "      <td>Serve</td>\n",
       "    </tr>\n",
       "    <tr>\n",
       "      <td>1</td>\n",
       "      <td>网球</td>\n",
       "      <td>0.172912</td>\n",
       "      <td>wang3-qiu2</td>\n",
       "      <td>tennis</td>\n",
       "    </tr>\n",
       "    <tr>\n",
       "      <td>2</td>\n",
       "      <td>網球</td>\n",
       "      <td>0.147126</td>\n",
       "      <td>wang3-qiu2</td>\n",
       "      <td>tennis</td>\n",
       "    </tr>\n",
       "    <tr>\n",
       "      <td>3</td>\n",
       "      <td>比赛</td>\n",
       "      <td>0.114516</td>\n",
       "      <td>bi3-sai4</td>\n",
       "      <td>game</td>\n",
       "    </tr>\n",
       "    <tr>\n",
       "      <td>4</td>\n",
       "      <td>击球</td>\n",
       "      <td>0.104621</td>\n",
       "      <td>ji2-qiu2</td>\n",
       "      <td>Batting</td>\n",
       "    </tr>\n",
       "    <tr>\n",
       "      <td>5</td>\n",
       "      <td>反手</td>\n",
       "      <td>0.072001</td>\n",
       "      <td>fan3-shou3</td>\n",
       "      <td>Backhand</td>\n",
       "    </tr>\n",
       "    <tr>\n",
       "      <td>6</td>\n",
       "      <td>正手</td>\n",
       "      <td>0.064369</td>\n",
       "      <td>zheng4-shou3</td>\n",
       "      <td>Forehand</td>\n",
       "    </tr>\n",
       "    <tr>\n",
       "      <td>7</td>\n",
       "      <td>球网</td>\n",
       "      <td>0.053428</td>\n",
       "      <td>qiu2-wang3</td>\n",
       "      <td>Net</td>\n",
       "    </tr>\n",
       "    <tr>\n",
       "      <td>8</td>\n",
       "      <td>截击</td>\n",
       "      <td>0.052552</td>\n",
       "      <td>jie2-ji2</td>\n",
       "      <td>Intercept</td>\n",
       "    </tr>\n",
       "    <tr>\n",
       "      <td>9</td>\n",
       "      <td>比賽</td>\n",
       "      <td>0.050085</td>\n",
       "      <td>bi3-sai4</td>\n",
       "      <td>game</td>\n",
       "    </tr>\n",
       "    <tr>\n",
       "      <td>10</td>\n",
       "      <td>打出</td>\n",
       "      <td>0.048977</td>\n",
       "      <td>da3-chu1</td>\n",
       "      <td>Hit out</td>\n",
       "    </tr>\n",
       "    <tr>\n",
       "      <td>11</td>\n",
       "      <td>决胜局</td>\n",
       "      <td>0.047561</td>\n",
       "      <td>jue2-sheng4-ju2</td>\n",
       "      <td>Decisive game</td>\n",
       "    </tr>\n",
       "    <tr>\n",
       "      <td>12</td>\n",
       "      <td>回球</td>\n",
       "      <td>0.043825</td>\n",
       "      <td>hui2-qiu2</td>\n",
       "      <td>Returning the ball</td>\n",
       "    </tr>\n",
       "    <tr>\n",
       "      <td>13</td>\n",
       "      <td>拍柄</td>\n",
       "      <td>0.042599</td>\n",
       "      <td>pai1-bing3</td>\n",
       "      <td>Handle</td>\n",
       "    </tr>\n",
       "    <tr>\n",
       "      <td>14</td>\n",
       "      <td>赢得</td>\n",
       "      <td>0.041434</td>\n",
       "      <td>ying2-de2</td>\n",
       "      <td>win</td>\n",
       "    </tr>\n",
       "    <tr>\n",
       "      <td>15</td>\n",
       "      <td>球拍</td>\n",
       "      <td>0.039797</td>\n",
       "      <td>qiu2-pai1</td>\n",
       "      <td>racket</td>\n",
       "    </tr>\n",
       "    <tr>\n",
       "      <td>16</td>\n",
       "      <td>接发球</td>\n",
       "      <td>0.039480</td>\n",
       "      <td>jie1-fa1-qiu2</td>\n",
       "      <td>Receiving the ball</td>\n",
       "    </tr>\n",
       "    <tr>\n",
       "      <td>17</td>\n",
       "      <td>深度</td>\n",
       "      <td>0.038258</td>\n",
       "      <td>shen1-du4</td>\n",
       "      <td>depth</td>\n",
       "    </tr>\n",
       "    <tr>\n",
       "      <td>18</td>\n",
       "      <td>球员</td>\n",
       "      <td>0.038248</td>\n",
       "      <td>qiu2-yuan2</td>\n",
       "      <td>Player</td>\n",
       "    </tr>\n",
       "    <tr>\n",
       "      <td>19</td>\n",
       "      <td>球手</td>\n",
       "      <td>0.037564</td>\n",
       "      <td>qiu2-shou3</td>\n",
       "      <td>Player</td>\n",
       "    </tr>\n",
       "  </tbody>\n",
       "</table>\n",
       "</div>"
      ],
      "text/plain": [
       "   Chinese    Weight           Pinyin             English\n",
       "0       发球  0.242717         fa1-qiu2               Serve\n",
       "1       网球  0.172912       wang3-qiu2              tennis\n",
       "2       網球  0.147126       wang3-qiu2              tennis\n",
       "3       比赛  0.114516         bi3-sai4                game\n",
       "4       击球  0.104621         ji2-qiu2             Batting\n",
       "5       反手  0.072001       fan3-shou3            Backhand\n",
       "6       正手  0.064369     zheng4-shou3            Forehand\n",
       "7       球网  0.053428       qiu2-wang3                 Net\n",
       "8       截击  0.052552         jie2-ji2           Intercept\n",
       "9       比賽  0.050085         bi3-sai4                game\n",
       "10      打出  0.048977         da3-chu1             Hit out\n",
       "11     决胜局  0.047561  jue2-sheng4-ju2       Decisive game\n",
       "12      回球  0.043825        hui2-qiu2  Returning the ball\n",
       "13      拍柄  0.042599       pai1-bing3              Handle\n",
       "14      赢得  0.041434        ying2-de2                 win\n",
       "15      球拍  0.039797        qiu2-pai1              racket\n",
       "16     接发球  0.039480    jie1-fa1-qiu2  Receiving the ball\n",
       "17      深度  0.038258        shen1-du4               depth\n",
       "18      球员  0.038248       qiu2-yuan2              Player\n",
       "19      球手  0.037564       qiu2-shou3              Player"
      ]
     },
     "execution_count": 99,
     "metadata": {},
     "output_type": "execute_result"
    }
   ],
   "source": [
    "df"
   ]
  },
  {
   "cell_type": "code",
   "execution_count": 100,
   "metadata": {},
   "outputs": [],
   "source": [
    "# keep only simplified or traditional \n",
    "df.drop_duplicates(subset='English',keep='first', inplace=True)"
   ]
  },
  {
   "cell_type": "code",
   "execution_count": 101,
   "metadata": {
    "scrolled": true
   },
   "outputs": [
    {
     "data": {
      "text/html": [
       "<div>\n",
       "<style scoped>\n",
       "    .dataframe tbody tr th:only-of-type {\n",
       "        vertical-align: middle;\n",
       "    }\n",
       "\n",
       "    .dataframe tbody tr th {\n",
       "        vertical-align: top;\n",
       "    }\n",
       "\n",
       "    .dataframe thead th {\n",
       "        text-align: right;\n",
       "    }\n",
       "</style>\n",
       "<table border=\"1\" class=\"dataframe\">\n",
       "  <thead>\n",
       "    <tr style=\"text-align: right;\">\n",
       "      <th></th>\n",
       "      <th>漢字(traditional)</th>\n",
       "      <th>weight</th>\n",
       "      <th>pinyin(numbers)</th>\n",
       "      <th>English</th>\n",
       "    </tr>\n",
       "  </thead>\n",
       "  <tbody>\n",
       "    <tr>\n",
       "      <td>0</td>\n",
       "      <td>发球</td>\n",
       "      <td>0.242717</td>\n",
       "      <td>fa1-qiu2</td>\n",
       "      <td>Serve</td>\n",
       "    </tr>\n",
       "    <tr>\n",
       "      <td>1</td>\n",
       "      <td>网球</td>\n",
       "      <td>0.172912</td>\n",
       "      <td>wang3-qiu2</td>\n",
       "      <td>tennis</td>\n",
       "    </tr>\n",
       "    <tr>\n",
       "      <td>3</td>\n",
       "      <td>比赛</td>\n",
       "      <td>0.114516</td>\n",
       "      <td>bi3-sai4</td>\n",
       "      <td>game</td>\n",
       "    </tr>\n",
       "    <tr>\n",
       "      <td>4</td>\n",
       "      <td>击球</td>\n",
       "      <td>0.104621</td>\n",
       "      <td>ji2-qiu2</td>\n",
       "      <td>Batting</td>\n",
       "    </tr>\n",
       "    <tr>\n",
       "      <td>5</td>\n",
       "      <td>反手</td>\n",
       "      <td>0.072001</td>\n",
       "      <td>fan3-shou3</td>\n",
       "      <td>Backhand</td>\n",
       "    </tr>\n",
       "    <tr>\n",
       "      <td>6</td>\n",
       "      <td>正手</td>\n",
       "      <td>0.064369</td>\n",
       "      <td>zheng4-shou3</td>\n",
       "      <td>Forehand</td>\n",
       "    </tr>\n",
       "    <tr>\n",
       "      <td>7</td>\n",
       "      <td>球网</td>\n",
       "      <td>0.053428</td>\n",
       "      <td>qiu2-wang3</td>\n",
       "      <td>Net</td>\n",
       "    </tr>\n",
       "    <tr>\n",
       "      <td>8</td>\n",
       "      <td>截击</td>\n",
       "      <td>0.052552</td>\n",
       "      <td>jie2-ji2</td>\n",
       "      <td>Intercept</td>\n",
       "    </tr>\n",
       "    <tr>\n",
       "      <td>10</td>\n",
       "      <td>打出</td>\n",
       "      <td>0.048977</td>\n",
       "      <td>da3-chu1</td>\n",
       "      <td>Hit out</td>\n",
       "    </tr>\n",
       "    <tr>\n",
       "      <td>11</td>\n",
       "      <td>决胜局</td>\n",
       "      <td>0.047561</td>\n",
       "      <td>jue2-sheng4-ju2</td>\n",
       "      <td>Decisive game</td>\n",
       "    </tr>\n",
       "    <tr>\n",
       "      <td>12</td>\n",
       "      <td>回球</td>\n",
       "      <td>0.043825</td>\n",
       "      <td>hui2-qiu2</td>\n",
       "      <td>Returning the ball</td>\n",
       "    </tr>\n",
       "    <tr>\n",
       "      <td>13</td>\n",
       "      <td>拍柄</td>\n",
       "      <td>0.042599</td>\n",
       "      <td>pai1-bing3</td>\n",
       "      <td>Handle</td>\n",
       "    </tr>\n",
       "    <tr>\n",
       "      <td>14</td>\n",
       "      <td>赢得</td>\n",
       "      <td>0.041434</td>\n",
       "      <td>ying2-de2</td>\n",
       "      <td>win</td>\n",
       "    </tr>\n",
       "    <tr>\n",
       "      <td>15</td>\n",
       "      <td>球拍</td>\n",
       "      <td>0.039797</td>\n",
       "      <td>qiu2-pai1</td>\n",
       "      <td>racket</td>\n",
       "    </tr>\n",
       "    <tr>\n",
       "      <td>16</td>\n",
       "      <td>接发球</td>\n",
       "      <td>0.039480</td>\n",
       "      <td>jie1-fa1-qiu2</td>\n",
       "      <td>Receiving the ball</td>\n",
       "    </tr>\n",
       "    <tr>\n",
       "      <td>17</td>\n",
       "      <td>深度</td>\n",
       "      <td>0.038258</td>\n",
       "      <td>shen1-du4</td>\n",
       "      <td>depth</td>\n",
       "    </tr>\n",
       "    <tr>\n",
       "      <td>18</td>\n",
       "      <td>球员</td>\n",
       "      <td>0.038248</td>\n",
       "      <td>qiu2-yuan2</td>\n",
       "      <td>Player</td>\n",
       "    </tr>\n",
       "  </tbody>\n",
       "</table>\n",
       "</div>"
      ],
      "text/plain": [
       "   漢字(traditional)    weight  pinyin(numbers)             English\n",
       "0               发球  0.242717         fa1-qiu2               Serve\n",
       "1               网球  0.172912       wang3-qiu2              tennis\n",
       "3               比赛  0.114516         bi3-sai4                game\n",
       "4               击球  0.104621         ji2-qiu2             Batting\n",
       "5               反手  0.072001       fan3-shou3            Backhand\n",
       "6               正手  0.064369     zheng4-shou3            Forehand\n",
       "7               球网  0.053428       qiu2-wang3                 Net\n",
       "8               截击  0.052552         jie2-ji2           Intercept\n",
       "10              打出  0.048977         da3-chu1             Hit out\n",
       "11             决胜局  0.047561  jue2-sheng4-ju2       Decisive game\n",
       "12              回球  0.043825        hui2-qiu2  Returning the ball\n",
       "13              拍柄  0.042599       pai1-bing3              Handle\n",
       "14              赢得  0.041434        ying2-de2                 win\n",
       "15              球拍  0.039797        qiu2-pai1              racket\n",
       "16             接发球  0.039480    jie1-fa1-qiu2  Receiving the ball\n",
       "17              深度  0.038258        shen1-du4               depth\n",
       "18              球员  0.038248       qiu2-yuan2              Player"
      ]
     },
     "execution_count": 101,
     "metadata": {},
     "output_type": "execute_result"
    }
   ],
   "source": [
    "# Rename the columns to something I like a bit better.\n",
    "df.columns = ['漢字(traditional)', 'weight', 'pinyin(numbers)', 'English']\n",
    "df"
   ]
  },
  {
   "cell_type": "markdown",
   "metadata": {},
   "source": [
    "# Bring in cc-cedict dictionary"
   ]
  },
  {
   "cell_type": "code",
   "execution_count": 102,
   "metadata": {},
   "outputs": [],
   "source": [
    "dictionary = pd.read_csv('cedict.csv',sep='|', skiprows=0)"
   ]
  },
  {
   "cell_type": "code",
   "execution_count": 103,
   "metadata": {
    "scrolled": true
   },
   "outputs": [],
   "source": [
    "dictionary.columns = [\"漢字(traditional)\", \"汉字(simplified)\", \"pinyin(marks)\", \"English2\"]"
   ]
  },
  {
   "cell_type": "code",
   "execution_count": 104,
   "metadata": {},
   "outputs": [],
   "source": [
    "df2= pd.merge(df, dictionary, on=\"漢字(traditional)\", how='left')"
   ]
  },
  {
   "cell_type": "code",
   "execution_count": 105,
   "metadata": {
    "scrolled": false
   },
   "outputs": [
    {
     "data": {
      "text/plain": [
       "Index(['漢字(traditional)', 'weight', 'pinyin(numbers)', 'English',\n",
       "       '汉字(simplified)', 'pinyin(marks)', 'English2'],\n",
       "      dtype='object')"
      ]
     },
     "execution_count": 105,
     "metadata": {},
     "output_type": "execute_result"
    }
   ],
   "source": [
    "df2.columns"
   ]
  },
  {
   "cell_type": "code",
   "execution_count": 112,
   "metadata": {},
   "outputs": [],
   "source": [
    "# rearrange the columns in a way that makes sense\n",
    "df2 = df2[[\"English\",\"English2\",\"weight\",\"漢字(traditional)\",\"汉字(simplified)\",\"pinyin(marks)\",\"pinyin(numbers)\"]]"
   ]
  },
  {
   "cell_type": "code",
   "execution_count": 113,
   "metadata": {},
   "outputs": [
    {
     "data": {
      "text/html": [
       "<div>\n",
       "<style scoped>\n",
       "    .dataframe tbody tr th:only-of-type {\n",
       "        vertical-align: middle;\n",
       "    }\n",
       "\n",
       "    .dataframe tbody tr th {\n",
       "        vertical-align: top;\n",
       "    }\n",
       "\n",
       "    .dataframe thead th {\n",
       "        text-align: right;\n",
       "    }\n",
       "</style>\n",
       "<table border=\"1\" class=\"dataframe\">\n",
       "  <thead>\n",
       "    <tr style=\"text-align: right;\">\n",
       "      <th></th>\n",
       "      <th>English</th>\n",
       "      <th>English2</th>\n",
       "      <th>weight</th>\n",
       "      <th>漢字(traditional)</th>\n",
       "      <th>汉字(simplified)</th>\n",
       "      <th>pinyin(marks)</th>\n",
       "      <th>pinyin(numbers)</th>\n",
       "    </tr>\n",
       "  </thead>\n",
       "  <tbody>\n",
       "    <tr>\n",
       "      <td>0</td>\n",
       "      <td>Serve</td>\n",
       "      <td>NaN</td>\n",
       "      <td>0.242717</td>\n",
       "      <td>发球</td>\n",
       "      <td>NaN</td>\n",
       "      <td>NaN</td>\n",
       "      <td>fa1-qiu2</td>\n",
       "    </tr>\n",
       "    <tr>\n",
       "      <td>1</td>\n",
       "      <td>tennis</td>\n",
       "      <td>NaN</td>\n",
       "      <td>0.172912</td>\n",
       "      <td>网球</td>\n",
       "      <td>NaN</td>\n",
       "      <td>NaN</td>\n",
       "      <td>wang3-qiu2</td>\n",
       "    </tr>\n",
       "    <tr>\n",
       "      <td>2</td>\n",
       "      <td>game</td>\n",
       "      <td>NaN</td>\n",
       "      <td>0.114516</td>\n",
       "      <td>比赛</td>\n",
       "      <td>NaN</td>\n",
       "      <td>NaN</td>\n",
       "      <td>bi3-sai4</td>\n",
       "    </tr>\n",
       "    <tr>\n",
       "      <td>3</td>\n",
       "      <td>Batting</td>\n",
       "      <td>NaN</td>\n",
       "      <td>0.104621</td>\n",
       "      <td>击球</td>\n",
       "      <td>NaN</td>\n",
       "      <td>NaN</td>\n",
       "      <td>ji2-qiu2</td>\n",
       "    </tr>\n",
       "    <tr>\n",
       "      <td>4</td>\n",
       "      <td>Backhand</td>\n",
       "      <td>to turn a hand over; to put one's hand behind ...</td>\n",
       "      <td>0.072001</td>\n",
       "      <td>反手</td>\n",
       "      <td>NaN</td>\n",
       "      <td>fǎn shǒu</td>\n",
       "      <td>fan3-shou3</td>\n",
       "    </tr>\n",
       "    <tr>\n",
       "      <td>5</td>\n",
       "      <td>Forehand</td>\n",
       "      <td>NaN</td>\n",
       "      <td>0.064369</td>\n",
       "      <td>正手</td>\n",
       "      <td>NaN</td>\n",
       "      <td>NaN</td>\n",
       "      <td>zheng4-shou3</td>\n",
       "    </tr>\n",
       "    <tr>\n",
       "      <td>6</td>\n",
       "      <td>Net</td>\n",
       "      <td>NaN</td>\n",
       "      <td>0.053428</td>\n",
       "      <td>球网</td>\n",
       "      <td>NaN</td>\n",
       "      <td>NaN</td>\n",
       "      <td>qiu2-wang3</td>\n",
       "    </tr>\n",
       "    <tr>\n",
       "      <td>7</td>\n",
       "      <td>Intercept</td>\n",
       "      <td>NaN</td>\n",
       "      <td>0.052552</td>\n",
       "      <td>截击</td>\n",
       "      <td>NaN</td>\n",
       "      <td>NaN</td>\n",
       "      <td>jie2-ji2</td>\n",
       "    </tr>\n",
       "    <tr>\n",
       "      <td>8</td>\n",
       "      <td>Hit out</td>\n",
       "      <td>NaN</td>\n",
       "      <td>0.048977</td>\n",
       "      <td>打出</td>\n",
       "      <td>NaN</td>\n",
       "      <td>NaN</td>\n",
       "      <td>da3-chu1</td>\n",
       "    </tr>\n",
       "    <tr>\n",
       "      <td>9</td>\n",
       "      <td>Decisive game</td>\n",
       "      <td>NaN</td>\n",
       "      <td>0.047561</td>\n",
       "      <td>决胜局</td>\n",
       "      <td>NaN</td>\n",
       "      <td>NaN</td>\n",
       "      <td>jue2-sheng4-ju2</td>\n",
       "    </tr>\n",
       "    <tr>\n",
       "      <td>10</td>\n",
       "      <td>Returning the ball</td>\n",
       "      <td>NaN</td>\n",
       "      <td>0.043825</td>\n",
       "      <td>回球</td>\n",
       "      <td>NaN</td>\n",
       "      <td>NaN</td>\n",
       "      <td>hui2-qiu2</td>\n",
       "    </tr>\n",
       "    <tr>\n",
       "      <td>11</td>\n",
       "      <td>Handle</td>\n",
       "      <td>NaN</td>\n",
       "      <td>0.042599</td>\n",
       "      <td>拍柄</td>\n",
       "      <td>NaN</td>\n",
       "      <td>NaN</td>\n",
       "      <td>pai1-bing3</td>\n",
       "    </tr>\n",
       "    <tr>\n",
       "      <td>12</td>\n",
       "      <td>win</td>\n",
       "      <td>NaN</td>\n",
       "      <td>0.041434</td>\n",
       "      <td>赢得</td>\n",
       "      <td>NaN</td>\n",
       "      <td>NaN</td>\n",
       "      <td>ying2-de2</td>\n",
       "    </tr>\n",
       "    <tr>\n",
       "      <td>13</td>\n",
       "      <td>racket</td>\n",
       "      <td>racket.</td>\n",
       "      <td>0.039797</td>\n",
       "      <td>球拍</td>\n",
       "      <td>NaN</td>\n",
       "      <td>qiú pāi</td>\n",
       "      <td>qiu2-pai1</td>\n",
       "    </tr>\n",
       "    <tr>\n",
       "      <td>14</td>\n",
       "      <td>Receiving the ball</td>\n",
       "      <td>NaN</td>\n",
       "      <td>0.039480</td>\n",
       "      <td>接发球</td>\n",
       "      <td>NaN</td>\n",
       "      <td>NaN</td>\n",
       "      <td>jie1-fa1-qiu2</td>\n",
       "    </tr>\n",
       "    <tr>\n",
       "      <td>15</td>\n",
       "      <td>depth</td>\n",
       "      <td>depth; (of a speech etc) profundity; advanced ...</td>\n",
       "      <td>0.038258</td>\n",
       "      <td>深度</td>\n",
       "      <td>NaN</td>\n",
       "      <td>shēn dù</td>\n",
       "      <td>shen1-du4</td>\n",
       "    </tr>\n",
       "    <tr>\n",
       "      <td>16</td>\n",
       "      <td>Player</td>\n",
       "      <td>NaN</td>\n",
       "      <td>0.038248</td>\n",
       "      <td>球员</td>\n",
       "      <td>NaN</td>\n",
       "      <td>NaN</td>\n",
       "      <td>qiu2-yuan2</td>\n",
       "    </tr>\n",
       "  </tbody>\n",
       "</table>\n",
       "</div>"
      ],
      "text/plain": [
       "               English                                           English2  \\\n",
       "0                Serve                                                NaN   \n",
       "1               tennis                                                NaN   \n",
       "2                 game                                                NaN   \n",
       "3              Batting                                                NaN   \n",
       "4             Backhand  to turn a hand over; to put one's hand behind ...   \n",
       "5             Forehand                                                NaN   \n",
       "6                  Net                                                NaN   \n",
       "7            Intercept                                                NaN   \n",
       "8              Hit out                                                NaN   \n",
       "9        Decisive game                                                NaN   \n",
       "10  Returning the ball                                                NaN   \n",
       "11              Handle                                                NaN   \n",
       "12                 win                                                NaN   \n",
       "13              racket                                            racket.   \n",
       "14  Receiving the ball                                                NaN   \n",
       "15               depth  depth; (of a speech etc) profundity; advanced ...   \n",
       "16              Player                                                NaN   \n",
       "\n",
       "      weight 漢字(traditional) 汉字(simplified) pinyin(marks)  pinyin(numbers)  \n",
       "0   0.242717              发球            NaN           NaN         fa1-qiu2  \n",
       "1   0.172912              网球            NaN           NaN       wang3-qiu2  \n",
       "2   0.114516              比赛            NaN           NaN         bi3-sai4  \n",
       "3   0.104621              击球            NaN           NaN         ji2-qiu2  \n",
       "4   0.072001              反手            NaN      fǎn shǒu       fan3-shou3  \n",
       "5   0.064369              正手            NaN           NaN     zheng4-shou3  \n",
       "6   0.053428              球网            NaN           NaN       qiu2-wang3  \n",
       "7   0.052552              截击            NaN           NaN         jie2-ji2  \n",
       "8   0.048977              打出            NaN           NaN         da3-chu1  \n",
       "9   0.047561             决胜局            NaN           NaN  jue2-sheng4-ju2  \n",
       "10  0.043825              回球            NaN           NaN        hui2-qiu2  \n",
       "11  0.042599              拍柄            NaN           NaN       pai1-bing3  \n",
       "12  0.041434              赢得            NaN           NaN        ying2-de2  \n",
       "13  0.039797              球拍            NaN       qiú pāi        qiu2-pai1  \n",
       "14  0.039480             接发球            NaN           NaN    jie1-fa1-qiu2  \n",
       "15  0.038258              深度            NaN       shēn dù        shen1-du4  \n",
       "16  0.038248              球员            NaN           NaN       qiu2-yuan2  "
      ]
     },
     "execution_count": 113,
     "metadata": {},
     "output_type": "execute_result"
    }
   ],
   "source": [
    "df2"
   ]
  },
  {
   "cell_type": "markdown",
   "metadata": {},
   "source": [
    "https://en.wiktionary.org/wiki/Appendix:Mandarin_Frequency_lists"
   ]
  },
  {
   "cell_type": "code",
   "execution_count": 108,
   "metadata": {},
   "outputs": [],
   "source": [
    "most_common_words = pd.read_csv('1000words.csv', index_col=0)"
   ]
  },
  {
   "cell_type": "code",
   "execution_count": 109,
   "metadata": {
    "scrolled": false
   },
   "outputs": [
    {
     "data": {
      "text/html": [
       "<div>\n",
       "<style scoped>\n",
       "    .dataframe tbody tr th:only-of-type {\n",
       "        vertical-align: middle;\n",
       "    }\n",
       "\n",
       "    .dataframe tbody tr th {\n",
       "        vertical-align: top;\n",
       "    }\n",
       "\n",
       "    .dataframe thead th {\n",
       "        text-align: right;\n",
       "    }\n",
       "</style>\n",
       "<table border=\"1\" class=\"dataframe\">\n",
       "  <thead>\n",
       "    <tr style=\"text-align: right;\">\n",
       "      <th></th>\n",
       "      <th>Simplified</th>\n",
       "      <th>Pinyin</th>\n",
       "      <th>Meaning</th>\n",
       "    </tr>\n",
       "    <tr>\n",
       "      <th>Traditional</th>\n",
       "      <th></th>\n",
       "      <th></th>\n",
       "      <th></th>\n",
       "    </tr>\n",
       "  </thead>\n",
       "  <tbody>\n",
       "    <tr>\n",
       "      <td>張</td>\n",
       "      <td>张</td>\n",
       "      <td>zhāng</td>\n",
       "      <td>m.[general]</td>\n",
       "    </tr>\n",
       "    <tr>\n",
       "      <td>死</td>\n",
       "      <td>死</td>\n",
       "      <td>sǐ</td>\n",
       "      <td>die</td>\n",
       "    </tr>\n",
       "    <tr>\n",
       "      <td>要求</td>\n",
       "      <td>要求</td>\n",
       "      <td>yāoqiú</td>\n",
       "      <td>request, demand</td>\n",
       "    </tr>\n",
       "    <tr>\n",
       "      <td>那麼</td>\n",
       "      <td>那么</td>\n",
       "      <td>nàmo</td>\n",
       "      <td>so</td>\n",
       "    </tr>\n",
       "    <tr>\n",
       "      <td>產業</td>\n",
       "      <td>产业</td>\n",
       "      <td>chǎnyè</td>\n",
       "      <td>estate, manufacture, industry, domain, manufac...</td>\n",
       "    </tr>\n",
       "  </tbody>\n",
       "</table>\n",
       "</div>"
      ],
      "text/plain": [
       "            Simplified  Pinyin  \\\n",
       "Traditional                      \n",
       "張                    张   zhāng   \n",
       "死                    死      sǐ   \n",
       "要求                  要求  yāoqiú   \n",
       "那麼                  那么    nàmo   \n",
       "產業                  产业  chǎnyè   \n",
       "\n",
       "                                                       Meaning  \n",
       "Traditional                                                     \n",
       "張                                                  m.[general]  \n",
       "死                                                          die  \n",
       "要求                                             request, demand  \n",
       "那麼                                                          so  \n",
       "產業           estate, manufacture, industry, domain, manufac...  "
      ]
     },
     "execution_count": 109,
     "metadata": {},
     "output_type": "execute_result"
    }
   ],
   "source": [
    "most_common_words.sample(5)"
   ]
  },
  {
   "cell_type": "markdown",
   "metadata": {},
   "source": [
    "# Study Section"
   ]
  },
  {
   "cell_type": "markdown",
   "metadata": {},
   "source": [
    "## [Review the Tones](https://www.youtube.com/watch?v=4ZB9-vZFesk)"
   ]
  },
  {
   "cell_type": "markdown",
   "metadata": {},
   "source": [
    "# Review Most Frequent Words"
   ]
  },
  {
   "cell_type": "code",
   "execution_count": 110,
   "metadata": {},
   "outputs": [
    {
     "data": {
      "text/html": [
       "<div>\n",
       "<style scoped>\n",
       "    .dataframe tbody tr th:only-of-type {\n",
       "        vertical-align: middle;\n",
       "    }\n",
       "\n",
       "    .dataframe tbody tr th {\n",
       "        vertical-align: top;\n",
       "    }\n",
       "\n",
       "    .dataframe thead th {\n",
       "        text-align: right;\n",
       "    }\n",
       "</style>\n",
       "<table border=\"1\" class=\"dataframe\">\n",
       "  <thead>\n",
       "    <tr style=\"text-align: right;\">\n",
       "      <th></th>\n",
       "      <th>Simplified</th>\n",
       "      <th>Pinyin</th>\n",
       "      <th>Meaning</th>\n",
       "    </tr>\n",
       "    <tr>\n",
       "      <th>Traditional</th>\n",
       "      <th></th>\n",
       "      <th></th>\n",
       "      <th></th>\n",
       "    </tr>\n",
       "  </thead>\n",
       "  <tbody>\n",
       "    <tr>\n",
       "      <td>豐富</td>\n",
       "      <td>丰富</td>\n",
       "      <td>fēngfù</td>\n",
       "      <td>rich, abundant, plentiful</td>\n",
       "    </tr>\n",
       "    <tr>\n",
       "      <td>空間</td>\n",
       "      <td>空间</td>\n",
       "      <td>kōngjiān</td>\n",
       "      <td>elbow room, allowance, margin, roomage, open a...</td>\n",
       "    </tr>\n",
       "    <tr>\n",
       "      <td>電子</td>\n",
       "      <td>电子</td>\n",
       "      <td>diànzǐ</td>\n",
       "      <td>electron</td>\n",
       "    </tr>\n",
       "    <tr>\n",
       "      <td>資源</td>\n",
       "      <td>资源</td>\n",
       "      <td>zīyuán</td>\n",
       "      <td>resource, natural resources, mine, resources</td>\n",
       "    </tr>\n",
       "    <tr>\n",
       "      <td>份</td>\n",
       "      <td>份</td>\n",
       "      <td>fèn</td>\n",
       "      <td>m.[general]</td>\n",
       "    </tr>\n",
       "  </tbody>\n",
       "</table>\n",
       "</div>"
      ],
      "text/plain": [
       "            Simplified    Pinyin  \\\n",
       "Traditional                        \n",
       "豐富                  丰富    fēngfù   \n",
       "空間                  空间  kōngjiān   \n",
       "電子                  电子    diànzǐ   \n",
       "資源                  资源    zīyuán   \n",
       "份                    份       fèn   \n",
       "\n",
       "                                                       Meaning  \n",
       "Traditional                                                     \n",
       "豐富                                   rich, abundant, plentiful  \n",
       "空間           elbow room, allowance, margin, roomage, open a...  \n",
       "電子                                                    electron  \n",
       "資源                resource, natural resources, mine, resources  \n",
       "份                                                  m.[general]  "
      ]
     },
     "execution_count": 110,
     "metadata": {},
     "output_type": "execute_result"
    }
   ],
   "source": [
    "most_common_words.sample(5)"
   ]
  },
  {
   "cell_type": "markdown",
   "metadata": {},
   "source": [
    "## New Vocabulary Words"
   ]
  },
  {
   "cell_type": "code",
   "execution_count": 114,
   "metadata": {},
   "outputs": [
    {
     "data": {
      "text/html": [
       "<div>\n",
       "<style scoped>\n",
       "    .dataframe tbody tr th:only-of-type {\n",
       "        vertical-align: middle;\n",
       "    }\n",
       "\n",
       "    .dataframe tbody tr th {\n",
       "        vertical-align: top;\n",
       "    }\n",
       "\n",
       "    .dataframe thead th {\n",
       "        text-align: right;\n",
       "    }\n",
       "</style>\n",
       "<table border=\"1\" class=\"dataframe\">\n",
       "  <thead>\n",
       "    <tr style=\"text-align: right;\">\n",
       "      <th></th>\n",
       "      <th>English</th>\n",
       "      <th>English2</th>\n",
       "      <th>weight</th>\n",
       "      <th>漢字(traditional)</th>\n",
       "      <th>汉字(simplified)</th>\n",
       "      <th>pinyin(marks)</th>\n",
       "      <th>pinyin(numbers)</th>\n",
       "    </tr>\n",
       "  </thead>\n",
       "  <tbody>\n",
       "    <tr>\n",
       "      <td>0</td>\n",
       "      <td>Serve</td>\n",
       "      <td>NaN</td>\n",
       "      <td>0.242717</td>\n",
       "      <td>发球</td>\n",
       "      <td>NaN</td>\n",
       "      <td>NaN</td>\n",
       "      <td>fa1-qiu2</td>\n",
       "    </tr>\n",
       "    <tr>\n",
       "      <td>1</td>\n",
       "      <td>tennis</td>\n",
       "      <td>NaN</td>\n",
       "      <td>0.172912</td>\n",
       "      <td>网球</td>\n",
       "      <td>NaN</td>\n",
       "      <td>NaN</td>\n",
       "      <td>wang3-qiu2</td>\n",
       "    </tr>\n",
       "    <tr>\n",
       "      <td>2</td>\n",
       "      <td>game</td>\n",
       "      <td>NaN</td>\n",
       "      <td>0.114516</td>\n",
       "      <td>比赛</td>\n",
       "      <td>NaN</td>\n",
       "      <td>NaN</td>\n",
       "      <td>bi3-sai4</td>\n",
       "    </tr>\n",
       "    <tr>\n",
       "      <td>3</td>\n",
       "      <td>Batting</td>\n",
       "      <td>NaN</td>\n",
       "      <td>0.104621</td>\n",
       "      <td>击球</td>\n",
       "      <td>NaN</td>\n",
       "      <td>NaN</td>\n",
       "      <td>ji2-qiu2</td>\n",
       "    </tr>\n",
       "    <tr>\n",
       "      <td>4</td>\n",
       "      <td>Backhand</td>\n",
       "      <td>to turn a hand over; to put one's hand behind ...</td>\n",
       "      <td>0.072001</td>\n",
       "      <td>反手</td>\n",
       "      <td>NaN</td>\n",
       "      <td>fǎn shǒu</td>\n",
       "      <td>fan3-shou3</td>\n",
       "    </tr>\n",
       "    <tr>\n",
       "      <td>5</td>\n",
       "      <td>Forehand</td>\n",
       "      <td>NaN</td>\n",
       "      <td>0.064369</td>\n",
       "      <td>正手</td>\n",
       "      <td>NaN</td>\n",
       "      <td>NaN</td>\n",
       "      <td>zheng4-shou3</td>\n",
       "    </tr>\n",
       "    <tr>\n",
       "      <td>6</td>\n",
       "      <td>Net</td>\n",
       "      <td>NaN</td>\n",
       "      <td>0.053428</td>\n",
       "      <td>球网</td>\n",
       "      <td>NaN</td>\n",
       "      <td>NaN</td>\n",
       "      <td>qiu2-wang3</td>\n",
       "    </tr>\n",
       "    <tr>\n",
       "      <td>7</td>\n",
       "      <td>Intercept</td>\n",
       "      <td>NaN</td>\n",
       "      <td>0.052552</td>\n",
       "      <td>截击</td>\n",
       "      <td>NaN</td>\n",
       "      <td>NaN</td>\n",
       "      <td>jie2-ji2</td>\n",
       "    </tr>\n",
       "    <tr>\n",
       "      <td>8</td>\n",
       "      <td>Hit out</td>\n",
       "      <td>NaN</td>\n",
       "      <td>0.048977</td>\n",
       "      <td>打出</td>\n",
       "      <td>NaN</td>\n",
       "      <td>NaN</td>\n",
       "      <td>da3-chu1</td>\n",
       "    </tr>\n",
       "    <tr>\n",
       "      <td>9</td>\n",
       "      <td>Decisive game</td>\n",
       "      <td>NaN</td>\n",
       "      <td>0.047561</td>\n",
       "      <td>决胜局</td>\n",
       "      <td>NaN</td>\n",
       "      <td>NaN</td>\n",
       "      <td>jue2-sheng4-ju2</td>\n",
       "    </tr>\n",
       "    <tr>\n",
       "      <td>10</td>\n",
       "      <td>Returning the ball</td>\n",
       "      <td>NaN</td>\n",
       "      <td>0.043825</td>\n",
       "      <td>回球</td>\n",
       "      <td>NaN</td>\n",
       "      <td>NaN</td>\n",
       "      <td>hui2-qiu2</td>\n",
       "    </tr>\n",
       "    <tr>\n",
       "      <td>11</td>\n",
       "      <td>Handle</td>\n",
       "      <td>NaN</td>\n",
       "      <td>0.042599</td>\n",
       "      <td>拍柄</td>\n",
       "      <td>NaN</td>\n",
       "      <td>NaN</td>\n",
       "      <td>pai1-bing3</td>\n",
       "    </tr>\n",
       "    <tr>\n",
       "      <td>12</td>\n",
       "      <td>win</td>\n",
       "      <td>NaN</td>\n",
       "      <td>0.041434</td>\n",
       "      <td>赢得</td>\n",
       "      <td>NaN</td>\n",
       "      <td>NaN</td>\n",
       "      <td>ying2-de2</td>\n",
       "    </tr>\n",
       "    <tr>\n",
       "      <td>13</td>\n",
       "      <td>racket</td>\n",
       "      <td>racket.</td>\n",
       "      <td>0.039797</td>\n",
       "      <td>球拍</td>\n",
       "      <td>NaN</td>\n",
       "      <td>qiú pāi</td>\n",
       "      <td>qiu2-pai1</td>\n",
       "    </tr>\n",
       "    <tr>\n",
       "      <td>14</td>\n",
       "      <td>Receiving the ball</td>\n",
       "      <td>NaN</td>\n",
       "      <td>0.039480</td>\n",
       "      <td>接发球</td>\n",
       "      <td>NaN</td>\n",
       "      <td>NaN</td>\n",
       "      <td>jie1-fa1-qiu2</td>\n",
       "    </tr>\n",
       "    <tr>\n",
       "      <td>15</td>\n",
       "      <td>depth</td>\n",
       "      <td>depth; (of a speech etc) profundity; advanced ...</td>\n",
       "      <td>0.038258</td>\n",
       "      <td>深度</td>\n",
       "      <td>NaN</td>\n",
       "      <td>shēn dù</td>\n",
       "      <td>shen1-du4</td>\n",
       "    </tr>\n",
       "    <tr>\n",
       "      <td>16</td>\n",
       "      <td>Player</td>\n",
       "      <td>NaN</td>\n",
       "      <td>0.038248</td>\n",
       "      <td>球员</td>\n",
       "      <td>NaN</td>\n",
       "      <td>NaN</td>\n",
       "      <td>qiu2-yuan2</td>\n",
       "    </tr>\n",
       "  </tbody>\n",
       "</table>\n",
       "</div>"
      ],
      "text/plain": [
       "               English                                           English2  \\\n",
       "0                Serve                                                NaN   \n",
       "1               tennis                                                NaN   \n",
       "2                 game                                                NaN   \n",
       "3              Batting                                                NaN   \n",
       "4             Backhand  to turn a hand over; to put one's hand behind ...   \n",
       "5             Forehand                                                NaN   \n",
       "6                  Net                                                NaN   \n",
       "7            Intercept                                                NaN   \n",
       "8              Hit out                                                NaN   \n",
       "9        Decisive game                                                NaN   \n",
       "10  Returning the ball                                                NaN   \n",
       "11              Handle                                                NaN   \n",
       "12                 win                                                NaN   \n",
       "13              racket                                            racket.   \n",
       "14  Receiving the ball                                                NaN   \n",
       "15               depth  depth; (of a speech etc) profundity; advanced ...   \n",
       "16              Player                                                NaN   \n",
       "\n",
       "      weight 漢字(traditional) 汉字(simplified) pinyin(marks)  pinyin(numbers)  \n",
       "0   0.242717              发球            NaN           NaN         fa1-qiu2  \n",
       "1   0.172912              网球            NaN           NaN       wang3-qiu2  \n",
       "2   0.114516              比赛            NaN           NaN         bi3-sai4  \n",
       "3   0.104621              击球            NaN           NaN         ji2-qiu2  \n",
       "4   0.072001              反手            NaN      fǎn shǒu       fan3-shou3  \n",
       "5   0.064369              正手            NaN           NaN     zheng4-shou3  \n",
       "6   0.053428              球网            NaN           NaN       qiu2-wang3  \n",
       "7   0.052552              截击            NaN           NaN         jie2-ji2  \n",
       "8   0.048977              打出            NaN           NaN         da3-chu1  \n",
       "9   0.047561             决胜局            NaN           NaN  jue2-sheng4-ju2  \n",
       "10  0.043825              回球            NaN           NaN        hui2-qiu2  \n",
       "11  0.042599              拍柄            NaN           NaN       pai1-bing3  \n",
       "12  0.041434              赢得            NaN           NaN        ying2-de2  \n",
       "13  0.039797              球拍            NaN       qiú pāi        qiu2-pai1  \n",
       "14  0.039480             接发球            NaN           NaN    jie1-fa1-qiu2  \n",
       "15  0.038258              深度            NaN       shēn dù        shen1-du4  \n",
       "16  0.038248              球员            NaN           NaN       qiu2-yuan2  "
      ]
     },
     "execution_count": 114,
     "metadata": {},
     "output_type": "execute_result"
    }
   ],
   "source": [
    "df2"
   ]
  },
  {
   "cell_type": "code",
   "execution_count": 68,
   "metadata": {
    "scrolled": true
   },
   "outputs": [
    {
     "data": {
      "text/html": [
       "<div>\n",
       "<style scoped>\n",
       "    .dataframe tbody tr th:only-of-type {\n",
       "        vertical-align: middle;\n",
       "    }\n",
       "\n",
       "    .dataframe tbody tr th {\n",
       "        vertical-align: top;\n",
       "    }\n",
       "\n",
       "    .dataframe thead th {\n",
       "        text-align: right;\n",
       "    }\n",
       "</style>\n",
       "<table border=\"1\" class=\"dataframe\">\n",
       "  <thead>\n",
       "    <tr style=\"text-align: right;\">\n",
       "      <th></th>\n",
       "      <th>漢字(traditional)</th>\n",
       "      <th>汉字(simplified)</th>\n",
       "      <th>English</th>\n",
       "      <th>English2</th>\n",
       "      <th>pinyin(marks)</th>\n",
       "      <th>pinyin(numbers)</th>\n",
       "    </tr>\n",
       "  </thead>\n",
       "  <tbody>\n",
       "    <tr>\n",
       "      <td>0</td>\n",
       "      <td>葉問</td>\n",
       "      <td>叶问</td>\n",
       "      <td>Ip man</td>\n",
       "      <td>Yip Man (1893-1972), martial arts practitioner...</td>\n",
       "      <td>Yè Wèn</td>\n",
       "      <td>ye4-wen4</td>\n",
       "    </tr>\n",
       "    <tr>\n",
       "      <td>1</td>\n",
       "      <td>詠春拳</td>\n",
       "      <td>咏春拳</td>\n",
       "      <td>Wing Chun</td>\n",
       "      <td>Yongchun - \"Singing Spring Fist\" (Chinese mart...</td>\n",
       "      <td>yǒng chūn quán</td>\n",
       "      <td>yong3-chun1-quan2</td>\n",
       "    </tr>\n",
       "    <tr>\n",
       "      <td>2</td>\n",
       "      <td>洪震南</td>\n",
       "      <td>NaN</td>\n",
       "      <td>Hong Zhennan</td>\n",
       "      <td>NaN</td>\n",
       "      <td>NaN</td>\n",
       "      <td>hong2-zhen4-nan2</td>\n",
       "    </tr>\n",
       "    <tr>\n",
       "      <td>3</td>\n",
       "      <td>香港</td>\n",
       "      <td>NaN</td>\n",
       "      <td>Hong Kong</td>\n",
       "      <td>Hong Kong.</td>\n",
       "      <td>Xiāng gǎng</td>\n",
       "      <td>xiang1-gang3</td>\n",
       "    </tr>\n",
       "    <tr>\n",
       "      <td>4</td>\n",
       "      <td>梁相</td>\n",
       "      <td>NaN</td>\n",
       "      <td>Beam phase</td>\n",
       "      <td>NaN</td>\n",
       "      <td>NaN</td>\n",
       "      <td>liang2-xiang1</td>\n",
       "    </tr>\n",
       "    <tr>\n",
       "      <td>5</td>\n",
       "      <td>佛山</td>\n",
       "      <td>NaN</td>\n",
       "      <td>Foshan</td>\n",
       "      <td>Foshan prefecture-level city in Guangdong.</td>\n",
       "      <td>Fó shān</td>\n",
       "      <td>fo2-shan1</td>\n",
       "    </tr>\n",
       "    <tr>\n",
       "      <td>6</td>\n",
       "      <td>吳仲素</td>\n",
       "      <td>NaN</td>\n",
       "      <td>Wu Zhongsu</td>\n",
       "      <td>NaN</td>\n",
       "      <td>NaN</td>\n",
       "      <td>wu2-zhong4-su4</td>\n",
       "    </tr>\n",
       "    <tr>\n",
       "      <td>7</td>\n",
       "      <td>武術</td>\n",
       "      <td>武术</td>\n",
       "      <td>Martial arts</td>\n",
       "      <td>military skill or technique (in former times);...</td>\n",
       "      <td>wǔ shù</td>\n",
       "      <td>wu3-shu4</td>\n",
       "    </tr>\n",
       "    <tr>\n",
       "      <td>8</td>\n",
       "      <td>當時</td>\n",
       "      <td>当时</td>\n",
       "      <td>then</td>\n",
       "      <td>then; at that time; while.</td>\n",
       "      <td>dāng shí</td>\n",
       "      <td>dang1-shi2</td>\n",
       "    </tr>\n",
       "    <tr>\n",
       "      <td>9</td>\n",
       "      <td>當時</td>\n",
       "      <td>当时</td>\n",
       "      <td>then</td>\n",
       "      <td>at once; right away.</td>\n",
       "      <td>dàng shí</td>\n",
       "      <td>dang1-shi2</td>\n",
       "    </tr>\n",
       "    <tr>\n",
       "      <td>10</td>\n",
       "      <td>弟子</td>\n",
       "      <td>NaN</td>\n",
       "      <td>disciple</td>\n",
       "      <td>disciple; follower.</td>\n",
       "      <td>dì zǐ</td>\n",
       "      <td>di4-zi3</td>\n",
       "    </tr>\n",
       "    <tr>\n",
       "      <td>11</td>\n",
       "      <td>1909</td>\n",
       "      <td>NaN</td>\n",
       "      <td>1909</td>\n",
       "      <td>NaN</td>\n",
       "      <td>NaN</td>\n",
       "      <td>1909</td>\n",
       "    </tr>\n",
       "    <tr>\n",
       "      <td>12</td>\n",
       "      <td>中國</td>\n",
       "      <td>中国</td>\n",
       "      <td>China</td>\n",
       "      <td>China.</td>\n",
       "      <td>Zhōng guó</td>\n",
       "      <td>zhong1-guo2</td>\n",
       "    </tr>\n",
       "    <tr>\n",
       "      <td>13</td>\n",
       "      <td>因為</td>\n",
       "      <td>因为</td>\n",
       "      <td>because</td>\n",
       "      <td>because; owing to; on account of.</td>\n",
       "      <td>yīn wèi</td>\n",
       "      <td>yin1-wei4</td>\n",
       "    </tr>\n",
       "    <tr>\n",
       "      <td>14</td>\n",
       "      <td>總會</td>\n",
       "      <td>NaN</td>\n",
       "      <td>General meeting</td>\n",
       "      <td>NaN</td>\n",
       "      <td>NaN</td>\n",
       "      <td>zong3-hui4</td>\n",
       "    </tr>\n",
       "    <tr>\n",
       "      <td>15</td>\n",
       "      <td>拳術</td>\n",
       "      <td>拳术</td>\n",
       "      <td>boxing</td>\n",
       "      <td>Chinese boxing; fisticuffs.</td>\n",
       "      <td>quán shù</td>\n",
       "      <td>quan2-shu4</td>\n",
       "    </tr>\n",
       "    <tr>\n",
       "      <td>16</td>\n",
       "      <td>鄧生</td>\n",
       "      <td>NaN</td>\n",
       "      <td>Deng Sheng</td>\n",
       "      <td>NaN</td>\n",
       "      <td>NaN</td>\n",
       "      <td>deng4-sheng1</td>\n",
       "    </tr>\n",
       "    <tr>\n",
       "      <td>17</td>\n",
       "      <td>出生</td>\n",
       "      <td>NaN</td>\n",
       "      <td>Born</td>\n",
       "      <td>to be born.</td>\n",
       "      <td>chū shēng</td>\n",
       "      <td>chu1-sheng1</td>\n",
       "    </tr>\n",
       "    <tr>\n",
       "      <td>18</td>\n",
       "      <td>徒弟</td>\n",
       "      <td>NaN</td>\n",
       "      <td>apprentice</td>\n",
       "      <td>apprentice; disciple.</td>\n",
       "      <td>tú dì</td>\n",
       "      <td>tu2-di4</td>\n",
       "    </tr>\n",
       "    <tr>\n",
       "      <td>19</td>\n",
       "      <td>發揚</td>\n",
       "      <td>发扬</td>\n",
       "      <td>carry forward</td>\n",
       "      <td>to develop; to make full use of.</td>\n",
       "      <td>fā yáng</td>\n",
       "      <td>fa1-yang2</td>\n",
       "    </tr>\n",
       "    <tr>\n",
       "      <td>20</td>\n",
       "      <td>1950</td>\n",
       "      <td>NaN</td>\n",
       "      <td>1950</td>\n",
       "      <td>NaN</td>\n",
       "      <td>NaN</td>\n",
       "      <td>1950</td>\n",
       "    </tr>\n",
       "  </tbody>\n",
       "</table>\n",
       "</div>"
      ],
      "text/plain": [
       "   漢字(traditional) 汉字(simplified)          English  \\\n",
       "0               葉問             叶问           Ip man   \n",
       "1              詠春拳            咏春拳        Wing Chun   \n",
       "2              洪震南            NaN     Hong Zhennan   \n",
       "3               香港            NaN        Hong Kong   \n",
       "4               梁相            NaN       Beam phase   \n",
       "5               佛山            NaN           Foshan   \n",
       "6              吳仲素            NaN       Wu Zhongsu   \n",
       "7               武術             武术     Martial arts   \n",
       "8               當時             当时             then   \n",
       "9               當時             当时             then   \n",
       "10              弟子            NaN         disciple   \n",
       "11            1909            NaN             1909   \n",
       "12              中國             中国            China   \n",
       "13              因為             因为          because   \n",
       "14              總會            NaN  General meeting   \n",
       "15              拳術             拳术           boxing   \n",
       "16              鄧生            NaN       Deng Sheng   \n",
       "17              出生            NaN             Born   \n",
       "18              徒弟            NaN       apprentice   \n",
       "19              發揚             发扬    carry forward   \n",
       "20            1950            NaN             1950   \n",
       "\n",
       "                                             English2   pinyin(marks)  \\\n",
       "0   Yip Man (1893-1972), martial arts practitioner...          Yè Wèn   \n",
       "1   Yongchun - \"Singing Spring Fist\" (Chinese mart...  yǒng chūn quán   \n",
       "2                                                 NaN             NaN   \n",
       "3                                          Hong Kong.      Xiāng gǎng   \n",
       "4                                                 NaN             NaN   \n",
       "5          Foshan prefecture-level city in Guangdong.         Fó shān   \n",
       "6                                                 NaN             NaN   \n",
       "7   military skill or technique (in former times);...          wǔ shù   \n",
       "8                          then; at that time; while.        dāng shí   \n",
       "9                                at once; right away.        dàng shí   \n",
       "10                                disciple; follower.           dì zǐ   \n",
       "11                                                NaN             NaN   \n",
       "12                                             China.       Zhōng guó   \n",
       "13                  because; owing to; on account of.         yīn wèi   \n",
       "14                                                NaN             NaN   \n",
       "15                        Chinese boxing; fisticuffs.        quán shù   \n",
       "16                                                NaN             NaN   \n",
       "17                                        to be born.       chū shēng   \n",
       "18                              apprentice; disciple.           tú dì   \n",
       "19                   to develop; to make full use of.         fā yáng   \n",
       "20                                                NaN             NaN   \n",
       "\n",
       "      pinyin(numbers)  \n",
       "0            ye4-wen4  \n",
       "1   yong3-chun1-quan2  \n",
       "2    hong2-zhen4-nan2  \n",
       "3        xiang1-gang3  \n",
       "4       liang2-xiang1  \n",
       "5           fo2-shan1  \n",
       "6      wu2-zhong4-su4  \n",
       "7            wu3-shu4  \n",
       "8          dang1-shi2  \n",
       "9          dang1-shi2  \n",
       "10            di4-zi3  \n",
       "11               1909  \n",
       "12        zhong1-guo2  \n",
       "13          yin1-wei4  \n",
       "14         zong3-hui4  \n",
       "15         quan2-shu4  \n",
       "16       deng4-sheng1  \n",
       "17        chu1-sheng1  \n",
       "18            tu2-di4  \n",
       "19          fa1-yang2  \n",
       "20               1950  "
      ]
     },
     "execution_count": 68,
     "metadata": {},
     "output_type": "execute_result"
    }
   ],
   "source": [
    "df.columns = ['漢字(traditional)', 'weight', 'pinyin(numbers)', 'English']\n",
    "\n",
    "# keep only simplified or traditional \n",
    "df.drop_duplicates(subset='English',keep='first', inplace=True)\n",
    "\n",
    "df2= pd.merge(df, dictionary, on=\"漢字(traditional)\", how='left')\n",
    "df2 = df2[[\"漢字(traditional)\",\"汉字(simplified)\",\"English\",\"English2\",\"pinyin(marks)\",\"pinyin(numbers)\"]]\n",
    "df2"
   ]
  },
  {
   "cell_type": "markdown",
   "metadata": {},
   "source": [
    "## Practice Pronouncing The Words"
   ]
  },
  {
   "cell_type": "code",
   "execution_count": null,
   "metadata": {},
   "outputs": [],
   "source": []
  },
  {
   "cell_type": "markdown",
   "metadata": {},
   "source": [
    "comment out or remove print row[\"漢字(traditional)\"] and/row[\"pinyin(marks)\"] if you do not want the chinese characters to print out in the practice"
   ]
  },
  {
   "cell_type": "code",
   "execution_count": 118,
   "metadata": {
    "scrolled": true
   },
   "outputs": [
    {
     "name": "stdout",
     "output_type": "stream",
     "text": [
      "Serve 发球 fa1-qiu2\n",
      "tennis 网球 wang3-qiu2\n",
      "game 比赛 bi3-sai4\n",
      "Batting 击球 ji2-qiu2\n",
      "Backhand 反手 fan3-shou3\n",
      "Forehand 正手 zheng4-shou3\n",
      "Net 球网 qiu2-wang3\n",
      "Intercept 截击 jie2-ji2\n",
      "Hit out 打出 da3-chu1\n",
      "Decisive game 决胜局 jue2-sheng4-ju2\n",
      "Returning the ball 回球 hui2-qiu2\n",
      "Handle 拍柄 pai1-bing3\n",
      "win 赢得 ying2-de2\n",
      "racket 球拍 qiu2-pai1\n",
      "Receiving the ball 接发球 jie1-fa1-qiu2\n",
      "depth 深度 shen1-du4\n",
      "Player 球员 qiu2-yuan2\n"
     ]
    }
   ],
   "source": [
    "for index,row in df.iterrows():\n",
    "    print(row['English'], row[\"漢字(traditional)\"], row[\"pinyin(numbers)\"])\n",
    "    #time.sleep(10)\n",
    "    pronounce_chinese(row['漢字(traditional)'])"
   ]
  },
  {
   "cell_type": "markdown",
   "metadata": {},
   "source": [
    "Put individual words in here to hear them one at a time"
   ]
  },
  {
   "cell_type": "code",
   "execution_count": 120,
   "metadata": {},
   "outputs": [
    {
     "data": {
      "text/plain": [
       "0"
      ]
     },
     "execution_count": 120,
     "metadata": {},
     "output_type": "execute_result"
    }
   ],
   "source": [
    "pronounce_chinese('生')"
   ]
  },
  {
   "cell_type": "code",
   "execution_count": 121,
   "metadata": {},
   "outputs": [
    {
     "name": "stdout",
     "output_type": "stream",
     "text": [
      "What word would you like to say in Chinese(Mandarin)：Would you like to play tennis?\n",
      "Input: Would you like to play tennis?\n",
      "Traditional Chinese Translation: 你想打網球嗎？\n",
      "Pinyin Translation with tone numbers: ni3-xiang3-da3-wang3-qiu2-ma5-？\n"
     ]
    },
    {
     "data": {
      "text/plain": [
       "0"
      ]
     },
     "execution_count": 121,
     "metadata": {},
     "output_type": "execute_result"
    }
   ],
   "source": [
    "e2c_say_anything()"
   ]
  },
  {
   "cell_type": "code",
   "execution_count": 83,
   "metadata": {},
   "outputs": [
    {
     "name": "stdout",
     "output_type": "stream",
     "text": [
      "What word would you like to say in Chinese(Mandarin)：武術\n",
      "Input: 武術\n",
      "Traditional Chinese Translation: 武術\n",
      "Pinyin Translation with tone numbers: wu3-shu4\n"
     ]
    },
    {
     "data": {
      "text/plain": [
       "0"
      ]
     },
     "execution_count": 83,
     "metadata": {},
     "output_type": "execute_result"
    }
   ],
   "source": [
    "e2s_say_anything()"
   ]
  },
  {
   "cell_type": "code",
   "execution_count": 82,
   "metadata": {},
   "outputs": [
    {
     "name": "stdout",
     "output_type": "stream",
     "text": [
      "Input: 武術\n",
      "Output: Martial arts\n"
     ]
    },
    {
     "data": {
      "text/plain": [
       "0"
      ]
     },
     "execution_count": 82,
     "metadata": {},
     "output_type": "execute_result"
    }
   ],
   "source": [
    "c2e_say_anything('武術')"
   ]
  }
 ],
 "metadata": {
  "kernelspec": {
   "display_name": "PyCharm (Capstone)",
   "language": "python",
   "name": "pycharm-b15c546e"
  },
  "language_info": {
   "codemirror_mode": {
    "name": "ipython",
    "version": 3
   },
   "file_extension": ".py",
   "mimetype": "text/x-python",
   "name": "python",
   "nbconvert_exporter": "python",
   "pygments_lexer": "ipython3",
   "version": "3.7.4"
  },
  "pycharm": {
   "stem_cell": {
    "cell_type": "raw",
    "metadata": {
     "collapsed": false
    },
    "source": []
   }
  },
  "varInspector": {
   "cols": {
    "lenName": 16,
    "lenType": 16,
    "lenVar": 40
   },
   "kernels_config": {
    "python": {
     "delete_cmd_postfix": "",
     "delete_cmd_prefix": "del ",
     "library": "var_list.py",
     "varRefreshCmd": "print(var_dic_list())"
    },
    "r": {
     "delete_cmd_postfix": ") ",
     "delete_cmd_prefix": "rm(",
     "library": "var_list.r",
     "varRefreshCmd": "cat(var_dic_list()) "
    }
   },
   "oldHeight": 122,
   "position": {
    "height": "144px",
    "left": "910px",
    "right": "20px",
    "top": "121px",
    "width": "350px"
   },
   "types_to_exclude": [
    "module",
    "function",
    "builtin_function_or_method",
    "instance",
    "_Feature"
   ],
   "varInspector_section_display": "block",
   "window_display": false
  },
  "widgets": {
   "application/vnd.jupyter.widget-state+json": {
    "state": {},
    "version_major": 2,
    "version_minor": 0
   }
  }
 },
 "nbformat": 4,
 "nbformat_minor": 1
}
