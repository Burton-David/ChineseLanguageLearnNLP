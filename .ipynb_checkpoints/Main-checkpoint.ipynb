{
 "cells": [
  {
   "cell_type": "markdown",
   "metadata": {},
   "source": [
    "# The Code"
   ]
  },
  {
   "cell_type": "markdown",
   "metadata": {},
   "source": [
    "## Import Libraries\n"
   ]
  },
  {
   "cell_type": "code",
   "execution_count": 3,
   "metadata": {
    "pycharm": {
     "is_executing": false
    }
   },
   "outputs": [],
   "source": [
    "#1\n",
    "from gtts import gTTS \n",
    "import os\n",
    "import wikipedia\n",
    "from google.cloud import translate\n",
    "#from ClassText2Speech import speak_chinese\n",
    "from xpinyin import Pinyin\n",
    "import jieba\n",
    "import jieba.posseg as pos\n",
    "import jieba.analyse as ana\n",
    "import sys\n",
    "from importlib import *\n",
    "from collections import Counter\n",
    "import re\n",
    "import pandas as pd\n",
    "from sklearn.feature_extraction.text import CountVectorizer\n",
    "\n",
    "import time\n",
    "#import matplotlib.pyplot as plt\n",
    "#%matplotlib inline\n",
    "\n",
    "# for displaying wikipedia image as output from code cell \n",
    "from PIL import Image\n",
    "import requests\n",
    "from io import BytesIO\n",
    "\n",
    "from IPython.core.display import Image, display\n"
   ]
  },
  {
   "cell_type": "markdown",
   "metadata": {},
   "source": [
    "###### Link to API Credentials\n",
    "###### Google Translate API  [Setting up API Keys](https://support.google.com/googleapi/answer/6158862?hl=en )"
   ]
  },
  {
   "cell_type": "code",
   "execution_count": 4,
   "metadata": {
    "pycharm": {
     "is_executing": false
    }
   },
   "outputs": [],
   "source": [
    "#api key for google api\n",
    "## you'll need to get your own API key using google cloud console and replace the path name\n",
    "os.environ[\"GOOGLE_APPLICATION_CREDENTIALS\"] = \"/Users/db/Desktop/APIKeys/LearnChinese.json\""
   ]
  },
  {
   "cell_type": "markdown",
   "metadata": {},
   "source": [
    "##### Instantiate Pinyin Generator"
   ]
  },
  {
   "cell_type": "code",
   "execution_count": 5,
   "metadata": {},
   "outputs": [],
   "source": [
    "#Instantiate Frequently Used \n",
    "p = Pinyin()"
   ]
  },
  {
   "cell_type": "markdown",
   "metadata": {},
   "source": [
    "### Stop Word List \n",
    "#### (add words unnecessary words here as they occur)"
   ]
  },
  {
   "cell_type": "markdown",
   "metadata": {},
   "source": [
    "Its probably also a useful idea to put vocabulary words that you have already mastered into this list."
   ]
  },
  {
   "cell_type": "code",
   "execution_count": 6,
   "metadata": {},
   "outputs": [],
   "source": [
    "# List of common words that should be excluded from analysis\n",
    "jieba_stop_words = [\"、\",\"。\",\"〈\",\"〉\",\"《\",\"》\",\"一\",\"一些\",\"一何\",\"一切\",\"一则\",\n",
    "                    \"一方面\",\"一旦\",\"一来\",\"一样\",\"一般\",\"一转眼\",\"七\",\"万一\",\"三\",\n",
    "                    \"上\",\"上下\",\"下\",\"不\",\"不仅\",\"不但\",\"不光\",\"不单\",\"不只\",\"不外乎\",\n",
    "                    \"不如\",\"不妨\",\"不尽\",\"不尽然\",\"不得\",\"不怕\",\"不惟\",\"不成\",\"不拘\",\n",
    "                    \"不料\",\"不是\",\"不比\",\"不然\",\"不特\",\"不独\",\"不管\",\"不至于\",\"不若\",\n",
    "                    \"不论\",\"不过\",\"不问\",\"与\",\"与其\",\"与其说\",\"与否\",\"与此同时\",\"且\",\n",
    "                    \"且不说\",\"且说\",\"两者\",\"个\",\"个别\",\"中\",\"临\",\"为\",\"为了\",\"为什么\",\n",
    "                    \"为何\",\"为止\",\"为此\",\"为着\",\"乃\",\"乃至\",\"乃至于\",\"么\",\"之\",\"之一\",\n",
    "                    \"之所以\",\"之类\",\"乌乎\",\"乎\",\"乘\",\"九\",\"也\",\"也好\",\"也罢\",\"了\",\"二\",\n",
    "                    \"二来\",\"于\",\"于是\",\"于是乎\",\"云云\",\"云尔\",\"五\",\"些\",\"亦\",\"人\",\"人们\",\n",
    "                    \"人家\",\"什\",\"什么\",\"什么样\",\"今\",\"介于\",\"仍\",\"仍旧\",\"从\",\"从此\",\"从而\",\n",
    "                    \"他\",\"他人\",\"他们\",\"他们们\",\"以\",\"以上\",\"以为\",\"以便\",\"以免\",\"以及\",\n",
    "                    \"以故\",\"以期\",\"以来\",\"以至\",\"以至于\",\"以致\",\"们\",\"任\",\"任何\",\"任凭\",\n",
    "                    \"会\",\"似的\",\"但\",\"但凡\",\"但是\",\"何\",\"何以\",\"何况\",\"何处\",\"何时\",\"余外\",\n",
    "                    \"作为\",\"你\",\"你们\",\"使\",\"使得\",\"例如\",\"依\",\"依据\",\"依照\",\"便于\",\"俺\",\n",
    "                    \"俺们\",\"倘\",\"倘使\",\"倘或\",\"倘然\",\"倘若\",\"借\",\"借傥然\",\"假使\",\"假如\",\n",
    "                    \"假若\",\"做\",\"像\",\"儿\",\"先不先\",\"光是\",\"全体\",\"全部\",\"八\",\"六\",\"兮\",\n",
    "                    \"共\",\"关于\",\"关于具体地说\",\"其\",\"其一\",\"其中\",\"其二\",\"其他\",\"其余\",\n",
    "                    \"其它\",\"其次\",\"具体地说\",\"具体说来\",\"兼之\",\"内\",\"再\",\"再其次\",\"再则\",\n",
    "                    \"再有\",\"再者\",\"再者说\",\"再说\",\"冒\",\"冲\",\"况且\",\"几\",\"几时\",\"凡\",\"凡是\",\n",
    "                    \"凭\",\"凭借\",\"出于\",\"出来\",\"分\",\"分别\",\"则\",\"则甚\",\"别\",\"别人\",\"别处\",\"别是\",\n",
    "                    \"别的\",\"别管\",\"别说\",\"到\",\"前后\",\"前此\",\"前者\",\"加之\",\"加以\",\"即\",\"即令\",\"即使\",\n",
    "                    \"即便\",\"即如\",\"即或\",\"即若\",\"却\",\"去\",\"又\",\"又及\",\"及\",\"及其\",\"及至\",\"反之\",\n",
    "                    \"反而\",\"反过来\",\"反过来说\",\"受到\",\"另\",\"另一方面\",\"另外\",\"另悉\",\"只\",\"只当\",\n",
    "                    \"只怕\",\"只是\",\"只有\",\"只消\",\"只要\",\"只限\",\"叫\",\"叮咚\",\"可\",\"可以\",\"可是\",\n",
    "                    \"可见\",\"各\",\"各个\",\"各位\",\"各种\",\"各自\",\"同\",\"同时\",\"后\",\"后者\",\"向\",\"向使\",\n",
    "                    \"向着\",\"吓\",\"吗\",\"否则\",\"吧\",\"吧哒\",\"含\",\"吱\",\"呀\",\"呃\",\"呕\",\"呗\",\"呜\",\"呜呼\",\n",
    "                    \"呢\",\"呵\",\"呵呵\",\"呸\",\"呼哧\",\"咋\",\"和\",\"咚\",\"咦\",\"咧\",\"咱\",\"咱们\",\"咳\",\"哇\",\n",
    "                    \"哈\",\"哈哈\",\"哉\",\"哎\",\"哎呀\",\"哎哟\",\"哗\",\"哟\",\"哦\",\"哩\",\"哪\",\"哪个\",\"哪些\",\n",
    "                    \"哪儿\",\"哪天\",\"哪年\",\"哪怕\",\"哪样\",\"哪边\",\"哪里\",\"哼\",\"哼唷\",\"唉\",\"唯有\",\"啊\",\n",
    "                    \"啐\",\"啥\",\"啦\",\"啪达\",\"啷当\",\"喂\",\"喏\",\"喔唷\",\"喽\",\"嗡\",\"嗡嗡\",\"嗬\",\"嗯\",\"嗳\",\n",
    "                    \"嘎\",\"嘎登\",\"嘘\",\"嘛\",\"嘻\",\"嘿\",\"嘿嘿\",\"四\",\"因\",\"因为\",\"因了\",\"因此\",\"因着\",\n",
    "                    \"因而\",\"固然\",\"在\",\"在下\",\"在于\",\"地\",\"基于\",\"处在\",\"多\",\"多么\",\"多少\",\"大\",\n",
    "                    \"大家\",\"她\",\"她们\",\"好\",\"如\",\"如上\",\"如上所述\",\"如下\",\"如何\",\"如其\",\"如同\",\"如是\",\n",
    "                    \"如果\",\"如此\",\"如若\",\"始而\",\"孰料\",\"孰知\",\"宁\",\"宁可\",\"宁愿\",\"宁肯\",\"它\",\"它们\",\n",
    "                    \"对\",\"对于\",\"对待\",\"对方\",\"对比\",\"将\",\"小\",\"尔\",\"尔后\",\"尔尔\",\"尚且\",\"就\",\"就是\",\n",
    "                    \"就是了\",\"就是说\",\"就算\",\"就要\",\"尽\",\"尽管\",\"尽管如此\",\"岂但\",\"己\",\"已\",\"已矣\",\"巴\",\n",
    "                    \"巴巴\",\"年\",\"并\",\"并且\",\"庶乎\",\"庶几\",\"开外\",\"开始\",\"归\",\"归齐\",\"当\",\"当地\",\"当然\",\n",
    "                    \"当着\",\"彼\",\"彼时\",\"彼此\",\"往\",\"待\",\"很\",\"得\",\"得了\",\"怎\",\"怎么\",\"怎么办\",\"怎么样\",\n",
    "                    \"怎奈\",\"怎样\",\"总之\",\"总的来看\",\"总的来说\",\"总的说来\",\"总而言之\",\"恰恰相反\",\"您\",\"惟其\",\n",
    "                    \"慢说\",\"我\",\"我们\",\"或\",\"或则\",\"或是\",\"或曰\",\"或者\",\"截至\",\"所\",\"所以\",\"所在\",\"所幸\",\n",
    "                    \"所有\",\"才\",\"才能\",\"打\",\"打从\",\"把\",\"抑或\",\"拿\",\"按\",\"按照\",\"换句话说\",\"换言之\",\"据\",\n",
    "                    \"据此\",\"接着\",\"故\",\"故此\",\"故而\",\"旁人\",\"无\",\"无宁\",\"无论\",\"既\",\"既往\",\"既是\",\"既然\",\n",
    "                    \"日\",\"时\",\"时候\",\"是\",\"是以\",\"是的\",\"更\",\"曾\",\"替\",\"替代\",\"最\",\"月\",\"有\",\"有些\",\"有关\",\n",
    "                    \"有及\",\"有时\",\"有的\",\"望\",\"朝\",\"朝着\",\"本\",\"本人\",\"本地\",\"本着\",\"本身\",\"来\",\"来着\",\"来自\",\n",
    "                    \"来说\",\"极了\",\"果然\",\"果真\",\"某\",\"某个\",\"某些\",\"某某\",\"根据\",\"欤\",\"正值\",\"正如\",\"正巧\",\n",
    "                    \"正是\",\"此\",\"此地\",\"此处\",\"此外\",\"此时\",\"此次\",\"此间\",\"毋宁\",\"每\",\"每当\",\"比\",\"比及\",\n",
    "                    \"比如\",\"比方\",\"没奈何\",\"沿\",\"沿着\",\"漫说\",\"焉\",\"然则\",\"然后\",\"然而\",\"照\",\"照着\",\"犹且\",\n",
    "                    \"犹自\",\"甚且\",\"甚么\",\"甚或\",\"甚而\",\"甚至\",\"甚至于\",\"用\",\"用来\",\"由\",\"由于\",\"由是\",\n",
    "                    \"由此\",\"由此可见\",\"的\",\"的确\",\"的话\",\"直到\",\"相对而言\",\"省得\",\"看\",\"眨眼\",\"着\",\"着呢\",\n",
    "                    \"矣\",\"矣乎\",\"矣哉\",\"离\",\"秒\",\"竟而\",\"第\",\"等\",\"等到\",\"等等\",\"简言之\",\"管\",\"类如\",\n",
    "                    \"紧接着\",\"纵\",\"纵令\",\"纵使\",\"纵然\",\"经\",\"经过\",\"结果\",\"给\",\"继之\",\"继后\",\"继而\",\n",
    "                    \"综上所述\",\"罢了\",\"者\",\"而\",\"而且\",\"而况\",\"而后\",\"而外\",\"而已\",\"而是\",\"而言\",\"能\",\n",
    "                    \"能否\",\"腾\",\"自\",\"自个儿\",\"自从\",\"自各儿\",\"自后\",\"自家\",\"自己\",\"自打\",\"自身\",\"至\",\n",
    "                    \"至于\",\"至今\",\"至若\",\"致\",\"般的\",\"若\",\"若夫\",\"若是\",\"若果\",\"若非\",\"莫不然\",\"莫如\",\n",
    "                    \"莫若\",\"虽\",\"虽则\",\"虽然\",\"虽说\",\"被\",\"要\",\"要不\",\"要不是\",\"要不然\",\"要么\",\"要是\",\n",
    "                    \"譬喻\",\"譬如\",\"让\",\"许多\",\"论\",\"设使\",\"设或\",\"设若\",\"诚如\",\"诚然\",\"该\",\"说\",\"说来\",\n",
    "                    \"请\",\"诸\",\"诸位\",\"诸如\",\"谁\",\"谁人\",\"谁料\",\"谁知\",\"贼死\",\"赖以\",\"赶\",\"起\",\"起见\",\n",
    "                    \"趁\",\"趁着\",\"越是\",\"距\",\"跟\",\"较\",\"较之\",\"边\",\"过\",\"还\",\"还是\",\"还有\",\"还要\",\"这\",\n",
    "                    \"这一来\",\"这个\",\"这么\",\"这么些\",\"这么样\",\"这么点儿\",\"这些\",\"这会儿\",\"这儿\",\"这就是说\",\n",
    "                    \"这时\",\"这样\",\"这次\",\"这般\",\"这边\",\"这里\",\"进而\",\"连\",\"连同\",\"逐步\",\"通过\",\"遵循\",\n",
    "                    \"遵照\",\"那\",\"那个\",\"那么\",\"那么些\",\"那么样\",\"那些\",\"那会儿\",\"那儿\",\"那时\",\"那样\",\n",
    "                    \"那般\",\"那边\",\"那里\",\"都\",\"鄙人\",\"鉴于\",\"针对\",\"阿\",\"除\",\"除了\",\"除外\",\"除开\",\n",
    "                    \"除此之外\",\"除非\",\"随\",\"随后\",\"随时\",\"随着\",\"难道说\",\"零\",\"非\",\"非但\",\"非徒\",\"非特\",\n",
    "                    \"非独\",\"靠\",\"顺\",\"顺着\",\"首先\",\"︿\",\"！\",\"＃\",\"＄\",\"％\",\"＆\",\"（\",\"）\",\"＊\",\"＋\",\n",
    "                    \"，\",\"０\",\"１\",\"２\",\"３\",\"４\",\"５\",\"６\",\"７\",\"８\",\"９\",\"：\",\n",
    "                    \"；\",\"＜\",\"＞\",\"？\",\"＠\",\"［\",\"］\",\"｛\",\"｜\",\"｝\",\"～\",\"￥\",\"\\n\", \" \",'借傥', '兼',\n",
    "                    '前', '唷', '啪', '啷', '喔', '天', '始', '漫', '然', '特', '竟', '莫', '见', '设', '达',\n",
    "                   \"!\" ,\"#\", \"$\", \"%\",\"&\", \"(\",\")\",\"+\", \"-\",\"/\",\"=\",\"'\", \",\", \"?\",\"他們\",\"並且\",\n",
    "                   \"擁有\",\"擁有\",\"一個\",\"我們\"]"
   ]
  },
  {
   "cell_type": "markdown",
   "metadata": {},
   "source": [
    "##### english2chinese\n",
    "##### Simple English to Chinese Translation Function"
   ]
  },
  {
   "cell_type": "code",
   "execution_count": 7,
   "metadata": {
    "pycharm": {
     "is_executing": false,
     "name": "#%%\n"
    }
   },
   "outputs": [],
   "source": [
    "#translates English to Chinese for the initial search of wikipedia in language being learned\n",
    "def english2chinese(topic, display=False):\n",
    "    \"\"\" Translates a word or words from English into Traditional Mandarin\"\"\"\n",
    "    # Instantiates a client\n",
    "    translate_client = translate.Client()\n",
    "    text = topic\n",
    "    # Defines the target language\n",
    "    target = 'zh-TW'\n",
    "    # Translates some text into traditional Chinese\n",
    "    translation = translate_client.translate(text, target_language=target)\n",
    "    text_ = translation['translatedText']\n",
    "    if display == True:\n",
    "        print(text_)\n",
    "        return text_\n",
    "    else:\n",
    "        return text_"
   ]
  },
  {
   "cell_type": "markdown",
   "metadata": {},
   "source": [
    "##### chinese2english()\n",
    "##### Simple Chinese to English Translation Function"
   ]
  },
  {
   "cell_type": "code",
   "execution_count": 8,
   "metadata": {
    "pycharm": {
     "is_executing": false
    }
   },
   "outputs": [],
   "source": [
    "# translates Chinese to English\n",
    "def chinese2english(topic):\n",
    "    # Instantiates a client\n",
    "    translate_client = translate.Client()\n",
    "    text = topic\n",
    "    # Defines the target language\n",
    "    target = 'en'\n",
    "    # Translates some text into traditional Chinese\n",
    "    translation = translate_client.translate(text, target_language=target)\n",
    "    text_ = translation['translatedText']\n",
    "    if display == True:\n",
    "        print(text_)\n",
    "        return text_\n",
    "    else:\n",
    "        return text_"
   ]
  },
  {
   "cell_type": "markdown",
   "metadata": {},
   "source": [
    "##### e2c_say_anything()\n",
    "##### English to Chinese With TTS"
   ]
  },
  {
   "cell_type": "code",
   "execution_count": 9,
   "metadata": {
    "pycharm": {
     "is_executing": false,
     "name": "#%%\n"
    }
   },
   "outputs": [],
   "source": [
    "def e2c_say_anything():\n",
    "    translate_client = translate.Client()\n",
    "    text = input('What word would you like to say in Chinese(Mandarin)：')\n",
    "    # Defines the target language\n",
    "    target = 'zh-TW'\n",
    "    # Translates some text into traditional Chinese\n",
    "    translation = translate_client.translate(text, target_language=target)\n",
    "    text_ = translation['translatedText']\n",
    "    # Build the voice request, select the language code (\"en-US\") and the ssml\n",
    "    # voice gender (\"neutral\")\n",
    "    \n",
    "    #add pinyin\n",
    "    pinyin_with_numbers = p.get_pinyin(text_, tone_marks='numbers')\n",
    "    tts = gTTS(text=text_, lang='zh-TW')\n",
    "    tts.save(\"good.mp3\")\n",
    "    \n",
    "    print(\"Input: {}\".format(text))\n",
    "    print(\"Traditional Chinese Translation: {}\".format(text_))\n",
    "    print(\"Pinyin Translation with tone numbers: {}\".format(pinyin_with_numbers))\n",
    "    return os.system(\"mpg321 good.mp3\")"
   ]
  },
  {
   "cell_type": "markdown",
   "metadata": {},
   "source": [
    "##### c2e_say_anything\n",
    "##### Chinese To English"
   ]
  },
  {
   "cell_type": "code",
   "execution_count": 10,
   "metadata": {
    "pycharm": {
     "is_executing": false
    }
   },
   "outputs": [],
   "source": [
    "def c2e_say_anything(text):\n",
    "    translate_client = translate.Client()\n",
    "    text = text\n",
    "    # Defines the target language\n",
    "    target = 'en'\n",
    "    # Translates some text into traditional Chinese\n",
    "    translation = translate_client.translate(text, target_language=target)\n",
    "    text_ = translation['translatedText']\n",
    "    # Build the voice request, select the language code (\"en-US\") and the ssml\n",
    "    # voice gender (\"neutral\")\n",
    "    \n",
    "    \n",
    "    tts = gTTS(text=text_, lang='en')\n",
    "    tts.save(\"good.mp3\")\n",
    "    \n",
    "    print(\"Input: {}\".format(text))\n",
    "    print(\"Output: {}\".format(text_))\n",
    "    return os.system(\"mpg321 good.mp3\")\n",
    "    "
   ]
  },
  {
   "cell_type": "markdown",
   "metadata": {},
   "source": [
    "##### search_wikipedia()"
   ]
  },
  {
   "cell_type": "code",
   "execution_count": 11,
   "metadata": {
    "pycharm": {
     "is_executing": false
    }
   },
   "outputs": [],
   "source": [
    "def search_wikipedia(topic, display=False,results=3):\n",
    "    wikipedia.set_lang('zh-TW')\n",
    "    search_phrase = english2chinese(topic)\n",
    "    pages = wikipedia.search(search_phrase, results=3)\n",
    "    if display == True:\n",
    "        print('the pages in native language', pages)\n",
    "        return pages\n",
    "    else:\n",
    "        return pages"
   ]
  },
  {
   "cell_type": "markdown",
   "metadata": {},
   "source": [
    "##### get_content()"
   ]
  },
  {
   "cell_type": "code",
   "execution_count": 12,
   "metadata": {
    "pycharm": {
     "is_executing": false
    }
   },
   "outputs": [],
   "source": [
    "def get_content(topic):\n",
    "    \"\"\"Takes a topic Parameter and returns the wikipedia page that best matches that topic in Chinese\"\"\"\n",
    "    wikipedia.set_lang('zh-TW')\n",
    "    search_phrase = english2chinese(topic)\n",
    "    wiki_page = wikipedia.page(search_phrase,preload=True)\n",
    "    return wiki_page.content"
   ]
  },
  {
   "cell_type": "markdown",
   "metadata": {},
   "source": [
    "##### wikipedia_page_choices()"
   ]
  },
  {
   "cell_type": "code",
   "execution_count": 13,
   "metadata": {
    "pycharm": {
     "is_executing": false
    }
   },
   "outputs": [],
   "source": [
    "def wikipedia_page_choices(topic, language='en'):\n",
    "    pages = search_wikipedia(topic)\n",
    "    translate_client = translate.Client()\n",
    "    target_en = language\n",
    "    print('Titles of wikipedia page')\n",
    "    for page in pages:\n",
    "            english_translation = translate_client.translate(page, target_language=target_en)\n",
    "            english_text = english_translation['translatedText']\n",
    "            print(english_text)\n",
    "        "
   ]
  },
  {
   "cell_type": "markdown",
   "metadata": {},
   "source": [
    "##### getChinese()\n",
    "##### prep data for jieba text analysis"
   ]
  },
  {
   "cell_type": "code",
   "execution_count": 14,
   "metadata": {
    "pycharm": {
     "is_executing": false
    }
   },
   "outputs": [],
   "source": [
    "def getChinese(content):\n",
    "    content = content.decode(\"utf-8\") # convert content from str to unicode\n",
    "    filtrate = re.compile(u'[^\\u4E00-\\u9FA5]') # non-Chinese unicode range\n",
    "    content = filtrate.sub(r'', content) # remove all non-Chinese characters\n",
    "    content = content.encode(\"utf-8\") # convert unicode back to str\n",
    "    return content"
   ]
  },
  {
   "cell_type": "markdown",
   "metadata": {},
   "source": [
    "##### combine_wikipedia_pages"
   ]
  },
  {
   "cell_type": "code",
   "execution_count": 15,
   "metadata": {
    "pycharm": {
     "is_executing": false
    }
   },
   "outputs": [],
   "source": [
    "corpus = []\n",
    "def combine_wikipedia_pages(query, suggestion=True, results=2):\n",
    "    translated_query = english2chinese(query)\n",
    "    titles = wikipedia.search(translated_query, results=results)\n",
    "    filter('', titles)\n",
    "    for title in titles:\n",
    "        webpage = wikipedia.page(title)\n",
    "        content = webpage.content\n",
    "        image = webpage.images[::-1]\n",
    "#         content = getChinese(content)\n",
    "        #remove links\n",
    "        #content = re.sub(\"http://[a-zA-z./\\d]*\",\" \",content)\n",
    "        # remove emojis\n",
    "        #content = re.sub(\"\\[.{0,12}\\]\",\" \",content)\n",
    "        #remove digits\n",
    "        #content = re.sub(\"\\d\",\"\",content)\n",
    "        # remove elipses\n",
    "        #content = re.sub(\"\\.*\",\" \",content)\n",
    "        #extract and remove all english characters\n",
    "        english = re.findall(\"[a-z]+\",content)\n",
    "        content = re.sub(\"[a-z]+\",\"\",content)\n",
    "        print(\"page added to content\")\n",
    "        f = open(\"myfile.txt\", \"a\")\n",
    "        f.write(str(content))\n",
    "        f.close()\n",
    "        picture =Image(url= str(image[0]))\n",
    "        corpus.append(content)\n",
    "        \n",
    "    print(\"process finished, all content stored in myfile.txt\")\n",
    "    display(picture)"
   ]
  },
  {
   "cell_type": "code",
   "execution_count": 16,
   "metadata": {},
   "outputs": [
    {
     "name": "stdout",
     "output_type": "stream",
     "text": [
      "page added to content\n",
      "page added to content\n",
      "process finished, all content stored in myfile.txt\n"
     ]
    },
    {
     "data": {
      "text/html": [
       "<img src=\"https://upload.wikimedia.org/wikipedia/en/9/99/Question_book-new.svg\"/>"
      ],
      "text/plain": [
       "<IPython.core.display.Image object>"
      ]
     },
     "metadata": {},
     "output_type": "display_data"
    }
   ],
   "source": [
    "combine_wikipedia_pages('Batman')"
   ]
  },
  {
   "cell_type": "code",
   "execution_count": 17,
   "metadata": {},
   "outputs": [],
   "source": [
    "#read in the text file\n",
    "with open('myfile.txt','r')as myfile:\n",
    "    data=myfile.read()"
   ]
  },
  {
   "cell_type": "code",
   "execution_count": 18,
   "metadata": {},
   "outputs": [],
   "source": [
    "#segement and save \n",
    "seg_list = jieba.cut(data, cut_all=False)"
   ]
  },
  {
   "cell_type": "code",
   "execution_count": 19,
   "metadata": {},
   "outputs": [
    {
     "name": "stderr",
     "output_type": "stream",
     "text": [
      "Building prefix dict from the default dictionary ...\n",
      "Dumping model to file cache /var/folders/1t/9lntgd4j2s392kk_x9g9nw0r0000gn/T/jieba.cache\n",
      "Loading model cost 1.588 seconds.\n",
      "Prefix dict has been built succesfully.\n"
     ]
    }
   ],
   "source": [
    "seg_list = [str(word) for word in seg_list if not str(word) in jieba_stop_words]"
   ]
  },
  {
   "cell_type": "code",
   "execution_count": 20,
   "metadata": {
    "scrolled": true
   },
   "outputs": [],
   "source": [
    "new_text = (\"\".join(seg_list))"
   ]
  },
  {
   "cell_type": "code",
   "execution_count": 21,
   "metadata": {},
   "outputs": [],
   "source": [
    "\n",
    "f=open('myfile.txt','w')\n",
    "f.write(new_text)\n",
    "f.close()"
   ]
  },
  {
   "cell_type": "code",
   "execution_count": 22,
   "metadata": {},
   "outputs": [],
   "source": [
    "top20 = jieba.analyse.extract_tags(new_text, topK=20, withWeight=True)"
   ]
  },
  {
   "cell_type": "code",
   "execution_count": 23,
   "metadata": {},
   "outputs": [],
   "source": [
    "vocab = pd.DataFrame(top20, columns=['Chinese','Weight'])"
   ]
  },
  {
   "cell_type": "code",
   "execution_count": 24,
   "metadata": {},
   "outputs": [],
   "source": [
    "def get_pinyin(word, tone_marks='numbers'):\n",
    "    return p.get_pinyin(word, tone_marks='numbers')"
   ]
  },
  {
   "cell_type": "code",
   "execution_count": 25,
   "metadata": {},
   "outputs": [],
   "source": [
    "vocab['Pinyin']= vocab['Chinese'].apply(get_pinyin)\n",
    "    "
   ]
  },
  {
   "cell_type": "code",
   "execution_count": 26,
   "metadata": {},
   "outputs": [],
   "source": [
    "vocab['English'] = vocab['Chinese'].apply(chinese2english)"
   ]
  },
  {
   "cell_type": "code",
   "execution_count": 27,
   "metadata": {
    "scrolled": true
   },
   "outputs": [
    {
     "data": {
      "text/html": [
       "<div>\n",
       "<style scoped>\n",
       "    .dataframe tbody tr th:only-of-type {\n",
       "        vertical-align: middle;\n",
       "    }\n",
       "\n",
       "    .dataframe tbody tr th {\n",
       "        vertical-align: top;\n",
       "    }\n",
       "\n",
       "    .dataframe thead th {\n",
       "        text-align: right;\n",
       "    }\n",
       "</style>\n",
       "<table border=\"1\" class=\"dataframe\">\n",
       "  <thead>\n",
       "    <tr style=\"text-align: right;\">\n",
       "      <th></th>\n",
       "      <th>Chinese</th>\n",
       "      <th>Weight</th>\n",
       "      <th>Pinyin</th>\n",
       "      <th>English</th>\n",
       "    </tr>\n",
       "  </thead>\n",
       "  <tbody>\n",
       "    <tr>\n",
       "      <td>0</td>\n",
       "      <td>蝙蝠侠</td>\n",
       "      <td>0.384107</td>\n",
       "      <td>bian1-fu2-xia2</td>\n",
       "      <td>Batman</td>\n",
       "    </tr>\n",
       "    <tr>\n",
       "      <td>1</td>\n",
       "      <td>蝙蝠</td>\n",
       "      <td>0.219956</td>\n",
       "      <td>bian1-fu2</td>\n",
       "      <td>bat</td>\n",
       "    </tr>\n",
       "    <tr>\n",
       "      <td>2</td>\n",
       "      <td>漫画</td>\n",
       "      <td>0.089332</td>\n",
       "      <td>man4-hua4</td>\n",
       "      <td>Comic</td>\n",
       "    </tr>\n",
       "    <tr>\n",
       "      <td>3</td>\n",
       "      <td>DC</td>\n",
       "      <td>0.068518</td>\n",
       "      <td>DC</td>\n",
       "      <td>DC</td>\n",
       "    </tr>\n",
       "    <tr>\n",
       "      <td>4</td>\n",
       "      <td>罗宾</td>\n",
       "      <td>0.057950</td>\n",
       "      <td>luo1-bin1</td>\n",
       "      <td>Robin</td>\n",
       "    </tr>\n",
       "    <tr>\n",
       "      <td>5</td>\n",
       "      <td>布鲁斯</td>\n",
       "      <td>0.050908</td>\n",
       "      <td>bu4-lu3-si1</td>\n",
       "      <td>Bruce</td>\n",
       "    </tr>\n",
       "    <tr>\n",
       "      <td>6</td>\n",
       "      <td>故事</td>\n",
       "      <td>0.041583</td>\n",
       "      <td>gu4-shi4</td>\n",
       "      <td>story</td>\n",
       "    </tr>\n",
       "    <tr>\n",
       "      <td>7</td>\n",
       "      <td>凯恩</td>\n",
       "      <td>0.037914</td>\n",
       "      <td>kai3-en1</td>\n",
       "      <td>Kane</td>\n",
       "    </tr>\n",
       "    <tr>\n",
       "      <td>8</td>\n",
       "      <td>漫畫</td>\n",
       "      <td>0.037662</td>\n",
       "      <td>man4-hua4</td>\n",
       "      <td>Comic</td>\n",
       "    </tr>\n",
       "    <tr>\n",
       "      <td>9</td>\n",
       "      <td>连载</td>\n",
       "      <td>0.035548</td>\n",
       "      <td>lian2-zai4</td>\n",
       "      <td>Serial</td>\n",
       "    </tr>\n",
       "    <tr>\n",
       "      <td>10</td>\n",
       "      <td>芬格</td>\n",
       "      <td>0.035393</td>\n",
       "      <td>fen1-ge2</td>\n",
       "      <td>Finger</td>\n",
       "    </tr>\n",
       "    <tr>\n",
       "      <td>11</td>\n",
       "      <td>超人</td>\n",
       "      <td>0.034244</td>\n",
       "      <td>chao1-ren2</td>\n",
       "      <td>Superman</td>\n",
       "    </tr>\n",
       "    <tr>\n",
       "      <td>12</td>\n",
       "      <td>小丑</td>\n",
       "      <td>0.032111</td>\n",
       "      <td>xiao3-chou3</td>\n",
       "      <td>clown</td>\n",
       "    </tr>\n",
       "    <tr>\n",
       "      <td>13</td>\n",
       "      <td>迪克</td>\n",
       "      <td>0.031086</td>\n",
       "      <td>di2-ke4</td>\n",
       "      <td>Dick</td>\n",
       "    </tr>\n",
       "    <tr>\n",
       "      <td>14</td>\n",
       "      <td>角色</td>\n",
       "      <td>0.030919</td>\n",
       "      <td>jiao3-se4</td>\n",
       "      <td>Character</td>\n",
       "    </tr>\n",
       "    <tr>\n",
       "      <td>15</td>\n",
       "      <td>電影</td>\n",
       "      <td>0.030856</td>\n",
       "      <td>dian4-ying3</td>\n",
       "      <td>the film</td>\n",
       "    </tr>\n",
       "    <tr>\n",
       "      <td>16</td>\n",
       "      <td>52</td>\n",
       "      <td>0.029041</td>\n",
       "      <td>52</td>\n",
       "      <td>52</td>\n",
       "    </tr>\n",
       "    <tr>\n",
       "      <td>17</td>\n",
       "      <td>英雄</td>\n",
       "      <td>0.028896</td>\n",
       "      <td>ying1-xiong2</td>\n",
       "      <td>hero</td>\n",
       "    </tr>\n",
       "    <tr>\n",
       "      <td>18</td>\n",
       "      <td>黑暗</td>\n",
       "      <td>0.026642</td>\n",
       "      <td>hei1-an4</td>\n",
       "      <td>dark</td>\n",
       "    </tr>\n",
       "    <tr>\n",
       "      <td>19</td>\n",
       "      <td>侦探</td>\n",
       "      <td>0.025201</td>\n",
       "      <td>zhen1-tan4</td>\n",
       "      <td>detective</td>\n",
       "    </tr>\n",
       "  </tbody>\n",
       "</table>\n",
       "</div>"
      ],
      "text/plain": [
       "   Chinese    Weight          Pinyin    English\n",
       "0      蝙蝠侠  0.384107  bian1-fu2-xia2     Batman\n",
       "1       蝙蝠  0.219956       bian1-fu2        bat\n",
       "2       漫画  0.089332       man4-hua4      Comic\n",
       "3       DC  0.068518              DC         DC\n",
       "4       罗宾  0.057950       luo1-bin1      Robin\n",
       "5      布鲁斯  0.050908     bu4-lu3-si1      Bruce\n",
       "6       故事  0.041583        gu4-shi4      story\n",
       "7       凯恩  0.037914        kai3-en1       Kane\n",
       "8       漫畫  0.037662       man4-hua4      Comic\n",
       "9       连载  0.035548      lian2-zai4     Serial\n",
       "10      芬格  0.035393        fen1-ge2     Finger\n",
       "11      超人  0.034244      chao1-ren2   Superman\n",
       "12      小丑  0.032111     xiao3-chou3      clown\n",
       "13      迪克  0.031086         di2-ke4       Dick\n",
       "14      角色  0.030919       jiao3-se4  Character\n",
       "15      電影  0.030856     dian4-ying3   the film\n",
       "16      52  0.029041              52         52\n",
       "17      英雄  0.028896    ying1-xiong2       hero\n",
       "18      黑暗  0.026642        hei1-an4       dark\n",
       "19      侦探  0.025201      zhen1-tan4  detective"
      ]
     },
     "execution_count": 27,
     "metadata": {},
     "output_type": "execute_result"
    }
   ],
   "source": [
    "vocab"
   ]
  },
  {
   "cell_type": "markdown",
   "metadata": {},
   "source": [
    "##### pronounce_chinese()"
   ]
  },
  {
   "cell_type": "code",
   "execution_count": 28,
   "metadata": {},
   "outputs": [],
   "source": [
    "def pronounce_chinese(text_):\n",
    "    tts = gTTS(text=text_, lang='zh-TW')\n",
    "    tts.save(\"good.mp3\")\n",
    "    return os.system(\"mpg321 good.mp3\")"
   ]
  },
  {
   "cell_type": "markdown",
   "metadata": {},
   "source": [
    "# Run the Below Cell Every Time"
   ]
  },
  {
   "cell_type": "markdown",
   "metadata": {},
   "source": [
    "The Wikipedia (text only) content from how ever many pages you choose to pull from will be written to a text file.  The rerun function clears the file."
   ]
  },
  {
   "cell_type": "markdown",
   "metadata": {},
   "source": [
    "##### rerun()"
   ]
  },
  {
   "cell_type": "code",
   "execution_count": 29,
   "metadata": {},
   "outputs": [],
   "source": [
    "def rerun():\n",
    "    with open('myfile.txt', 'w') as f:\n",
    "        f.write('')\n",
    "        f.close()"
   ]
  },
  {
   "cell_type": "code",
   "execution_count": 30,
   "metadata": {},
   "outputs": [],
   "source": [
    "rerun()"
   ]
  },
  {
   "cell_type": "markdown",
   "metadata": {},
   "source": [
    "# Working MVP"
   ]
  },
  {
   "cell_type": "markdown",
   "metadata": {},
   "source": [
    "# play around with the search phrase a bit"
   ]
  },
  {
   "cell_type": "markdown",
   "metadata": {},
   "source": [
    "##### get_search_suggestions()"
   ]
  },
  {
   "cell_type": "code",
   "execution_count": 31,
   "metadata": {},
   "outputs": [],
   "source": [
    "def get_search_suggestions():\n",
    "    # user defined input\n",
    "    topic = input('What would you like to search for?: ')\n",
    "    # set the target language you would like to use\n",
    "    # Chinese Tradtional ='zh-TW' https://ctrlq.org/code/19899-google-translate-languages\n",
    "    target = 'zh-TW'\n",
    "    native_language ='en'\n",
    "    # Instantiates Google Translate API\n",
    "    translate_client = translate.Client()\n",
    "    translation = translate_client.translate(topic, target_language=target)\n",
    "\n",
    "    # search wikipedia China\n",
    "    wikipedia.set_lang(target)\n",
    "    suggestions = wikipedia.search( translation['translatedText'])\n",
    "    print(suggestions)\n",
    "    print('try one of the following search phrases')\n",
    "    #translate Chinese results into English\n",
    "    for suggestion in suggestions:\n",
    "        native = translate_client.translate(str(suggestion), target_language=native_language)\n",
    "        print(native['translatedText'])\n",
    "#     native_translation = translate_client.translate(suggestions, target_language=native_language)\n",
    "#     print(native_language['translatedText'])"
   ]
  },
  {
   "cell_type": "code",
   "execution_count": null,
   "metadata": {
    "scrolled": false
   },
   "outputs": [],
   "source": [
    "get_search_suggestions()"
   ]
  },
  {
   "cell_type": "markdown",
   "metadata": {},
   "source": [
    "#### functions"
   ]
  },
  {
   "cell_type": "code",
   "execution_count": null,
   "metadata": {},
   "outputs": [],
   "source": [
    "# translates Chinese to English\n",
    "def english2chinese(topic):\n",
    "    # Instantiates a client\n",
    "    translate_client = translate.Client()\n",
    "    text = topic\n",
    "    # Defines the target language\n",
    "    target = 'zh-TW'\n",
    "    # Translates some text into traditional Chinese\n",
    "    translation = translate_client.translate(text, target_language=target)\n",
    "    text_ = translation['translatedText']\n",
    "    if display == True:\n",
    "        print(text_)\n",
    "        return text_\n",
    "    else:\n",
    "        return text_"
   ]
  },
  {
   "cell_type": "markdown",
   "metadata": {},
   "source": [
    "##### application()"
   ]
  },
  {
   "cell_type": "code",
   "execution_count": null,
   "metadata": {},
   "outputs": [],
   "source": [
    "def application(results=2):\n",
    "    topic=input('Type one of the above search suggestions here: ')\n",
    "    combine_wikipedia_pages(topic, results=results)\n",
    "    #read in the text file\n",
    "    with open('myfile.txt','r')as myfile:\n",
    "        data=myfile.read()\n",
    "    \n",
    "    #segement and save \n",
    "    seg_list = jieba.cut(data, cut_all=False)\n",
    "    seg_list = [str(word) for word in seg_list if not str(word) in jieba_stop_words]\n",
    "    new_text = (\"\".join(seg_list))\n",
    "    #overwrite myfile.txt without stopwords\n",
    "    f=open('myfile.txt','w')\n",
    "    f.write(new_text)\n",
    "    f.close()\n",
    "    #20 most important vocabulary words to know\n",
    "    top20 = jieba.analyse.extract_tags(new_text, topK=20, withWeight=True)\n",
    "    #store to dataframe\n",
    "    vocab = pd.DataFrame(top20, columns=['Chinese','Weight'])\n",
    "    #add pinyin to dataframe\n",
    "    vocab['Pinyin']= vocab['Chinese'].apply(get_pinyin)\n",
    "    #add english translation to dataframe\n",
    "    vocab['English'] = vocab['Chinese'].apply(chinese2english)\n",
    "    return vocab"
   ]
  },
  {
   "cell_type": "markdown",
   "metadata": {},
   "source": [
    "#### Sanity Check"
   ]
  },
  {
   "cell_type": "code",
   "execution_count": null,
   "metadata": {
    "scrolled": false
   },
   "outputs": [],
   "source": [
    "df = application()"
   ]
  },
  {
   "cell_type": "code",
   "execution_count": null,
   "metadata": {},
   "outputs": [],
   "source": [
    "df"
   ]
  },
  {
   "cell_type": "code",
   "execution_count": null,
   "metadata": {},
   "outputs": [],
   "source": [
    "# keep only simplified or traditional \n",
    "df.drop_duplicates(subset='English',keep='first', inplace=True)"
   ]
  },
  {
   "cell_type": "code",
   "execution_count": null,
   "metadata": {
    "scrolled": true
   },
   "outputs": [],
   "source": [
    "# Rename the columns to something I like a bit better.\n",
    "df.columns = ['漢字(traditional)', 'weight', 'pinyin(numbers)', 'English']\n",
    "df"
   ]
  },
  {
   "cell_type": "markdown",
   "metadata": {},
   "source": [
    "# Bring in cc-cedict dictionary"
   ]
  },
  {
   "cell_type": "code",
   "execution_count": null,
   "metadata": {},
   "outputs": [],
   "source": [
    "dictionary = pd.read_csv('cedict.csv',sep='|', skiprows=0)"
   ]
  },
  {
   "cell_type": "code",
   "execution_count": null,
   "metadata": {
    "scrolled": true
   },
   "outputs": [],
   "source": [
    "dictionary.columns = [\"漢字(traditional)\", \"汉字(simplified)\", \"pinyin(marks)\", \"English2\"]"
   ]
  },
  {
   "cell_type": "code",
   "execution_count": null,
   "metadata": {},
   "outputs": [],
   "source": [
    "df2= pd.merge(df, dictionary, on=\"漢字(traditional)\", how='left')"
   ]
  },
  {
   "cell_type": "code",
   "execution_count": null,
   "metadata": {
    "scrolled": false
   },
   "outputs": [],
   "source": [
    "df2.columns"
   ]
  },
  {
   "cell_type": "code",
   "execution_count": null,
   "metadata": {},
   "outputs": [],
   "source": [
    "# rearrange the columns in a way that makes sense\n",
    "df2 = df2[[\"English\",\"English2\",\"weight\",\"漢字(traditional)\",\"汉字(simplified)\",\"pinyin(marks)\",\"pinyin(numbers)\"]]"
   ]
  },
  {
   "cell_type": "code",
   "execution_count": null,
   "metadata": {},
   "outputs": [],
   "source": [
    "df2"
   ]
  },
  {
   "cell_type": "markdown",
   "metadata": {},
   "source": [
    "https://en.wiktionary.org/wiki/Appendix:Mandarin_Frequency_lists"
   ]
  },
  {
   "cell_type": "code",
   "execution_count": null,
   "metadata": {},
   "outputs": [],
   "source": [
    "most_common_words = pd.read_csv('1000words.csv', index_col=0)"
   ]
  },
  {
   "cell_type": "code",
   "execution_count": null,
   "metadata": {
    "scrolled": false
   },
   "outputs": [],
   "source": [
    "most_common_words.sample(5)"
   ]
  },
  {
   "cell_type": "markdown",
   "metadata": {},
   "source": [
    "# Study Section"
   ]
  },
  {
   "cell_type": "markdown",
   "metadata": {},
   "source": [
    "## [Review the Tones](https://www.youtube.com/watch?v=4ZB9-vZFesk)"
   ]
  },
  {
   "cell_type": "markdown",
   "metadata": {},
   "source": [
    "# Review Most Frequent Words"
   ]
  },
  {
   "cell_type": "code",
   "execution_count": null,
   "metadata": {},
   "outputs": [],
   "source": [
    "most_common_words.sample(5)"
   ]
  },
  {
   "cell_type": "markdown",
   "metadata": {},
   "source": [
    "## New Vocabulary Words"
   ]
  },
  {
   "cell_type": "code",
   "execution_count": null,
   "metadata": {},
   "outputs": [],
   "source": [
    "df2"
   ]
  },
  {
   "cell_type": "code",
   "execution_count": null,
   "metadata": {
    "scrolled": true
   },
   "outputs": [],
   "source": [
    "df.columns = ['漢字(traditional)', 'weight', 'pinyin(numbers)', 'English']\n",
    "\n",
    "# keep only simplified or traditional \n",
    "df.drop_duplicates(subset='English',keep='first', inplace=True)\n",
    "\n",
    "df2= pd.merge(df, dictionary, on=\"漢字(traditional)\", how='left')\n",
    "df2 = df2[[\"漢字(traditional)\",\"汉字(simplified)\",\"English\",\"English2\",\"pinyin(marks)\",\"pinyin(numbers)\"]]\n",
    "df2"
   ]
  },
  {
   "cell_type": "markdown",
   "metadata": {},
   "source": [
    "## Practice Pronouncing The Words"
   ]
  },
  {
   "cell_type": "code",
   "execution_count": null,
   "metadata": {},
   "outputs": [],
   "source": []
  },
  {
   "cell_type": "markdown",
   "metadata": {},
   "source": [
    "comment out or remove print row[\"漢字(traditional)\"] and/row[\"pinyin(marks)\"] if you do not want the chinese characters to print out in the practice"
   ]
  },
  {
   "cell_type": "code",
   "execution_count": null,
   "metadata": {
    "scrolled": true
   },
   "outputs": [],
   "source": [
    "for index,row in df.iterrows():\n",
    "    print(row['English'], row[\"漢字(traditional)\"], row[\"pinyin(numbers)\"])\n",
    "    #time.sleep(10)\n",
    "    pronounce_chinese(row['漢字(traditional)'])"
   ]
  },
  {
   "cell_type": "markdown",
   "metadata": {},
   "source": [
    "Put individual words in here to hear them one at a time"
   ]
  },
  {
   "cell_type": "code",
   "execution_count": null,
   "metadata": {},
   "outputs": [],
   "source": [
    "pronounce_chinese('生')"
   ]
  },
  {
   "cell_type": "code",
   "execution_count": null,
   "metadata": {},
   "outputs": [],
   "source": [
    "e2c_say_anything()"
   ]
  },
  {
   "cell_type": "code",
   "execution_count": null,
   "metadata": {},
   "outputs": [],
   "source": [
    "e2s_say_anything()"
   ]
  },
  {
   "cell_type": "code",
   "execution_count": null,
   "metadata": {},
   "outputs": [],
   "source": [
    "c2e_say_anything('武術')"
   ]
  }
 ],
 "metadata": {
  "kernelspec": {
   "display_name": "PyCharm (Capstone)",
   "language": "python",
   "name": "pycharm-b15c546e"
  },
  "language_info": {
   "codemirror_mode": {
    "name": "ipython",
    "version": 3
   },
   "file_extension": ".py",
   "mimetype": "text/x-python",
   "name": "python",
   "nbconvert_exporter": "python",
   "pygments_lexer": "ipython3",
   "version": "3.7.4"
  },
  "pycharm": {
   "stem_cell": {
    "cell_type": "raw",
    "metadata": {
     "collapsed": false
    },
    "source": []
   }
  },
  "varInspector": {
   "cols": {
    "lenName": 16,
    "lenType": 16,
    "lenVar": 40
   },
   "kernels_config": {
    "python": {
     "delete_cmd_postfix": "",
     "delete_cmd_prefix": "del ",
     "library": "var_list.py",
     "varRefreshCmd": "print(var_dic_list())"
    },
    "r": {
     "delete_cmd_postfix": ") ",
     "delete_cmd_prefix": "rm(",
     "library": "var_list.r",
     "varRefreshCmd": "cat(var_dic_list()) "
    }
   },
   "oldHeight": 122,
   "position": {
    "height": "144px",
    "left": "910px",
    "right": "20px",
    "top": "121px",
    "width": "350px"
   },
   "types_to_exclude": [
    "module",
    "function",
    "builtin_function_or_method",
    "instance",
    "_Feature"
   ],
   "varInspector_section_display": "block",
   "window_display": false
  },
  "widgets": {
   "application/vnd.jupyter.widget-state+json": {
    "state": {},
    "version_major": 2,
    "version_minor": 0
   }
  }
 },
 "nbformat": 4,
 "nbformat_minor": 1
}
