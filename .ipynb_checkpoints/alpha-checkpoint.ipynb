{
 "cells": [
  {
   "cell_type": "markdown",
   "metadata": {},
   "source": [
    "# The Code"
   ]
  },
  {
   "cell_type": "markdown",
   "metadata": {},
   "source": [
    "## Import Libraries"
   ]
  },
  {
   "cell_type": "code",
   "execution_count": 1,
   "metadata": {
    "pycharm": {
     "is_executing": false
    }
   },
   "outputs": [],
   "source": [
    "#1\n",
    "from gtts import gTTS \n",
    "import os\n",
    "import wikipedia\n",
    "from google.cloud import translate\n",
    "#from ClassText2Speech import speak_chinese\n",
    "from xpinyin import Pinyin\n",
    "import jieba\n",
    "import jieba.posseg as pos\n",
    "import jieba.analyse as ana\n",
    "import sys\n",
    "from importlib import *\n",
    "from collections import Counter\n",
    "import re\n",
    "import pandas as pd\n",
    "from sklearn.feature_extraction.text import CountVectorizer\n",
    "\n",
    "import time\n",
    "#import matplotlib.pyplot as plt\n",
    "#%matplotlib inline\n",
    "\n",
    "# for displaying wikipedia image as output from code cell \n",
    "from PIL import Image\n",
    "import requests\n",
    "from io import BytesIO\n",
    "\n",
    "from IPython.core.display import Image, display\n"
   ]
  },
  {
   "cell_type": "markdown",
   "metadata": {},
   "source": [
    "###### Link to API Credentials\n",
    "###### Google Translate API  [Read-The-Docs](https://www.geeksforgeeks.org/python-docstrings/ )"
   ]
  },
  {
   "cell_type": "code",
   "execution_count": 2,
   "metadata": {
    "pycharm": {
     "is_executing": false
    }
   },
   "outputs": [],
   "source": [
    "#2\n",
    "#api key for google api\n",
    "## you'll need to get your own API key using google cloud console and replace the path name\n",
    "os.environ[\"GOOGLE_APPLICATION_CREDENTIALS\"] = \"/Users/db/Desktop/APIKeys/LearnChinese.json\""
   ]
  },
  {
   "cell_type": "markdown",
   "metadata": {},
   "source": [
    "##### Instantiate Pinyin Generator"
   ]
  },
  {
   "cell_type": "code",
   "execution_count": 3,
   "metadata": {},
   "outputs": [],
   "source": [
    "#3\n",
    "#Instantiate Frequently Used \n",
    "p = Pinyin()"
   ]
  },
  {
   "cell_type": "markdown",
   "metadata": {},
   "source": [
    "### Stop Word List \n",
    "#### (add words unnecessary words here as they occur)"
   ]
  },
  {
   "cell_type": "code",
   "execution_count": 4,
   "metadata": {},
   "outputs": [],
   "source": [
    "#4\n",
    "# List of common words that should be excluded from analysis\n",
    "jieba_stop_words = [\"、\",\"。\",\"〈\",\"〉\",\"《\",\"》\",\"一\",\"一些\",\"一何\",\"一切\",\"一则\",\n",
    "                    \"一方面\",\"一旦\",\"一来\",\"一样\",\"一般\",\"一转眼\",\"七\",\"万一\",\"三\",\n",
    "                    \"上\",\"上下\",\"下\",\"不\",\"不仅\",\"不但\",\"不光\",\"不单\",\"不只\",\"不外乎\",\n",
    "                    \"不如\",\"不妨\",\"不尽\",\"不尽然\",\"不得\",\"不怕\",\"不惟\",\"不成\",\"不拘\",\n",
    "                    \"不料\",\"不是\",\"不比\",\"不然\",\"不特\",\"不独\",\"不管\",\"不至于\",\"不若\",\n",
    "                    \"不论\",\"不过\",\"不问\",\"与\",\"与其\",\"与其说\",\"与否\",\"与此同时\",\"且\",\n",
    "                    \"且不说\",\"且说\",\"两者\",\"个\",\"个别\",\"中\",\"临\",\"为\",\"为了\",\"为什么\",\n",
    "                    \"为何\",\"为止\",\"为此\",\"为着\",\"乃\",\"乃至\",\"乃至于\",\"么\",\"之\",\"之一\",\n",
    "                    \"之所以\",\"之类\",\"乌乎\",\"乎\",\"乘\",\"九\",\"也\",\"也好\",\"也罢\",\"了\",\"二\",\n",
    "                    \"二来\",\"于\",\"于是\",\"于是乎\",\"云云\",\"云尔\",\"五\",\"些\",\"亦\",\"人\",\"人们\",\n",
    "                    \"人家\",\"什\",\"什么\",\"什么样\",\"今\",\"介于\",\"仍\",\"仍旧\",\"从\",\"从此\",\"从而\",\n",
    "                    \"他\",\"他人\",\"他们\",\"他们们\",\"以\",\"以上\",\"以为\",\"以便\",\"以免\",\"以及\",\n",
    "                    \"以故\",\"以期\",\"以来\",\"以至\",\"以至于\",\"以致\",\"们\",\"任\",\"任何\",\"任凭\",\n",
    "                    \"会\",\"似的\",\"但\",\"但凡\",\"但是\",\"何\",\"何以\",\"何况\",\"何处\",\"何时\",\"余外\",\n",
    "                    \"作为\",\"你\",\"你们\",\"使\",\"使得\",\"例如\",\"依\",\"依据\",\"依照\",\"便于\",\"俺\",\n",
    "                    \"俺们\",\"倘\",\"倘使\",\"倘或\",\"倘然\",\"倘若\",\"借\",\"借傥然\",\"假使\",\"假如\",\n",
    "                    \"假若\",\"做\",\"像\",\"儿\",\"先不先\",\"光是\",\"全体\",\"全部\",\"八\",\"六\",\"兮\",\n",
    "                    \"共\",\"关于\",\"关于具体地说\",\"其\",\"其一\",\"其中\",\"其二\",\"其他\",\"其余\",\n",
    "                    \"其它\",\"其次\",\"具体地说\",\"具体说来\",\"兼之\",\"内\",\"再\",\"再其次\",\"再则\",\n",
    "                    \"再有\",\"再者\",\"再者说\",\"再说\",\"冒\",\"冲\",\"况且\",\"几\",\"几时\",\"凡\",\"凡是\",\n",
    "                    \"凭\",\"凭借\",\"出于\",\"出来\",\"分\",\"分别\",\"则\",\"则甚\",\"别\",\"别人\",\"别处\",\"别是\",\n",
    "                    \"别的\",\"别管\",\"别说\",\"到\",\"前后\",\"前此\",\"前者\",\"加之\",\"加以\",\"即\",\"即令\",\"即使\",\n",
    "                    \"即便\",\"即如\",\"即或\",\"即若\",\"却\",\"去\",\"又\",\"又及\",\"及\",\"及其\",\"及至\",\"反之\",\n",
    "                    \"反而\",\"反过来\",\"反过来说\",\"受到\",\"另\",\"另一方面\",\"另外\",\"另悉\",\"只\",\"只当\",\n",
    "                    \"只怕\",\"只是\",\"只有\",\"只消\",\"只要\",\"只限\",\"叫\",\"叮咚\",\"可\",\"可以\",\"可是\",\n",
    "                    \"可见\",\"各\",\"各个\",\"各位\",\"各种\",\"各自\",\"同\",\"同时\",\"后\",\"后者\",\"向\",\"向使\",\n",
    "                    \"向着\",\"吓\",\"吗\",\"否则\",\"吧\",\"吧哒\",\"含\",\"吱\",\"呀\",\"呃\",\"呕\",\"呗\",\"呜\",\"呜呼\",\n",
    "                    \"呢\",\"呵\",\"呵呵\",\"呸\",\"呼哧\",\"咋\",\"和\",\"咚\",\"咦\",\"咧\",\"咱\",\"咱们\",\"咳\",\"哇\",\n",
    "                    \"哈\",\"哈哈\",\"哉\",\"哎\",\"哎呀\",\"哎哟\",\"哗\",\"哟\",\"哦\",\"哩\",\"哪\",\"哪个\",\"哪些\",\n",
    "                    \"哪儿\",\"哪天\",\"哪年\",\"哪怕\",\"哪样\",\"哪边\",\"哪里\",\"哼\",\"哼唷\",\"唉\",\"唯有\",\"啊\",\n",
    "                    \"啐\",\"啥\",\"啦\",\"啪达\",\"啷当\",\"喂\",\"喏\",\"喔唷\",\"喽\",\"嗡\",\"嗡嗡\",\"嗬\",\"嗯\",\"嗳\",\n",
    "                    \"嘎\",\"嘎登\",\"嘘\",\"嘛\",\"嘻\",\"嘿\",\"嘿嘿\",\"四\",\"因\",\"因为\",\"因了\",\"因此\",\"因着\",\n",
    "                    \"因而\",\"固然\",\"在\",\"在下\",\"在于\",\"地\",\"基于\",\"处在\",\"多\",\"多么\",\"多少\",\"大\",\n",
    "                    \"大家\",\"她\",\"她们\",\"好\",\"如\",\"如上\",\"如上所述\",\"如下\",\"如何\",\"如其\",\"如同\",\"如是\",\n",
    "                    \"如果\",\"如此\",\"如若\",\"始而\",\"孰料\",\"孰知\",\"宁\",\"宁可\",\"宁愿\",\"宁肯\",\"它\",\"它们\",\n",
    "                    \"对\",\"对于\",\"对待\",\"对方\",\"对比\",\"将\",\"小\",\"尔\",\"尔后\",\"尔尔\",\"尚且\",\"就\",\"就是\",\n",
    "                    \"就是了\",\"就是说\",\"就算\",\"就要\",\"尽\",\"尽管\",\"尽管如此\",\"岂但\",\"己\",\"已\",\"已矣\",\"巴\",\n",
    "                    \"巴巴\",\"年\",\"并\",\"并且\",\"庶乎\",\"庶几\",\"开外\",\"开始\",\"归\",\"归齐\",\"当\",\"当地\",\"当然\",\n",
    "                    \"当着\",\"彼\",\"彼时\",\"彼此\",\"往\",\"待\",\"很\",\"得\",\"得了\",\"怎\",\"怎么\",\"怎么办\",\"怎么样\",\n",
    "                    \"怎奈\",\"怎样\",\"总之\",\"总的来看\",\"总的来说\",\"总的说来\",\"总而言之\",\"恰恰相反\",\"您\",\"惟其\",\n",
    "                    \"慢说\",\"我\",\"我们\",\"或\",\"或则\",\"或是\",\"或曰\",\"或者\",\"截至\",\"所\",\"所以\",\"所在\",\"所幸\",\n",
    "                    \"所有\",\"才\",\"才能\",\"打\",\"打从\",\"把\",\"抑或\",\"拿\",\"按\",\"按照\",\"换句话说\",\"换言之\",\"据\",\n",
    "                    \"据此\",\"接着\",\"故\",\"故此\",\"故而\",\"旁人\",\"无\",\"无宁\",\"无论\",\"既\",\"既往\",\"既是\",\"既然\",\n",
    "                    \"日\",\"时\",\"时候\",\"是\",\"是以\",\"是的\",\"更\",\"曾\",\"替\",\"替代\",\"最\",\"月\",\"有\",\"有些\",\"有关\",\n",
    "                    \"有及\",\"有时\",\"有的\",\"望\",\"朝\",\"朝着\",\"本\",\"本人\",\"本地\",\"本着\",\"本身\",\"来\",\"来着\",\"来自\",\n",
    "                    \"来说\",\"极了\",\"果然\",\"果真\",\"某\",\"某个\",\"某些\",\"某某\",\"根据\",\"欤\",\"正值\",\"正如\",\"正巧\",\n",
    "                    \"正是\",\"此\",\"此地\",\"此处\",\"此外\",\"此时\",\"此次\",\"此间\",\"毋宁\",\"每\",\"每当\",\"比\",\"比及\",\n",
    "                    \"比如\",\"比方\",\"没奈何\",\"沿\",\"沿着\",\"漫说\",\"焉\",\"然则\",\"然后\",\"然而\",\"照\",\"照着\",\"犹且\",\n",
    "                    \"犹自\",\"甚且\",\"甚么\",\"甚或\",\"甚而\",\"甚至\",\"甚至于\",\"用\",\"用来\",\"由\",\"由于\",\"由是\",\n",
    "                    \"由此\",\"由此可见\",\"的\",\"的确\",\"的话\",\"直到\",\"相对而言\",\"省得\",\"看\",\"眨眼\",\"着\",\"着呢\",\n",
    "                    \"矣\",\"矣乎\",\"矣哉\",\"离\",\"秒\",\"竟而\",\"第\",\"等\",\"等到\",\"等等\",\"简言之\",\"管\",\"类如\",\n",
    "                    \"紧接着\",\"纵\",\"纵令\",\"纵使\",\"纵然\",\"经\",\"经过\",\"结果\",\"给\",\"继之\",\"继后\",\"继而\",\n",
    "                    \"综上所述\",\"罢了\",\"者\",\"而\",\"而且\",\"而况\",\"而后\",\"而外\",\"而已\",\"而是\",\"而言\",\"能\",\n",
    "                    \"能否\",\"腾\",\"自\",\"自个儿\",\"自从\",\"自各儿\",\"自后\",\"自家\",\"自己\",\"自打\",\"自身\",\"至\",\n",
    "                    \"至于\",\"至今\",\"至若\",\"致\",\"般的\",\"若\",\"若夫\",\"若是\",\"若果\",\"若非\",\"莫不然\",\"莫如\",\n",
    "                    \"莫若\",\"虽\",\"虽则\",\"虽然\",\"虽说\",\"被\",\"要\",\"要不\",\"要不是\",\"要不然\",\"要么\",\"要是\",\n",
    "                    \"譬喻\",\"譬如\",\"让\",\"许多\",\"论\",\"设使\",\"设或\",\"设若\",\"诚如\",\"诚然\",\"该\",\"说\",\"说来\",\n",
    "                    \"请\",\"诸\",\"诸位\",\"诸如\",\"谁\",\"谁人\",\"谁料\",\"谁知\",\"贼死\",\"赖以\",\"赶\",\"起\",\"起见\",\n",
    "                    \"趁\",\"趁着\",\"越是\",\"距\",\"跟\",\"较\",\"较之\",\"边\",\"过\",\"还\",\"还是\",\"还有\",\"还要\",\"这\",\n",
    "                    \"这一来\",\"这个\",\"这么\",\"这么些\",\"这么样\",\"这么点儿\",\"这些\",\"这会儿\",\"这儿\",\"这就是说\",\n",
    "                    \"这时\",\"这样\",\"这次\",\"这般\",\"这边\",\"这里\",\"进而\",\"连\",\"连同\",\"逐步\",\"通过\",\"遵循\",\n",
    "                    \"遵照\",\"那\",\"那个\",\"那么\",\"那么些\",\"那么样\",\"那些\",\"那会儿\",\"那儿\",\"那时\",\"那样\",\n",
    "                    \"那般\",\"那边\",\"那里\",\"都\",\"鄙人\",\"鉴于\",\"针对\",\"阿\",\"除\",\"除了\",\"除外\",\"除开\",\n",
    "                    \"除此之外\",\"除非\",\"随\",\"随后\",\"随时\",\"随着\",\"难道说\",\"零\",\"非\",\"非但\",\"非徒\",\"非特\",\n",
    "                    \"非独\",\"靠\",\"顺\",\"顺着\",\"首先\",\"︿\",\"！\",\"＃\",\"＄\",\"％\",\"＆\",\"（\",\"）\",\"＊\",\"＋\",\n",
    "                    \"，\",\"０\",\"１\",\"２\",\"３\",\"４\",\"５\",\"６\",\"７\",\"８\",\"９\",\"：\",\n",
    "                    \"；\",\"＜\",\"＞\",\"？\",\"＠\",\"［\",\"］\",\"｛\",\"｜\",\"｝\",\"～\",\"￥\",\"\\n\", \" \",'借傥', '兼',\n",
    "                    '前', '唷', '啪', '啷', '喔', '天', '始', '漫', '然', '特', '竟', '莫', '见', '设', '达',\n",
    "                   \"!\" ,\"#\", \"$\", \"%\",\"&\", \"(\",\")\",\"+\", \"-\",\"/\",\"=\",\"'\", \",\", \"?\",\"他們\",\"並且\",\n",
    "                   \"擁有\",\"擁有\",\"一個\",\"我們\"]"
   ]
  },
  {
   "cell_type": "markdown",
   "metadata": {},
   "source": [
    "##### english2chinese\n",
    "##### Simple English to Chinese Translation Function"
   ]
  },
  {
   "cell_type": "code",
   "execution_count": 5,
   "metadata": {
    "pycharm": {
     "is_executing": false,
     "name": "#%%\n"
    }
   },
   "outputs": [],
   "source": [
    "#translates English to Chinese for the initial search of wikipedia in language being learned\n",
    "def english2chinese(topic, display=False):\n",
    "    \"\"\" Translates a word or words from English into Traditional Mandarin\"\"\"\n",
    "    # Instantiates a client\n",
    "    translate_client = translate.Client()\n",
    "    text = topic\n",
    "    # Defines the target language\n",
    "    target = 'zh-TW'\n",
    "    # Translates some text into traditional Chinese\n",
    "    translation = translate_client.translate(text, target_language=target)\n",
    "    text_ = translation['translatedText']\n",
    "    if display == True:\n",
    "        print(text_)\n",
    "        return text_\n",
    "    else:\n",
    "        return text_"
   ]
  },
  {
   "cell_type": "markdown",
   "metadata": {},
   "source": [
    "##### chinese2english()\n",
    "##### Simple Chinese to English Translation Function"
   ]
  },
  {
   "cell_type": "code",
   "execution_count": 6,
   "metadata": {
    "pycharm": {
     "is_executing": false
    }
   },
   "outputs": [],
   "source": [
    "# translates Chinese to English\n",
    "def chinese2english(topic):\n",
    "    # Instantiates a client\n",
    "    translate_client = translate.Client()\n",
    "    text = topic\n",
    "    # Defines the target language\n",
    "    target = 'en'\n",
    "    # Translates some text into traditional Chinese\n",
    "    translation = translate_client.translate(text, target_language=target)\n",
    "    text_ = translation['translatedText']\n",
    "    if display == True:\n",
    "        print(text_)\n",
    "        return text_\n",
    "    else:\n",
    "        return text_"
   ]
  },
  {
   "cell_type": "markdown",
   "metadata": {},
   "source": [
    "##### e2c_say_anything()\n",
    "##### English to Chinese With TTS"
   ]
  },
  {
   "cell_type": "code",
   "execution_count": 7,
   "metadata": {
    "pycharm": {
     "is_executing": false,
     "name": "#%%\n"
    }
   },
   "outputs": [],
   "source": [
    "def e2c_say_anything():\n",
    "    translate_client = translate.Client()\n",
    "    text = input('What word would you like to say in Chinese(Mandarin)：')\n",
    "    # Defines the target language\n",
    "    target = 'zh-TW'\n",
    "    # Translates some text into traditional Chinese\n",
    "    translation = translate_client.translate(text, target_language=target)\n",
    "    text_ = translation['translatedText']\n",
    "    # Build the voice request, select the language code (\"en-US\") and the ssml\n",
    "    # voice gender (\"neutral\")\n",
    "    \n",
    "    #add pinyin\n",
    "    pinyin_with_numbers = p.get_pinyin(text_, tone_marks='numbers')\n",
    "    tts = gTTS(text=text_, lang='zh-TW')\n",
    "    tts.save(\"good.mp3\")\n",
    "    \n",
    "    print(\"Input: {}\".format(text))\n",
    "    print(\"Traditional Chinese Translation: {}\".format(text_))\n",
    "    print(\"Pinyin Translation with tone numbers: {}\".format(pinyin_with_numbers))\n",
    "    return os.system(\"mpg321 good.mp3\")"
   ]
  },
  {
   "cell_type": "markdown",
   "metadata": {},
   "source": [
    "##### c2e_say_anything\n",
    "##### Chinese To English"
   ]
  },
  {
   "cell_type": "code",
   "execution_count": 8,
   "metadata": {
    "pycharm": {
     "is_executing": false
    }
   },
   "outputs": [],
   "source": [
    "def c2e_say_anything(text):\n",
    "    translate_client = translate.Client()\n",
    "    text = text\n",
    "    # Defines the target language\n",
    "    target = 'en'\n",
    "    # Translates some text into traditional Chinese\n",
    "    translation = translate_client.translate(text, target_language=target)\n",
    "    text_ = translation['translatedText']\n",
    "    # Build the voice request, select the language code (\"en-US\") and the ssml\n",
    "    # voice gender (\"neutral\")\n",
    "    \n",
    "    \n",
    "    tts = gTTS(text=text_, lang='en')\n",
    "    tts.save(\"good.mp3\")\n",
    "    \n",
    "    print(\"Input: {}\".format(text))\n",
    "    print(\"Output: {}\".format(text_))\n",
    "    return os.system(\"mpg321 good.mp3\")\n",
    "    "
   ]
  },
  {
   "cell_type": "markdown",
   "metadata": {},
   "source": [
    "##### search_wikipedia()"
   ]
  },
  {
   "cell_type": "code",
   "execution_count": 9,
   "metadata": {
    "pycharm": {
     "is_executing": false
    }
   },
   "outputs": [],
   "source": [
    "def search_wikipedia(topic, display=False,results=3):\n",
    "    wikipedia.set_lang('zh-TW')\n",
    "    search_phrase = english2chinese(topic)\n",
    "    pages = wikipedia.search(search_phrase, results=3)\n",
    "    if display == True:\n",
    "        print('the pages in native language', pages)\n",
    "        return pages\n",
    "    else:\n",
    "        return pages"
   ]
  },
  {
   "cell_type": "markdown",
   "metadata": {},
   "source": [
    "##### get_content()"
   ]
  },
  {
   "cell_type": "code",
   "execution_count": 10,
   "metadata": {
    "pycharm": {
     "is_executing": false
    }
   },
   "outputs": [],
   "source": [
    "def get_content(topic):\n",
    "    \"\"\"Takes a topic Parameter and returns the wikipedia page that best matches that topic in Chinese\"\"\"\n",
    "    wikipedia.set_lang('zh-TW')\n",
    "    search_phrase = english2chinese(topic)\n",
    "    wiki_page = wikipedia.page(search_phrase,preload=True)\n",
    "    return wiki_page.content"
   ]
  },
  {
   "cell_type": "markdown",
   "metadata": {},
   "source": [
    "##### wikipedia_page_choices()"
   ]
  },
  {
   "cell_type": "code",
   "execution_count": 11,
   "metadata": {
    "pycharm": {
     "is_executing": false
    }
   },
   "outputs": [],
   "source": [
    "def wikipedia_page_choices(topic, language='en'):\n",
    "    pages = search_wikipedia(topic)\n",
    "    translate_client = translate.Client()\n",
    "    target_en = language\n",
    "    print('Titles of wikipedia page')\n",
    "    for page in pages:\n",
    "            english_translation = translate_client.translate(page, target_language=target_en)\n",
    "            english_text = english_translation['translatedText']\n",
    "            print(english_text)\n",
    "        "
   ]
  },
  {
   "cell_type": "markdown",
   "metadata": {},
   "source": [
    "##### getChinese()\n",
    "##### prep data for jieba text analysis"
   ]
  },
  {
   "cell_type": "code",
   "execution_count": 12,
   "metadata": {
    "pycharm": {
     "is_executing": false
    }
   },
   "outputs": [],
   "source": [
    "def getChinese(content):\n",
    "    content = content.decode(\"utf-8\") # convert content from str to unicode\n",
    "    filtrate = re.compile(u'[^\\u4E00-\\u9FA5]') # non-Chinese unicode range\n",
    "    content = filtrate.sub(r'', content) # remove all non-Chinese characters\n",
    "    content = content.encode(\"utf-8\") # convert unicode back to str\n",
    "    return content"
   ]
  },
  {
   "cell_type": "markdown",
   "metadata": {},
   "source": [
    "##### combine_wikipedia_pages"
   ]
  },
  {
   "cell_type": "code",
   "execution_count": 70,
   "metadata": {
    "pycharm": {
     "is_executing": false
    }
   },
   "outputs": [],
   "source": [
    "corpus = []\n",
    "def combine_wikipedia_pages(query, suggestion=True, results=2):\n",
    "    translated_query = english2chinese(query)\n",
    "    titles = wikipedia.search(translated_query, results=results)\n",
    "    filter('', titles)\n",
    "    for title in titles:\n",
    "        webpage = wikipedia.page(title)\n",
    "        content = webpage.content\n",
    "        image = webpage.images[::-1]\n",
    "#         content = getChinese(content)\n",
    "        #remove links\n",
    "        #content = re.sub(\"http://[a-zA-z./\\d]*\",\" \",content)\n",
    "        # remove emojis\n",
    "        #content = re.sub(\"\\[.{0,12}\\]\",\" \",content)\n",
    "        #remove digits\n",
    "        #content = re.sub(\"\\d\",\"\",content)\n",
    "        # remove elipses\n",
    "        #content = re.sub(\"\\.*\",\" \",content)\n",
    "        #extract and remove all english characters\n",
    "        english = re.findall(\"[a-z]+\",content)\n",
    "        content = re.sub(\"[a-z]+\",\"\",content)\n",
    "        print(\"page added to content\")\n",
    "        f = open(\"myfile.txt\", \"a\")\n",
    "        f.write(str(content))\n",
    "        f.close()\n",
    "        picture =Image(url= str(image[0]))\n",
    "        corpus.append(content)\n",
    "        \n",
    "    print(\"process finished, all content stored in myfile.txt\")\n",
    "    display(picture)"
   ]
  },
  {
   "cell_type": "code",
   "execution_count": 14,
   "metadata": {},
   "outputs": [
    {
     "name": "stdout",
     "output_type": "stream",
     "text": [
      "page added to content\n",
      "page added to content\n",
      "process finished, all content stored in myfile.txt\n"
     ]
    },
    {
     "data": {
      "text/html": [
       "<img src=\"https://upload.wikimedia.org/wikipedia/en/9/99/Question_book-new.svg\"/>"
      ],
      "text/plain": [
       "<IPython.core.display.Image object>"
      ]
     },
     "metadata": {},
     "output_type": "display_data"
    }
   ],
   "source": [
    "combine_wikipedia_pages('Batman')"
   ]
  },
  {
   "cell_type": "code",
   "execution_count": 71,
   "metadata": {},
   "outputs": [],
   "source": [
    "#read in the text file\n",
    "with open('myfile.txt','r')as myfile:\n",
    "    data=myfile.read()"
   ]
  },
  {
   "cell_type": "code",
   "execution_count": 72,
   "metadata": {},
   "outputs": [],
   "source": [
    "#segement and save \n",
    "seg_list = jieba.cut(data, cut_all=False)"
   ]
  },
  {
   "cell_type": "code",
   "execution_count": 73,
   "metadata": {},
   "outputs": [],
   "source": [
    "seg_list = [str(word) for word in seg_list if not str(word) in jieba_stop_words]"
   ]
  },
  {
   "cell_type": "code",
   "execution_count": 74,
   "metadata": {
    "scrolled": true
   },
   "outputs": [],
   "source": [
    "new_text = (\"\".join(seg_list))"
   ]
  },
  {
   "cell_type": "code",
   "execution_count": 19,
   "metadata": {},
   "outputs": [],
   "source": [
    "\n",
    "f=open('myfile.txt','w')\n",
    "f.write(new_text)\n",
    "f.close()"
   ]
  },
  {
   "cell_type": "code",
   "execution_count": 20,
   "metadata": {},
   "outputs": [],
   "source": [
    "top20 = jieba.analyse.extract_tags(new_text, topK=20, withWeight=True)"
   ]
  },
  {
   "cell_type": "code",
   "execution_count": 21,
   "metadata": {},
   "outputs": [],
   "source": [
    "vocab = pd.DataFrame(top20, columns=['Chinese','Weight'])"
   ]
  },
  {
   "cell_type": "code",
   "execution_count": 22,
   "metadata": {},
   "outputs": [],
   "source": [
    "def get_pinyin(word, tone_marks='numbers'):\n",
    "    return p.get_pinyin(word, tone_marks='numbers')"
   ]
  },
  {
   "cell_type": "code",
   "execution_count": 23,
   "metadata": {},
   "outputs": [],
   "source": [
    "vocab['Pinyin']= vocab['Chinese'].apply(get_pinyin)\n",
    "    "
   ]
  },
  {
   "cell_type": "code",
   "execution_count": 24,
   "metadata": {},
   "outputs": [],
   "source": [
    "vocab['English'] = vocab['Chinese'].apply(chinese2english)"
   ]
  },
  {
   "cell_type": "code",
   "execution_count": 25,
   "metadata": {
    "scrolled": true
   },
   "outputs": [
    {
     "data": {
      "text/html": [
       "<div>\n",
       "<style scoped>\n",
       "    .dataframe tbody tr th:only-of-type {\n",
       "        vertical-align: middle;\n",
       "    }\n",
       "\n",
       "    .dataframe tbody tr th {\n",
       "        vertical-align: top;\n",
       "    }\n",
       "\n",
       "    .dataframe thead th {\n",
       "        text-align: right;\n",
       "    }\n",
       "</style>\n",
       "<table border=\"1\" class=\"dataframe\">\n",
       "  <thead>\n",
       "    <tr style=\"text-align: right;\">\n",
       "      <th></th>\n",
       "      <th>Chinese</th>\n",
       "      <th>Weight</th>\n",
       "      <th>Pinyin</th>\n",
       "      <th>English</th>\n",
       "    </tr>\n",
       "  </thead>\n",
       "  <tbody>\n",
       "    <tr>\n",
       "      <td>0</td>\n",
       "      <td>TK</td>\n",
       "      <td>0.426956</td>\n",
       "      <td>TK</td>\n",
       "      <td>TK</td>\n",
       "    </tr>\n",
       "    <tr>\n",
       "      <td>1</td>\n",
       "      <td>TC</td>\n",
       "      <td>0.213478</td>\n",
       "      <td>TC</td>\n",
       "      <td>TC</td>\n",
       "    </tr>\n",
       "    <tr>\n",
       "      <td>2</td>\n",
       "      <td>TT</td>\n",
       "      <td>0.213478</td>\n",
       "      <td>TT</td>\n",
       "      <td>TT</td>\n",
       "    </tr>\n",
       "    <tr>\n",
       "      <td>3</td>\n",
       "      <td>HO</td>\n",
       "      <td>0.142319</td>\n",
       "      <td>HO</td>\n",
       "      <td>HO</td>\n",
       "    </tr>\n",
       "    <tr>\n",
       "      <td>4</td>\n",
       "      <td>TJ</td>\n",
       "      <td>0.142319</td>\n",
       "      <td>TJ</td>\n",
       "      <td>TJ</td>\n",
       "    </tr>\n",
       "    <tr>\n",
       "      <td>5</td>\n",
       "      <td>DS</td>\n",
       "      <td>0.142319</td>\n",
       "      <td>DS</td>\n",
       "      <td>DS</td>\n",
       "    </tr>\n",
       "    <tr>\n",
       "      <td>6</td>\n",
       "      <td>IE</td>\n",
       "      <td>0.142319</td>\n",
       "      <td>IE</td>\n",
       "      <td>IE</td>\n",
       "    </tr>\n",
       "    <tr>\n",
       "      <td>7</td>\n",
       "      <td>FK</td>\n",
       "      <td>0.142319</td>\n",
       "      <td>FK</td>\n",
       "      <td>FK</td>\n",
       "    </tr>\n",
       "    <tr>\n",
       "      <td>8</td>\n",
       "      <td>HJ</td>\n",
       "      <td>0.142319</td>\n",
       "      <td>HJ</td>\n",
       "      <td>Hj</td>\n",
       "    </tr>\n",
       "    <tr>\n",
       "      <td>9</td>\n",
       "      <td>T2D</td>\n",
       "      <td>0.142319</td>\n",
       "      <td>T2D</td>\n",
       "      <td>T2D</td>\n",
       "    </tr>\n",
       "    <tr>\n",
       "      <td>10</td>\n",
       "      <td>T2D3D</td>\n",
       "      <td>0.142319</td>\n",
       "      <td>T2D3D</td>\n",
       "      <td>T2D3D</td>\n",
       "    </tr>\n",
       "    <tr>\n",
       "      <td>11</td>\n",
       "      <td>ANN</td>\n",
       "      <td>0.142319</td>\n",
       "      <td>ANN</td>\n",
       "      <td>ANN</td>\n",
       "    </tr>\n",
       "    <tr>\n",
       "      <td>12</td>\n",
       "      <td>DVDT</td>\n",
       "      <td>0.142319</td>\n",
       "      <td>DVDT</td>\n",
       "      <td>DVDT</td>\n",
       "    </tr>\n",
       "    <tr>\n",
       "      <td>13</td>\n",
       "      <td>KJ</td>\n",
       "      <td>0.071159</td>\n",
       "      <td>KJ</td>\n",
       "      <td>KJ</td>\n",
       "    </tr>\n",
       "    <tr>\n",
       "      <td>14</td>\n",
       "      <td>KARAS</td>\n",
       "      <td>0.071159</td>\n",
       "      <td>KARAS</td>\n",
       "      <td>WAR</td>\n",
       "    </tr>\n",
       "    <tr>\n",
       "      <td>15</td>\n",
       "      <td>TP40</td>\n",
       "      <td>0.071159</td>\n",
       "      <td>TP40</td>\n",
       "      <td>TP40</td>\n",
       "    </tr>\n",
       "    <tr>\n",
       "      <td>16</td>\n",
       "      <td>EKJM252005A32007DVD</td>\n",
       "      <td>0.071159</td>\n",
       "      <td>EKJM252005A32007DVD</td>\n",
       "      <td>EKJM252005A32007DVD</td>\n",
       "    </tr>\n",
       "    <tr>\n",
       "      <td>17</td>\n",
       "      <td>MEDVDE</td>\n",
       "      <td>0.071159</td>\n",
       "      <td>MEDVDE</td>\n",
       "      <td>MEDVDE</td>\n",
       "    </tr>\n",
       "    <tr>\n",
       "      <td>18</td>\n",
       "      <td>KYOST</td>\n",
       "      <td>0.071159</td>\n",
       "      <td>KYOST</td>\n",
       "      <td>KYOST</td>\n",
       "    </tr>\n",
       "    <tr>\n",
       "      <td>19</td>\n",
       "      <td>ET</td>\n",
       "      <td>0.071159</td>\n",
       "      <td>ET</td>\n",
       "      <td>AND</td>\n",
       "    </tr>\n",
       "  </tbody>\n",
       "</table>\n",
       "</div>"
      ],
      "text/plain": [
       "                Chinese    Weight               Pinyin              English\n",
       "0                    TK  0.426956                   TK                   TK\n",
       "1                    TC  0.213478                   TC                   TC\n",
       "2                    TT  0.213478                   TT                   TT\n",
       "3                    HO  0.142319                   HO                   HO\n",
       "4                    TJ  0.142319                   TJ                   TJ\n",
       "5                    DS  0.142319                   DS                   DS\n",
       "6                    IE  0.142319                   IE                   IE\n",
       "7                    FK  0.142319                   FK                   FK\n",
       "8                    HJ  0.142319                   HJ                   Hj\n",
       "9                   T2D  0.142319                  T2D                  T2D\n",
       "10                T2D3D  0.142319                T2D3D                T2D3D\n",
       "11                  ANN  0.142319                  ANN                  ANN\n",
       "12                 DVDT  0.142319                 DVDT                 DVDT\n",
       "13                   KJ  0.071159                   KJ                   KJ\n",
       "14                KARAS  0.071159                KARAS                  WAR\n",
       "15                 TP40  0.071159                 TP40                 TP40\n",
       "16  EKJM252005A32007DVD  0.071159  EKJM252005A32007DVD  EKJM252005A32007DVD\n",
       "17               MEDVDE  0.071159               MEDVDE               MEDVDE\n",
       "18                KYOST  0.071159                KYOST                KYOST\n",
       "19                   ET  0.071159                   ET                  AND"
      ]
     },
     "execution_count": 25,
     "metadata": {},
     "output_type": "execute_result"
    }
   ],
   "source": [
    "vocab"
   ]
  },
  {
   "cell_type": "markdown",
   "metadata": {
    "heading_collapsed": true
   },
   "source": [
    "##### pronounce_chinese()"
   ]
  },
  {
   "cell_type": "code",
   "execution_count": 26,
   "metadata": {
    "hidden": true
   },
   "outputs": [],
   "source": [
    "def pronounce_chinese(text_):\n",
    "    tts = gTTS(text=text_, lang='zh-TW')\n",
    "    tts.save(\"good.mp3\")\n",
    "    return os.system(\"mpg321 good.mp3\")"
   ]
  },
  {
   "cell_type": "markdown",
   "metadata": {},
   "source": [
    "# Run the Below Cell Every Time"
   ]
  },
  {
   "cell_type": "markdown",
   "metadata": {},
   "source": [
    "##### rerun()"
   ]
  },
  {
   "cell_type": "code",
   "execution_count": 27,
   "metadata": {},
   "outputs": [],
   "source": [
    "def rerun():\n",
    "    with open('myfile.txt', 'w') as f:\n",
    "        f.write('')\n",
    "        f.close()"
   ]
  },
  {
   "cell_type": "code",
   "execution_count": 28,
   "metadata": {},
   "outputs": [],
   "source": [
    "rerun()"
   ]
  },
  {
   "cell_type": "markdown",
   "metadata": {},
   "source": [
    "# Working MVP"
   ]
  },
  {
   "cell_type": "markdown",
   "metadata": {},
   "source": [
    "# play around with the search phrase a bit"
   ]
  },
  {
   "cell_type": "markdown",
   "metadata": {},
   "source": [
    "##### get_search_suggestions()"
   ]
  },
  {
   "cell_type": "code",
   "execution_count": 29,
   "metadata": {},
   "outputs": [],
   "source": [
    "def get_search_suggestions():\n",
    "    topic = input('What would you like to search for?: ')\n",
    "    wikipedia.set_lang('en')\n",
    "    suggestions = wikipedia.search(topic)\n",
    "    print('try one of the following')\n",
    "    print(suggestions)\n",
    "    wikipedia.set_lang('zh-TW')\n",
    "    "
   ]
  },
  {
   "cell_type": "code",
   "execution_count": 30,
   "metadata": {
    "scrolled": true
   },
   "outputs": [],
   "source": [
    "#get_search_suggestions()"
   ]
  },
  {
   "cell_type": "markdown",
   "metadata": {},
   "source": [
    "##### application()"
   ]
  },
  {
   "cell_type": "code",
   "execution_count": 75,
   "metadata": {},
   "outputs": [],
   "source": [
    "def application(results=2):\n",
    "    topic=input('Type one of the above search suggestions here: ')\n",
    "    combine_wikipedia_pages(topic, results=results)\n",
    "    #read in the text file\n",
    "    with open('myfile.txt','r')as myfile:\n",
    "        data=myfile.read()\n",
    "    \n",
    "    #segement and save \n",
    "    seg_list = jieba.cut(data, cut_all=False)\n",
    "    seg_list = [str(word) for word in seg_list if not str(word) in jieba_stop_words]\n",
    "    new_text = (\"\".join(seg_list))\n",
    "    #overwrite myfile.txt without stopwords\n",
    "    f=open('myfile.txt','w')\n",
    "    f.write(new_text)\n",
    "    f.close()\n",
    "    #20 most important vocabulary words to know\n",
    "    top20 = jieba.analyse.extract_tags(new_text, topK=20, withWeight=True)\n",
    "    #store to dataframe\n",
    "    vocab = pd.DataFrame(top20, columns=['Chinese','Weight'])\n",
    "    #add pinyin to dataframe\n",
    "    vocab['Pinyin']= vocab['Chinese'].apply(get_pinyin)\n",
    "    #add english translation to dataframe\n",
    "    vocab['English'] = vocab['Chinese'].apply(chinese2english)\n",
    "    return vocab"
   ]
  },
  {
   "cell_type": "markdown",
   "metadata": {},
   "source": [
    "#### Sanity Check"
   ]
  },
  {
   "cell_type": "code",
   "execution_count": 76,
   "metadata": {
    "scrolled": true
   },
   "outputs": [
    {
     "name": "stdout",
     "output_type": "stream",
     "text": [
      "Type one of the above search suggestions here: Batman\n",
      "page added to content\n",
      "page added to content\n",
      "page added to content\n"
     ]
    },
    {
     "ename": "IndexError",
     "evalue": "list index out of range",
     "output_type": "error",
     "traceback": [
      "\u001b[0;31m---------------------------------------------------------------------------\u001b[0m",
      "\u001b[0;31mIndexError\u001b[0m                                Traceback (most recent call last)",
      "\u001b[0;32m<ipython-input-76-27700f56ec04>\u001b[0m in \u001b[0;36m<module>\u001b[0;34m\u001b[0m\n\u001b[0;32m----> 1\u001b[0;31m \u001b[0mdf\u001b[0m \u001b[0;34m=\u001b[0m \u001b[0mapplication\u001b[0m\u001b[0;34m(\u001b[0m\u001b[0mresults\u001b[0m\u001b[0;34m=\u001b[0m\u001b[0;36m5\u001b[0m\u001b[0;34m)\u001b[0m\u001b[0;34m\u001b[0m\u001b[0;34m\u001b[0m\u001b[0m\n\u001b[0m",
      "\u001b[0;32m<ipython-input-75-6759000130c9>\u001b[0m in \u001b[0;36mapplication\u001b[0;34m(results)\u001b[0m\n\u001b[1;32m      1\u001b[0m \u001b[0;32mdef\u001b[0m \u001b[0mapplication\u001b[0m\u001b[0;34m(\u001b[0m\u001b[0mresults\u001b[0m\u001b[0;34m=\u001b[0m\u001b[0;36m2\u001b[0m\u001b[0;34m)\u001b[0m\u001b[0;34m:\u001b[0m\u001b[0;34m\u001b[0m\u001b[0;34m\u001b[0m\u001b[0m\n\u001b[1;32m      2\u001b[0m     \u001b[0mtopic\u001b[0m\u001b[0;34m=\u001b[0m\u001b[0minput\u001b[0m\u001b[0;34m(\u001b[0m\u001b[0;34m'Type one of the above search suggestions here: '\u001b[0m\u001b[0;34m)\u001b[0m\u001b[0;34m\u001b[0m\u001b[0;34m\u001b[0m\u001b[0m\n\u001b[0;32m----> 3\u001b[0;31m     \u001b[0mcombine_wikipedia_pages\u001b[0m\u001b[0;34m(\u001b[0m\u001b[0mtopic\u001b[0m\u001b[0;34m,\u001b[0m \u001b[0mresults\u001b[0m\u001b[0;34m=\u001b[0m\u001b[0mresults\u001b[0m\u001b[0;34m)\u001b[0m\u001b[0;34m\u001b[0m\u001b[0;34m\u001b[0m\u001b[0m\n\u001b[0m\u001b[1;32m      4\u001b[0m     \u001b[0;31m#read in the text file\u001b[0m\u001b[0;34m\u001b[0m\u001b[0;34m\u001b[0m\u001b[0;34m\u001b[0m\u001b[0m\n\u001b[1;32m      5\u001b[0m     \u001b[0;32mwith\u001b[0m \u001b[0mopen\u001b[0m\u001b[0;34m(\u001b[0m\u001b[0;34m'myfile.txt'\u001b[0m\u001b[0;34m,\u001b[0m\u001b[0;34m'r'\u001b[0m\u001b[0;34m)\u001b[0m\u001b[0;32mas\u001b[0m \u001b[0mmyfile\u001b[0m\u001b[0;34m:\u001b[0m\u001b[0;34m\u001b[0m\u001b[0;34m\u001b[0m\u001b[0m\n",
      "\u001b[0;32m<ipython-input-70-217db8cb3edf>\u001b[0m in \u001b[0;36mcombine_wikipedia_pages\u001b[0;34m(query, suggestion, results)\u001b[0m\n\u001b[1;32m     24\u001b[0m         \u001b[0mf\u001b[0m\u001b[0;34m.\u001b[0m\u001b[0mwrite\u001b[0m\u001b[0;34m(\u001b[0m\u001b[0mstr\u001b[0m\u001b[0;34m(\u001b[0m\u001b[0mcontent\u001b[0m\u001b[0;34m)\u001b[0m\u001b[0;34m)\u001b[0m\u001b[0;34m\u001b[0m\u001b[0;34m\u001b[0m\u001b[0m\n\u001b[1;32m     25\u001b[0m         \u001b[0mf\u001b[0m\u001b[0;34m.\u001b[0m\u001b[0mclose\u001b[0m\u001b[0;34m(\u001b[0m\u001b[0;34m)\u001b[0m\u001b[0;34m\u001b[0m\u001b[0;34m\u001b[0m\u001b[0m\n\u001b[0;32m---> 26\u001b[0;31m         \u001b[0mpicture\u001b[0m \u001b[0;34m=\u001b[0m\u001b[0mImage\u001b[0m\u001b[0;34m(\u001b[0m\u001b[0murl\u001b[0m\u001b[0;34m=\u001b[0m \u001b[0mstr\u001b[0m\u001b[0;34m(\u001b[0m\u001b[0mimage\u001b[0m\u001b[0;34m[\u001b[0m\u001b[0;36m0\u001b[0m\u001b[0;34m]\u001b[0m\u001b[0;34m)\u001b[0m\u001b[0;34m)\u001b[0m\u001b[0;34m\u001b[0m\u001b[0;34m\u001b[0m\u001b[0m\n\u001b[0m\u001b[1;32m     27\u001b[0m         \u001b[0mcorpus\u001b[0m\u001b[0;34m.\u001b[0m\u001b[0mappend\u001b[0m\u001b[0;34m(\u001b[0m\u001b[0mcontent\u001b[0m\u001b[0;34m)\u001b[0m\u001b[0;34m\u001b[0m\u001b[0;34m\u001b[0m\u001b[0m\n\u001b[1;32m     28\u001b[0m \u001b[0;34m\u001b[0m\u001b[0m\n",
      "\u001b[0;31mIndexError\u001b[0m: list index out of range"
     ]
    }
   ],
   "source": [
    "df = application(results=5)"
   ]
  },
  {
   "cell_type": "code",
   "execution_count": 39,
   "metadata": {},
   "outputs": [],
   "source": [
    "# keep only simplified or traditional \n",
    "df.drop_duplicates(subset='English',keep='first', inplace=True)"
   ]
  },
  {
   "cell_type": "code",
   "execution_count": 40,
   "metadata": {
    "scrolled": true
   },
   "outputs": [
    {
     "data": {
      "text/html": [
       "<div>\n",
       "<style scoped>\n",
       "    .dataframe tbody tr th:only-of-type {\n",
       "        vertical-align: middle;\n",
       "    }\n",
       "\n",
       "    .dataframe tbody tr th {\n",
       "        vertical-align: top;\n",
       "    }\n",
       "\n",
       "    .dataframe thead th {\n",
       "        text-align: right;\n",
       "    }\n",
       "</style>\n",
       "<table border=\"1\" class=\"dataframe\">\n",
       "  <thead>\n",
       "    <tr style=\"text-align: right;\">\n",
       "      <th></th>\n",
       "      <th>漢字(traditional)</th>\n",
       "      <th>weight</th>\n",
       "      <th>pinyin(numbers)</th>\n",
       "      <th>English</th>\n",
       "    </tr>\n",
       "  </thead>\n",
       "  <tbody>\n",
       "    <tr>\n",
       "      <td>0</td>\n",
       "      <td>咖啡</td>\n",
       "      <td>0.548678</td>\n",
       "      <td>ka1-fei1</td>\n",
       "      <td>coffee</td>\n",
       "    </tr>\n",
       "    <tr>\n",
       "      <td>1</td>\n",
       "      <td>咖啡豆</td>\n",
       "      <td>0.169636</td>\n",
       "      <td>ka1-fei1-dou4</td>\n",
       "      <td>Coffee beans</td>\n",
       "    </tr>\n",
       "    <tr>\n",
       "      <td>2</td>\n",
       "      <td>烘焙</td>\n",
       "      <td>0.097483</td>\n",
       "      <td>hong1-bei4</td>\n",
       "      <td>Baking</td>\n",
       "    </tr>\n",
       "    <tr>\n",
       "      <td>3</td>\n",
       "      <td>研磨</td>\n",
       "      <td>0.072999</td>\n",
       "      <td>yan2-mo2</td>\n",
       "      <td>Grinding</td>\n",
       "    </tr>\n",
       "    <tr>\n",
       "      <td>4</td>\n",
       "      <td>大利</td>\n",
       "      <td>0.055638</td>\n",
       "      <td>da4-li4</td>\n",
       "      <td>Big profit</td>\n",
       "    </tr>\n",
       "    <tr>\n",
       "      <td>5</td>\n",
       "      <td>萃取</td>\n",
       "      <td>0.047779</td>\n",
       "      <td>cui4-qu3</td>\n",
       "      <td>extraction</td>\n",
       "    </tr>\n",
       "    <tr>\n",
       "      <td>6</td>\n",
       "      <td>咖啡粉</td>\n",
       "      <td>0.047240</td>\n",
       "      <td>ka1-fei1-fen3</td>\n",
       "      <td>coffee powder</td>\n",
       "    </tr>\n",
       "    <tr>\n",
       "      <td>7</td>\n",
       "      <td>風味</td>\n",
       "      <td>0.046564</td>\n",
       "      <td>feng1-wei4</td>\n",
       "      <td>Flavor</td>\n",
       "    </tr>\n",
       "    <tr>\n",
       "      <td>8</td>\n",
       "      <td>饮料</td>\n",
       "      <td>0.042326</td>\n",
       "      <td>yin3-liao4</td>\n",
       "      <td>Drink</td>\n",
       "    </tr>\n",
       "    <tr>\n",
       "      <td>9</td>\n",
       "      <td>制作</td>\n",
       "      <td>0.041923</td>\n",
       "      <td>zhi4-zuo4</td>\n",
       "      <td>Production</td>\n",
       "    </tr>\n",
       "    <tr>\n",
       "      <td>10</td>\n",
       "      <td>牛奶</td>\n",
       "      <td>0.041118</td>\n",
       "      <td>niu2-nai3</td>\n",
       "      <td>milk</td>\n",
       "    </tr>\n",
       "    <tr>\n",
       "      <td>11</td>\n",
       "      <td>毫升</td>\n",
       "      <td>0.038888</td>\n",
       "      <td>hao2-sheng1</td>\n",
       "      <td>Ml</td>\n",
       "    </tr>\n",
       "    <tr>\n",
       "      <td>12</td>\n",
       "      <td>咖啡因</td>\n",
       "      <td>0.038282</td>\n",
       "      <td>ka1-fei1-yin1</td>\n",
       "      <td>caffeine</td>\n",
       "    </tr>\n",
       "    <tr>\n",
       "      <td>13</td>\n",
       "      <td>飲用</td>\n",
       "      <td>0.036761</td>\n",
       "      <td>yin3-yong4</td>\n",
       "      <td>drink</td>\n",
       "    </tr>\n",
       "    <tr>\n",
       "      <td>15</td>\n",
       "      <td>咖啡店</td>\n",
       "      <td>0.031298</td>\n",
       "      <td>ka1-fei1-dian4</td>\n",
       "      <td>Coffee shop</td>\n",
       "    </tr>\n",
       "    <tr>\n",
       "      <td>16</td>\n",
       "      <td>過程</td>\n",
       "      <td>0.029409</td>\n",
       "      <td>guo4-cheng2</td>\n",
       "      <td>process</td>\n",
       "    </tr>\n",
       "    <tr>\n",
       "      <td>17</td>\n",
       "      <td>世紀</td>\n",
       "      <td>0.026958</td>\n",
       "      <td>shi4-ji4</td>\n",
       "      <td>century</td>\n",
       "    </tr>\n",
       "    <tr>\n",
       "      <td>18</td>\n",
       "      <td>地區</td>\n",
       "      <td>0.024508</td>\n",
       "      <td>di4-qu1</td>\n",
       "      <td>area</td>\n",
       "    </tr>\n",
       "    <tr>\n",
       "      <td>19</td>\n",
       "      <td>咖啡机</td>\n",
       "      <td>0.024508</td>\n",
       "      <td>ka1-fei1-ji1</td>\n",
       "      <td>Coffee machine</td>\n",
       "    </tr>\n",
       "  </tbody>\n",
       "</table>\n",
       "</div>"
      ],
      "text/plain": [
       "   漢字(traditional)    weight pinyin(numbers)         English\n",
       "0               咖啡  0.548678        ka1-fei1          coffee\n",
       "1              咖啡豆  0.169636   ka1-fei1-dou4    Coffee beans\n",
       "2               烘焙  0.097483      hong1-bei4          Baking\n",
       "3               研磨  0.072999        yan2-mo2        Grinding\n",
       "4               大利  0.055638         da4-li4      Big profit\n",
       "5               萃取  0.047779        cui4-qu3      extraction\n",
       "6              咖啡粉  0.047240   ka1-fei1-fen3   coffee powder\n",
       "7               風味  0.046564      feng1-wei4          Flavor\n",
       "8               饮料  0.042326      yin3-liao4           Drink\n",
       "9               制作  0.041923       zhi4-zuo4      Production\n",
       "10              牛奶  0.041118       niu2-nai3            milk\n",
       "11              毫升  0.038888     hao2-sheng1              Ml\n",
       "12             咖啡因  0.038282   ka1-fei1-yin1        caffeine\n",
       "13              飲用  0.036761      yin3-yong4           drink\n",
       "15             咖啡店  0.031298  ka1-fei1-dian4     Coffee shop\n",
       "16              過程  0.029409     guo4-cheng2         process\n",
       "17              世紀  0.026958        shi4-ji4         century\n",
       "18              地區  0.024508         di4-qu1            area\n",
       "19             咖啡机  0.024508    ka1-fei1-ji1  Coffee machine"
      ]
     },
     "execution_count": 40,
     "metadata": {},
     "output_type": "execute_result"
    }
   ],
   "source": [
    "# Rename the columns to something I like a bit better.\n",
    "df.columns = ['漢字(traditional)', 'weight', 'pinyin(numbers)', 'English']\n",
    "df"
   ]
  },
  {
   "cell_type": "markdown",
   "metadata": {},
   "source": [
    "# Bring in cc-cedict dictionary"
   ]
  },
  {
   "cell_type": "code",
   "execution_count": 41,
   "metadata": {},
   "outputs": [],
   "source": [
    "dictionary = pd.read_csv('cedict.csv',sep='|', skiprows=0)"
   ]
  },
  {
   "cell_type": "code",
   "execution_count": 42,
   "metadata": {
    "scrolled": true
   },
   "outputs": [],
   "source": [
    "dictionary.columns = [\"漢字(traditional)\", \"汉字(simplified)\", \"pinyin(marks)\", \"English2\"]"
   ]
  },
  {
   "cell_type": "code",
   "execution_count": 43,
   "metadata": {},
   "outputs": [],
   "source": [
    "df2= pd.merge(df, dictionary, on=\"漢字(traditional)\", how='left')"
   ]
  },
  {
   "cell_type": "code",
   "execution_count": 44,
   "metadata": {
    "scrolled": false
   },
   "outputs": [
    {
     "data": {
      "text/plain": [
       "Index(['漢字(traditional)', 'weight', 'pinyin(numbers)', 'English',\n",
       "       '汉字(simplified)', 'pinyin(marks)', 'English2'],\n",
       "      dtype='object')"
      ]
     },
     "execution_count": 44,
     "metadata": {},
     "output_type": "execute_result"
    }
   ],
   "source": [
    "df2.columns"
   ]
  },
  {
   "cell_type": "code",
   "execution_count": 45,
   "metadata": {},
   "outputs": [],
   "source": [
    "# rearrange the columns in a way that makes sense\n",
    "df2 = df2[[\"漢字(traditional)\",\"汉字(simplified)\",\"English\",\"English2\",\"pinyin(marks)\",\"pinyin(numbers)\"]]"
   ]
  },
  {
   "cell_type": "code",
   "execution_count": 46,
   "metadata": {},
   "outputs": [
    {
     "data": {
      "text/html": [
       "<div>\n",
       "<style scoped>\n",
       "    .dataframe tbody tr th:only-of-type {\n",
       "        vertical-align: middle;\n",
       "    }\n",
       "\n",
       "    .dataframe tbody tr th {\n",
       "        vertical-align: top;\n",
       "    }\n",
       "\n",
       "    .dataframe thead th {\n",
       "        text-align: right;\n",
       "    }\n",
       "</style>\n",
       "<table border=\"1\" class=\"dataframe\">\n",
       "  <thead>\n",
       "    <tr style=\"text-align: right;\">\n",
       "      <th></th>\n",
       "      <th>漢字(traditional)</th>\n",
       "      <th>汉字(simplified)</th>\n",
       "      <th>English</th>\n",
       "      <th>English2</th>\n",
       "      <th>pinyin(marks)</th>\n",
       "      <th>pinyin(numbers)</th>\n",
       "    </tr>\n",
       "  </thead>\n",
       "  <tbody>\n",
       "    <tr>\n",
       "      <td>0</td>\n",
       "      <td>咖啡</td>\n",
       "      <td>NaN</td>\n",
       "      <td>coffee</td>\n",
       "      <td>coffee (loanword); CL:杯[bei1].</td>\n",
       "      <td>kā fēi</td>\n",
       "      <td>ka1-fei1</td>\n",
       "    </tr>\n",
       "    <tr>\n",
       "      <td>1</td>\n",
       "      <td>咖啡豆</td>\n",
       "      <td>NaN</td>\n",
       "      <td>Coffee beans</td>\n",
       "      <td>coffee beans.</td>\n",
       "      <td>kā fēi dòu</td>\n",
       "      <td>ka1-fei1-dou4</td>\n",
       "    </tr>\n",
       "    <tr>\n",
       "      <td>2</td>\n",
       "      <td>烘焙</td>\n",
       "      <td>NaN</td>\n",
       "      <td>Baking</td>\n",
       "      <td>to cure by drying over a fire (tea, meat etc);...</td>\n",
       "      <td>hōng bèi</td>\n",
       "      <td>hong1-bei4</td>\n",
       "    </tr>\n",
       "    <tr>\n",
       "      <td>3</td>\n",
       "      <td>研磨</td>\n",
       "      <td>NaN</td>\n",
       "      <td>Grinding</td>\n",
       "      <td>milling; to grind; to polish by grinding; to a...</td>\n",
       "      <td>yán mó</td>\n",
       "      <td>yan2-mo2</td>\n",
       "    </tr>\n",
       "    <tr>\n",
       "      <td>4</td>\n",
       "      <td>大利</td>\n",
       "      <td>NaN</td>\n",
       "      <td>Big profit</td>\n",
       "      <td>NaN</td>\n",
       "      <td>NaN</td>\n",
       "      <td>da4-li4</td>\n",
       "    </tr>\n",
       "    <tr>\n",
       "      <td>5</td>\n",
       "      <td>萃取</td>\n",
       "      <td>NaN</td>\n",
       "      <td>extraction</td>\n",
       "      <td>(chemistry) liquid-liquid extraction (aka solv...</td>\n",
       "      <td>cuì qǔ</td>\n",
       "      <td>cui4-qu3</td>\n",
       "    </tr>\n",
       "    <tr>\n",
       "      <td>6</td>\n",
       "      <td>咖啡粉</td>\n",
       "      <td>NaN</td>\n",
       "      <td>coffee powder</td>\n",
       "      <td>NaN</td>\n",
       "      <td>NaN</td>\n",
       "      <td>ka1-fei1-fen3</td>\n",
       "    </tr>\n",
       "    <tr>\n",
       "      <td>7</td>\n",
       "      <td>風味</td>\n",
       "      <td>风味</td>\n",
       "      <td>Flavor</td>\n",
       "      <td>distinctive flavor; distinctive style.</td>\n",
       "      <td>fēng wèi</td>\n",
       "      <td>feng1-wei4</td>\n",
       "    </tr>\n",
       "    <tr>\n",
       "      <td>8</td>\n",
       "      <td>饮料</td>\n",
       "      <td>NaN</td>\n",
       "      <td>Drink</td>\n",
       "      <td>NaN</td>\n",
       "      <td>NaN</td>\n",
       "      <td>yin3-liao4</td>\n",
       "    </tr>\n",
       "    <tr>\n",
       "      <td>9</td>\n",
       "      <td>制作</td>\n",
       "      <td>NaN</td>\n",
       "      <td>Production</td>\n",
       "      <td>NaN</td>\n",
       "      <td>NaN</td>\n",
       "      <td>zhi4-zuo4</td>\n",
       "    </tr>\n",
       "    <tr>\n",
       "      <td>10</td>\n",
       "      <td>牛奶</td>\n",
       "      <td>NaN</td>\n",
       "      <td>milk</td>\n",
       "      <td>cow's milk; CL:瓶[ping2],杯[bei1].</td>\n",
       "      <td>niú nǎi</td>\n",
       "      <td>niu2-nai3</td>\n",
       "    </tr>\n",
       "    <tr>\n",
       "      <td>11</td>\n",
       "      <td>毫升</td>\n",
       "      <td>NaN</td>\n",
       "      <td>Ml</td>\n",
       "      <td>milliliter.</td>\n",
       "      <td>háo shēng</td>\n",
       "      <td>hao2-sheng1</td>\n",
       "    </tr>\n",
       "    <tr>\n",
       "      <td>12</td>\n",
       "      <td>咖啡因</td>\n",
       "      <td>NaN</td>\n",
       "      <td>caffeine</td>\n",
       "      <td>caffeine (loanword).</td>\n",
       "      <td>kā fēi yīn</td>\n",
       "      <td>ka1-fei1-yin1</td>\n",
       "    </tr>\n",
       "    <tr>\n",
       "      <td>13</td>\n",
       "      <td>飲用</td>\n",
       "      <td>饮用</td>\n",
       "      <td>drink</td>\n",
       "      <td>drink; drinking or drinkable (water).</td>\n",
       "      <td>yǐn yòng</td>\n",
       "      <td>yin3-yong4</td>\n",
       "    </tr>\n",
       "    <tr>\n",
       "      <td>14</td>\n",
       "      <td>咖啡店</td>\n",
       "      <td>NaN</td>\n",
       "      <td>Coffee shop</td>\n",
       "      <td>café; coffee shop.</td>\n",
       "      <td>kā fēi diàn</td>\n",
       "      <td>ka1-fei1-dian4</td>\n",
       "    </tr>\n",
       "    <tr>\n",
       "      <td>15</td>\n",
       "      <td>過程</td>\n",
       "      <td>过程</td>\n",
       "      <td>process</td>\n",
       "      <td>course of events; process; CL:個/个[ge4].</td>\n",
       "      <td>guò chéng</td>\n",
       "      <td>guo4-cheng2</td>\n",
       "    </tr>\n",
       "    <tr>\n",
       "      <td>16</td>\n",
       "      <td>世紀</td>\n",
       "      <td>世纪</td>\n",
       "      <td>century</td>\n",
       "      <td>century; CL:個/个[ge4].</td>\n",
       "      <td>shì jì</td>\n",
       "      <td>shi4-ji4</td>\n",
       "    </tr>\n",
       "    <tr>\n",
       "      <td>17</td>\n",
       "      <td>地區</td>\n",
       "      <td>地区</td>\n",
       "      <td>area</td>\n",
       "      <td>local; regional; district (not necessarily for...</td>\n",
       "      <td>dì qū</td>\n",
       "      <td>di4-qu1</td>\n",
       "    </tr>\n",
       "    <tr>\n",
       "      <td>18</td>\n",
       "      <td>咖啡机</td>\n",
       "      <td>NaN</td>\n",
       "      <td>Coffee machine</td>\n",
       "      <td>NaN</td>\n",
       "      <td>NaN</td>\n",
       "      <td>ka1-fei1-ji1</td>\n",
       "    </tr>\n",
       "  </tbody>\n",
       "</table>\n",
       "</div>"
      ],
      "text/plain": [
       "   漢字(traditional) 汉字(simplified)         English  \\\n",
       "0               咖啡            NaN          coffee   \n",
       "1              咖啡豆            NaN    Coffee beans   \n",
       "2               烘焙            NaN          Baking   \n",
       "3               研磨            NaN        Grinding   \n",
       "4               大利            NaN      Big profit   \n",
       "5               萃取            NaN      extraction   \n",
       "6              咖啡粉            NaN   coffee powder   \n",
       "7               風味             风味          Flavor   \n",
       "8               饮料            NaN           Drink   \n",
       "9               制作            NaN      Production   \n",
       "10              牛奶            NaN            milk   \n",
       "11              毫升            NaN              Ml   \n",
       "12             咖啡因            NaN        caffeine   \n",
       "13              飲用             饮用           drink   \n",
       "14             咖啡店            NaN     Coffee shop   \n",
       "15              過程             过程         process   \n",
       "16              世紀             世纪         century   \n",
       "17              地區             地区            area   \n",
       "18             咖啡机            NaN  Coffee machine   \n",
       "\n",
       "                                             English2 pinyin(marks)  \\\n",
       "0                      coffee (loanword); CL:杯[bei1].        kā fēi   \n",
       "1                                       coffee beans.    kā fēi dòu   \n",
       "2   to cure by drying over a fire (tea, meat etc);...      hōng bèi   \n",
       "3   milling; to grind; to polish by grinding; to a...        yán mó   \n",
       "4                                                 NaN           NaN   \n",
       "5   (chemistry) liquid-liquid extraction (aka solv...        cuì qǔ   \n",
       "6                                                 NaN           NaN   \n",
       "7              distinctive flavor; distinctive style.      fēng wèi   \n",
       "8                                                 NaN           NaN   \n",
       "9                                                 NaN           NaN   \n",
       "10                   cow's milk; CL:瓶[ping2],杯[bei1].       niú nǎi   \n",
       "11                                        milliliter.     háo shēng   \n",
       "12                               caffeine (loanword).    kā fēi yīn   \n",
       "13              drink; drinking or drinkable (water).      yǐn yòng   \n",
       "14                                 café; coffee shop.   kā fēi diàn   \n",
       "15            course of events; process; CL:個/个[ge4].     guò chéng   \n",
       "16                              century; CL:個/个[ge4].        shì jì   \n",
       "17  local; regional; district (not necessarily for...         dì qū   \n",
       "18                                                NaN           NaN   \n",
       "\n",
       "   pinyin(numbers)  \n",
       "0         ka1-fei1  \n",
       "1    ka1-fei1-dou4  \n",
       "2       hong1-bei4  \n",
       "3         yan2-mo2  \n",
       "4          da4-li4  \n",
       "5         cui4-qu3  \n",
       "6    ka1-fei1-fen3  \n",
       "7       feng1-wei4  \n",
       "8       yin3-liao4  \n",
       "9        zhi4-zuo4  \n",
       "10       niu2-nai3  \n",
       "11     hao2-sheng1  \n",
       "12   ka1-fei1-yin1  \n",
       "13      yin3-yong4  \n",
       "14  ka1-fei1-dian4  \n",
       "15     guo4-cheng2  \n",
       "16        shi4-ji4  \n",
       "17         di4-qu1  \n",
       "18    ka1-fei1-ji1  "
      ]
     },
     "execution_count": 46,
     "metadata": {},
     "output_type": "execute_result"
    }
   ],
   "source": [
    "df2"
   ]
  },
  {
   "cell_type": "markdown",
   "metadata": {},
   "source": [
    "https://en.wiktionary.org/wiki/Appendix:Mandarin_Frequency_lists"
   ]
  },
  {
   "cell_type": "code",
   "execution_count": 47,
   "metadata": {},
   "outputs": [],
   "source": [
    "most_common_words = pd.read_csv('1000words.csv', index_col=0)"
   ]
  },
  {
   "cell_type": "code",
   "execution_count": 49,
   "metadata": {
    "scrolled": true
   },
   "outputs": [
    {
     "data": {
      "text/html": [
       "<div>\n",
       "<style scoped>\n",
       "    .dataframe tbody tr th:only-of-type {\n",
       "        vertical-align: middle;\n",
       "    }\n",
       "\n",
       "    .dataframe tbody tr th {\n",
       "        vertical-align: top;\n",
       "    }\n",
       "\n",
       "    .dataframe thead th {\n",
       "        text-align: right;\n",
       "    }\n",
       "</style>\n",
       "<table border=\"1\" class=\"dataframe\">\n",
       "  <thead>\n",
       "    <tr style=\"text-align: right;\">\n",
       "      <th></th>\n",
       "      <th>Simplified</th>\n",
       "      <th>Pinyin</th>\n",
       "      <th>Meaning</th>\n",
       "    </tr>\n",
       "    <tr>\n",
       "      <th>Traditional</th>\n",
       "      <th></th>\n",
       "      <th></th>\n",
       "      <th></th>\n",
       "    </tr>\n",
       "  </thead>\n",
       "  <tbody>\n",
       "    <tr>\n",
       "      <td>不</td>\n",
       "      <td>不</td>\n",
       "      <td>bù</td>\n",
       "      <td>non, do not, no, nowise, not, nope, nae, no mo...</td>\n",
       "    </tr>\n",
       "    <tr>\n",
       "      <td>根據</td>\n",
       "      <td>根据</td>\n",
       "      <td>gēnjù</td>\n",
       "      <td>on the basis of, according to</td>\n",
       "    </tr>\n",
       "    <tr>\n",
       "      <td>常常</td>\n",
       "      <td>常常</td>\n",
       "      <td>chángcháng</td>\n",
       "      <td>oftentimes, ofttimes, commonly, ordinarily, of...</td>\n",
       "    </tr>\n",
       "    <tr>\n",
       "      <td>具有</td>\n",
       "      <td>具有</td>\n",
       "      <td>jùyǒu</td>\n",
       "      <td>be provided with, have, have got, possess, hol...</td>\n",
       "    </tr>\n",
       "    <tr>\n",
       "      <td>公共</td>\n",
       "      <td>公共</td>\n",
       "      <td>gōnggòng</td>\n",
       "      <td>common, commonly, publicly, public, communal</td>\n",
       "    </tr>\n",
       "  </tbody>\n",
       "</table>\n",
       "</div>"
      ],
      "text/plain": [
       "            Simplified      Pinyin  \\\n",
       "Traditional                          \n",
       "不                    不          bù   \n",
       "根據                  根据       gēnjù   \n",
       "常常                  常常  chángcháng   \n",
       "具有                  具有       jùyǒu   \n",
       "公共                  公共    gōnggòng   \n",
       "\n",
       "                                                       Meaning  \n",
       "Traditional                                                     \n",
       "不            non, do not, no, nowise, not, nope, nae, no mo...  \n",
       "根據                               on the basis of, according to  \n",
       "常常           oftentimes, ofttimes, commonly, ordinarily, of...  \n",
       "具有           be provided with, have, have got, possess, hol...  \n",
       "公共                common, commonly, publicly, public, communal  "
      ]
     },
     "execution_count": 49,
     "metadata": {},
     "output_type": "execute_result"
    }
   ],
   "source": [
    "most_common_words.sample(5)"
   ]
  },
  {
   "cell_type": "markdown",
   "metadata": {},
   "source": [
    "# Study Section"
   ]
  },
  {
   "cell_type": "code",
   "execution_count": 65,
   "metadata": {},
   "outputs": [],
   "source": [
    "rerun()"
   ]
  },
  {
   "cell_type": "markdown",
   "metadata": {},
   "source": [
    "## What Would You Like To Study?"
   ]
  },
  {
   "cell_type": "code",
   "execution_count": 66,
   "metadata": {},
   "outputs": [
    {
     "name": "stdout",
     "output_type": "stream",
     "text": [
      "What would you like to search for?: kung fu\n",
      "try one of the following\n",
      "['Chinese martial arts', 'Kung Fu Panda', 'Kung Fu Panda (franchise)', 'Kung Fu Yoga', 'Kung fu (term)', 'Shaolin Kung Fu', 'Kung Fu Panda 2', 'Kung Fu Panda 3', 'Kung Fu Hustle', 'Kung Fu (TV series)']\n"
     ]
    }
   ],
   "source": [
    "get_search_suggestions()"
   ]
  },
  {
   "cell_type": "code",
   "execution_count": 77,
   "metadata": {
    "scrolled": false
   },
   "outputs": [
    {
     "name": "stdout",
     "output_type": "stream",
     "text": [
      "Type one of the above search suggestions here: Batman\n",
      "page added to content\n",
      "page added to content\n",
      "process finished, all content stored in myfile.txt\n"
     ]
    },
    {
     "data": {
      "text/html": [
       "<img src=\"https://upload.wikimedia.org/wikipedia/zh/2/29/Batman_was_spreading_the_cloak.jpg\"/>"
      ],
      "text/plain": [
       "<IPython.core.display.Image object>"
      ]
     },
     "metadata": {},
     "output_type": "display_data"
    }
   ],
   "source": [
    "df = application()"
   ]
  },
  {
   "cell_type": "code",
   "execution_count": 82,
   "metadata": {},
   "outputs": [
    {
     "data": {
      "text/html": [
       "<div>\n",
       "<style scoped>\n",
       "    .dataframe tbody tr th:only-of-type {\n",
       "        vertical-align: middle;\n",
       "    }\n",
       "\n",
       "    .dataframe tbody tr th {\n",
       "        vertical-align: top;\n",
       "    }\n",
       "\n",
       "    .dataframe thead th {\n",
       "        text-align: right;\n",
       "    }\n",
       "</style>\n",
       "<table border=\"1\" class=\"dataframe\">\n",
       "  <thead>\n",
       "    <tr style=\"text-align: right;\">\n",
       "      <th></th>\n",
       "      <th>漢字(traditional)</th>\n",
       "      <th>汉字(simplified)</th>\n",
       "      <th>English</th>\n",
       "      <th>English2</th>\n",
       "      <th>pinyin(marks)</th>\n",
       "      <th>pinyin(numbers)</th>\n",
       "    </tr>\n",
       "  </thead>\n",
       "  <tbody>\n",
       "    <tr>\n",
       "      <td>0</td>\n",
       "      <td>蝙蝠侠</td>\n",
       "      <td>NaN</td>\n",
       "      <td>Batman</td>\n",
       "      <td>NaN</td>\n",
       "      <td>NaN</td>\n",
       "      <td>bian1-fu2-xia2</td>\n",
       "    </tr>\n",
       "    <tr>\n",
       "      <td>1</td>\n",
       "      <td>蝙蝠</td>\n",
       "      <td>NaN</td>\n",
       "      <td>bat</td>\n",
       "      <td>bat.</td>\n",
       "      <td>biān fú</td>\n",
       "      <td>bian1-fu2</td>\n",
       "    </tr>\n",
       "    <tr>\n",
       "      <td>2</td>\n",
       "      <td>漫画</td>\n",
       "      <td>NaN</td>\n",
       "      <td>Comic</td>\n",
       "      <td>NaN</td>\n",
       "      <td>NaN</td>\n",
       "      <td>man4-hua4</td>\n",
       "    </tr>\n",
       "    <tr>\n",
       "      <td>3</td>\n",
       "      <td>DC</td>\n",
       "      <td>NaN</td>\n",
       "      <td>DC</td>\n",
       "      <td>NaN</td>\n",
       "      <td>NaN</td>\n",
       "      <td>DC</td>\n",
       "    </tr>\n",
       "    <tr>\n",
       "      <td>4</td>\n",
       "      <td>罗宾</td>\n",
       "      <td>NaN</td>\n",
       "      <td>Robin</td>\n",
       "      <td>NaN</td>\n",
       "      <td>NaN</td>\n",
       "      <td>luo1-bin1</td>\n",
       "    </tr>\n",
       "    <tr>\n",
       "      <td>5</td>\n",
       "      <td>布鲁斯</td>\n",
       "      <td>NaN</td>\n",
       "      <td>Bruce</td>\n",
       "      <td>NaN</td>\n",
       "      <td>NaN</td>\n",
       "      <td>bu4-lu3-si1</td>\n",
       "    </tr>\n",
       "    <tr>\n",
       "      <td>6</td>\n",
       "      <td>故事</td>\n",
       "      <td>NaN</td>\n",
       "      <td>story</td>\n",
       "      <td>old practice; CL:個/个[ge4].</td>\n",
       "      <td>gù shì</td>\n",
       "      <td>gu4-shi4</td>\n",
       "    </tr>\n",
       "    <tr>\n",
       "      <td>7</td>\n",
       "      <td>故事</td>\n",
       "      <td>NaN</td>\n",
       "      <td>story</td>\n",
       "      <td>narrative; story; tale.</td>\n",
       "      <td>gù shi</td>\n",
       "      <td>gu4-shi4</td>\n",
       "    </tr>\n",
       "    <tr>\n",
       "      <td>8</td>\n",
       "      <td>凯恩</td>\n",
       "      <td>NaN</td>\n",
       "      <td>Kane</td>\n",
       "      <td>NaN</td>\n",
       "      <td>NaN</td>\n",
       "      <td>kai3-en1</td>\n",
       "    </tr>\n",
       "    <tr>\n",
       "      <td>9</td>\n",
       "      <td>漫畫</td>\n",
       "      <td>漫画</td>\n",
       "      <td>Comic</td>\n",
       "      <td>caricature; cartoon; Japanese manga.</td>\n",
       "      <td>màn huà</td>\n",
       "      <td>man4-hua4</td>\n",
       "    </tr>\n",
       "    <tr>\n",
       "      <td>10</td>\n",
       "      <td>连载</td>\n",
       "      <td>NaN</td>\n",
       "      <td>Serial</td>\n",
       "      <td>NaN</td>\n",
       "      <td>NaN</td>\n",
       "      <td>lian2-zai4</td>\n",
       "    </tr>\n",
       "    <tr>\n",
       "      <td>11</td>\n",
       "      <td>芬格</td>\n",
       "      <td>NaN</td>\n",
       "      <td>Finger</td>\n",
       "      <td>NaN</td>\n",
       "      <td>NaN</td>\n",
       "      <td>fen1-ge2</td>\n",
       "    </tr>\n",
       "    <tr>\n",
       "      <td>12</td>\n",
       "      <td>超人</td>\n",
       "      <td>NaN</td>\n",
       "      <td>Superman</td>\n",
       "      <td>Superman, comic book superhero.</td>\n",
       "      <td>Chāo rén</td>\n",
       "      <td>chao1-ren2</td>\n",
       "    </tr>\n",
       "    <tr>\n",
       "      <td>13</td>\n",
       "      <td>超人</td>\n",
       "      <td>NaN</td>\n",
       "      <td>Superman</td>\n",
       "      <td>superhuman; exceptional.</td>\n",
       "      <td>chāo rén</td>\n",
       "      <td>chao1-ren2</td>\n",
       "    </tr>\n",
       "    <tr>\n",
       "      <td>14</td>\n",
       "      <td>小丑</td>\n",
       "      <td>NaN</td>\n",
       "      <td>clown</td>\n",
       "      <td>clown.</td>\n",
       "      <td>xiǎo chǒu</td>\n",
       "      <td>xiao3-chou3</td>\n",
       "    </tr>\n",
       "    <tr>\n",
       "      <td>15</td>\n",
       "      <td>迪克</td>\n",
       "      <td>NaN</td>\n",
       "      <td>Dick</td>\n",
       "      <td>Dick (person name).</td>\n",
       "      <td>Dí kè</td>\n",
       "      <td>di2-ke4</td>\n",
       "    </tr>\n",
       "    <tr>\n",
       "      <td>16</td>\n",
       "      <td>角色</td>\n",
       "      <td>NaN</td>\n",
       "      <td>Character</td>\n",
       "      <td>role; character in a novel; persona; also pr. ...</td>\n",
       "      <td>jué sè</td>\n",
       "      <td>jiao3-se4</td>\n",
       "    </tr>\n",
       "    <tr>\n",
       "      <td>17</td>\n",
       "      <td>電影</td>\n",
       "      <td>电影</td>\n",
       "      <td>the film</td>\n",
       "      <td>movie; film; CL:部[bu4],片[pian4],幕[mu4],場/场[cha...</td>\n",
       "      <td>diàn yǐng</td>\n",
       "      <td>dian4-ying3</td>\n",
       "    </tr>\n",
       "    <tr>\n",
       "      <td>18</td>\n",
       "      <td>52</td>\n",
       "      <td>NaN</td>\n",
       "      <td>52</td>\n",
       "      <td>NaN</td>\n",
       "      <td>NaN</td>\n",
       "      <td>52</td>\n",
       "    </tr>\n",
       "    <tr>\n",
       "      <td>19</td>\n",
       "      <td>英雄</td>\n",
       "      <td>NaN</td>\n",
       "      <td>hero</td>\n",
       "      <td>hero; CL:個/个[ge4].</td>\n",
       "      <td>yīng xióng</td>\n",
       "      <td>ying1-xiong2</td>\n",
       "    </tr>\n",
       "    <tr>\n",
       "      <td>20</td>\n",
       "      <td>黑暗</td>\n",
       "      <td>NaN</td>\n",
       "      <td>dark</td>\n",
       "      <td>dark; darkly; darkness.</td>\n",
       "      <td>hēi àn</td>\n",
       "      <td>hei1-an4</td>\n",
       "    </tr>\n",
       "    <tr>\n",
       "      <td>21</td>\n",
       "      <td>布魯斯</td>\n",
       "      <td>布鲁斯</td>\n",
       "      <td>Bruce</td>\n",
       "      <td>blues (music) (loanword).</td>\n",
       "      <td>bù lǔ sī</td>\n",
       "      <td>bu4-lu3-si1</td>\n",
       "    </tr>\n",
       "  </tbody>\n",
       "</table>\n",
       "</div>"
      ],
      "text/plain": [
       "   漢字(traditional) 汉字(simplified)    English  \\\n",
       "0              蝙蝠侠            NaN     Batman   \n",
       "1               蝙蝠            NaN        bat   \n",
       "2               漫画            NaN      Comic   \n",
       "3               DC            NaN         DC   \n",
       "4               罗宾            NaN      Robin   \n",
       "5              布鲁斯            NaN      Bruce   \n",
       "6               故事            NaN      story   \n",
       "7               故事            NaN      story   \n",
       "8               凯恩            NaN       Kane   \n",
       "9               漫畫             漫画      Comic   \n",
       "10              连载            NaN     Serial   \n",
       "11              芬格            NaN     Finger   \n",
       "12              超人            NaN   Superman   \n",
       "13              超人            NaN   Superman   \n",
       "14              小丑            NaN      clown   \n",
       "15              迪克            NaN       Dick   \n",
       "16              角色            NaN  Character   \n",
       "17              電影             电影   the film   \n",
       "18              52            NaN         52   \n",
       "19              英雄            NaN       hero   \n",
       "20              黑暗            NaN       dark   \n",
       "21             布魯斯            布鲁斯      Bruce   \n",
       "\n",
       "                                             English2 pinyin(marks)  \\\n",
       "0                                                 NaN           NaN   \n",
       "1                                                bat.       biān fú   \n",
       "2                                                 NaN           NaN   \n",
       "3                                                 NaN           NaN   \n",
       "4                                                 NaN           NaN   \n",
       "5                                                 NaN           NaN   \n",
       "6                          old practice; CL:個/个[ge4].        gù shì   \n",
       "7                             narrative; story; tale.        gù shi   \n",
       "8                                                 NaN           NaN   \n",
       "9                caricature; cartoon; Japanese manga.       màn huà   \n",
       "10                                                NaN           NaN   \n",
       "11                                                NaN           NaN   \n",
       "12                    Superman, comic book superhero.      Chāo rén   \n",
       "13                           superhuman; exceptional.      chāo rén   \n",
       "14                                             clown.     xiǎo chǒu   \n",
       "15                                Dick (person name).         Dí kè   \n",
       "16  role; character in a novel; persona; also pr. ...        jué sè   \n",
       "17  movie; film; CL:部[bu4],片[pian4],幕[mu4],場/场[cha...     diàn yǐng   \n",
       "18                                                NaN           NaN   \n",
       "19                                 hero; CL:個/个[ge4].    yīng xióng   \n",
       "20                            dark; darkly; darkness.        hēi àn   \n",
       "21                          blues (music) (loanword).      bù lǔ sī   \n",
       "\n",
       "   pinyin(numbers)  \n",
       "0   bian1-fu2-xia2  \n",
       "1        bian1-fu2  \n",
       "2        man4-hua4  \n",
       "3               DC  \n",
       "4        luo1-bin1  \n",
       "5      bu4-lu3-si1  \n",
       "6         gu4-shi4  \n",
       "7         gu4-shi4  \n",
       "8         kai3-en1  \n",
       "9        man4-hua4  \n",
       "10      lian2-zai4  \n",
       "11        fen1-ge2  \n",
       "12      chao1-ren2  \n",
       "13      chao1-ren2  \n",
       "14     xiao3-chou3  \n",
       "15         di2-ke4  \n",
       "16       jiao3-se4  \n",
       "17     dian4-ying3  \n",
       "18              52  \n",
       "19    ying1-xiong2  \n",
       "20        hei1-an4  \n",
       "21     bu4-lu3-si1  "
      ]
     },
     "execution_count": 82,
     "metadata": {},
     "output_type": "execute_result"
    }
   ],
   "source": [
    "df.columns = ['漢字(traditional)', 'weight', 'pinyin(numbers)', 'English']\n",
    "df2= pd.merge(df, dictionary, on=\"漢字(traditional)\", how='left')\n",
    "df2 = df2[[\"漢字(traditional)\",\"汉字(simplified)\",\"English\",\"English2\",\"pinyin(marks)\",\"pinyin(numbers)\"]]\n",
    "df2"
   ]
  },
  {
   "cell_type": "code",
   "execution_count": 79,
   "metadata": {
    "scrolled": true
   },
   "outputs": [
    {
     "name": "stdout",
     "output_type": "stream",
     "text": [
      "Batman\n",
      "bat\n",
      "Comic\n",
      "DC\n",
      "Robin\n",
      "Bruce\n",
      "story\n",
      "Kane\n",
      "Comic\n",
      "Serial\n",
      "Finger\n",
      "Superman\n",
      "clown\n",
      "Dick\n",
      "Character\n",
      "the film\n",
      "52\n",
      "hero\n",
      "dark\n",
      "Bruce\n"
     ]
    }
   ],
   "source": [
    "for index,row in df.iterrows():\n",
    "    print(row['English'])\n",
    "    #time.sleep(10)\n",
    "    pronounce_chinese(row['Chinese'])"
   ]
  },
  {
   "cell_type": "code",
   "execution_count": null,
   "metadata": {},
   "outputs": [],
   "source": [
    "pronounce_chinese(\"克拉克\")"
   ]
  }
 ],
 "metadata": {
  "kernelspec": {
   "display_name": "PyCharm (Capstone)",
   "language": "python",
   "name": "pycharm-b15c546e"
  },
  "language_info": {
   "codemirror_mode": {
    "name": "ipython",
    "version": 3
   },
   "file_extension": ".py",
   "mimetype": "text/x-python",
   "name": "python",
   "nbconvert_exporter": "python",
   "pygments_lexer": "ipython3",
   "version": "3.7.4"
  },
  "pycharm": {
   "stem_cell": {
    "cell_type": "raw",
    "metadata": {
     "collapsed": false
    },
    "source": []
   }
  },
  "varInspector": {
   "cols": {
    "lenName": 16,
    "lenType": 16,
    "lenVar": 40
   },
   "kernels_config": {
    "python": {
     "delete_cmd_postfix": "",
     "delete_cmd_prefix": "del ",
     "library": "var_list.py",
     "varRefreshCmd": "print(var_dic_list())"
    },
    "r": {
     "delete_cmd_postfix": ") ",
     "delete_cmd_prefix": "rm(",
     "library": "var_list.r",
     "varRefreshCmd": "cat(var_dic_list()) "
    }
   },
   "oldHeight": 122,
   "position": {
    "height": "144px",
    "left": "910px",
    "right": "20px",
    "top": "121px",
    "width": "350px"
   },
   "types_to_exclude": [
    "module",
    "function",
    "builtin_function_or_method",
    "instance",
    "_Feature"
   ],
   "varInspector_section_display": "block",
   "window_display": false
  },
  "widgets": {
   "application/vnd.jupyter.widget-state+json": {
    "state": {},
    "version_major": 2,
    "version_minor": 0
   }
  }
 },
 "nbformat": 4,
 "nbformat_minor": 1
}
